{
  "nbformat": 4,
  "nbformat_minor": 0,
  "metadata": {
    "colab": {
      "name": "MCDropout.ipynb",
      "provenance": [],
      "collapsed_sections": [],
      "toc_visible": true,
      "authorship_tag": "ABX9TyMEyhV8KIZ3PnzDyCRwN9g6",
      "include_colab_link": true
    },
    "kernelspec": {
      "name": "python3",
      "display_name": "Python 3"
    },
    "accelerator": "GPU"
  },
  "cells": [
    {
      "cell_type": "markdown",
      "metadata": {
        "id": "view-in-github",
        "colab_type": "text"
      },
      "source": [
        "<a href=\"https://colab.research.google.com/github/Panos277/ProjectsMS/blob/master/MCDropout.ipynb\" target=\"_parent\"><img src=\"https://colab.research.google.com/assets/colab-badge.svg\" alt=\"Open In Colab\"/></a>"
      ]
    },
    {
      "cell_type": "code",
      "metadata": {
        "id": "gRPJ4ULdki-p",
        "outputId": "b83ca23d-713b-4928-f3aa-f5c5cfcf2719",
        "colab": {
          "base_uri": "https://localhost:8080/"
        }
      },
      "source": [
        "!pip install torch torchvision pytorch-lightning optuna\n",
        "\n"
      ],
      "execution_count": null,
      "outputs": [
        {
          "output_type": "stream",
          "text": [
            "Requirement already satisfied: torch in /usr/local/lib/python3.6/dist-packages (1.6.0+cu101)\n",
            "Requirement already satisfied: torchvision in /usr/local/lib/python3.6/dist-packages (0.7.0+cu101)\n",
            "Requirement already satisfied: pytorch-lightning in /usr/local/lib/python3.6/dist-packages (1.0.4)\n",
            "Requirement already satisfied: optuna in /usr/local/lib/python3.6/dist-packages (2.2.0)\n",
            "Requirement already satisfied: future in /usr/local/lib/python3.6/dist-packages (from torch) (0.16.0)\n",
            "Requirement already satisfied: numpy in /usr/local/lib/python3.6/dist-packages (from torch) (1.18.5)\n",
            "Requirement already satisfied: pillow>=4.1.1 in /usr/local/lib/python3.6/dist-packages (from torchvision) (7.0.0)\n",
            "Requirement already satisfied: tensorboard>=2.2.0 in /usr/local/lib/python3.6/dist-packages (from pytorch-lightning) (2.3.0)\n",
            "Requirement already satisfied: fsspec>=0.8.0 in /usr/local/lib/python3.6/dist-packages (from pytorch-lightning) (0.8.4)\n",
            "Requirement already satisfied: PyYAML>=5.1 in /usr/local/lib/python3.6/dist-packages (from pytorch-lightning) (5.3.1)\n",
            "Requirement already satisfied: tqdm>=4.41.0 in /usr/local/lib/python3.6/dist-packages (from pytorch-lightning) (4.41.1)\n",
            "Requirement already satisfied: alembic in /usr/local/lib/python3.6/dist-packages (from optuna) (1.4.3)\n",
            "Requirement already satisfied: joblib in /usr/local/lib/python3.6/dist-packages (from optuna) (0.17.0)\n",
            "Requirement already satisfied: scipy!=1.4.0 in /usr/local/lib/python3.6/dist-packages (from optuna) (1.4.1)\n",
            "Requirement already satisfied: sqlalchemy>=1.1.0 in /usr/local/lib/python3.6/dist-packages (from optuna) (1.3.20)\n",
            "Requirement already satisfied: cmaes>=0.6.0 in /usr/local/lib/python3.6/dist-packages (from optuna) (0.7.0)\n",
            "Requirement already satisfied: colorlog in /usr/local/lib/python3.6/dist-packages (from optuna) (4.4.0)\n",
            "Requirement already satisfied: packaging>=20.0 in /usr/local/lib/python3.6/dist-packages (from optuna) (20.4)\n",
            "Requirement already satisfied: cliff in /usr/local/lib/python3.6/dist-packages (from optuna) (3.4.0)\n",
            "Requirement already satisfied: werkzeug>=0.11.15 in /usr/local/lib/python3.6/dist-packages (from tensorboard>=2.2.0->pytorch-lightning) (1.0.1)\n",
            "Requirement already satisfied: absl-py>=0.4 in /usr/local/lib/python3.6/dist-packages (from tensorboard>=2.2.0->pytorch-lightning) (0.10.0)\n",
            "Requirement already satisfied: markdown>=2.6.8 in /usr/local/lib/python3.6/dist-packages (from tensorboard>=2.2.0->pytorch-lightning) (3.3.2)\n",
            "Requirement already satisfied: protobuf>=3.6.0 in /usr/local/lib/python3.6/dist-packages (from tensorboard>=2.2.0->pytorch-lightning) (3.12.4)\n",
            "Requirement already satisfied: google-auth<2,>=1.6.3 in /usr/local/lib/python3.6/dist-packages (from tensorboard>=2.2.0->pytorch-lightning) (1.17.2)\n",
            "Requirement already satisfied: tensorboard-plugin-wit>=1.6.0 in /usr/local/lib/python3.6/dist-packages (from tensorboard>=2.2.0->pytorch-lightning) (1.7.0)\n",
            "Requirement already satisfied: requests<3,>=2.21.0 in /usr/local/lib/python3.6/dist-packages (from tensorboard>=2.2.0->pytorch-lightning) (2.23.0)\n",
            "Requirement already satisfied: six>=1.10.0 in /usr/local/lib/python3.6/dist-packages (from tensorboard>=2.2.0->pytorch-lightning) (1.15.0)\n",
            "Requirement already satisfied: wheel>=0.26; python_version >= \"3\" in /usr/local/lib/python3.6/dist-packages (from tensorboard>=2.2.0->pytorch-lightning) (0.35.1)\n",
            "Requirement already satisfied: setuptools>=41.0.0 in /usr/local/lib/python3.6/dist-packages (from tensorboard>=2.2.0->pytorch-lightning) (50.3.2)\n",
            "Requirement already satisfied: grpcio>=1.24.3 in /usr/local/lib/python3.6/dist-packages (from tensorboard>=2.2.0->pytorch-lightning) (1.33.1)\n",
            "Requirement already satisfied: google-auth-oauthlib<0.5,>=0.4.1 in /usr/local/lib/python3.6/dist-packages (from tensorboard>=2.2.0->pytorch-lightning) (0.4.1)\n",
            "Requirement already satisfied: python-dateutil in /usr/local/lib/python3.6/dist-packages (from alembic->optuna) (2.8.1)\n",
            "Requirement already satisfied: python-editor>=0.3 in /usr/local/lib/python3.6/dist-packages (from alembic->optuna) (1.0.4)\n",
            "Requirement already satisfied: Mako in /usr/local/lib/python3.6/dist-packages (from alembic->optuna) (1.1.3)\n",
            "Requirement already satisfied: pyparsing>=2.0.2 in /usr/local/lib/python3.6/dist-packages (from packaging>=20.0->optuna) (2.4.7)\n",
            "Requirement already satisfied: stevedore>=2.0.1 in /usr/local/lib/python3.6/dist-packages (from cliff->optuna) (3.2.2)\n",
            "Requirement already satisfied: pbr!=2.1.0,>=2.0.0 in /usr/local/lib/python3.6/dist-packages (from cliff->optuna) (5.5.1)\n",
            "Requirement already satisfied: cmd2!=0.8.3,>=0.8.0 in /usr/local/lib/python3.6/dist-packages (from cliff->optuna) (1.3.11)\n",
            "Requirement already satisfied: PrettyTable<0.8,>=0.7.2 in /usr/local/lib/python3.6/dist-packages (from cliff->optuna) (0.7.2)\n",
            "Requirement already satisfied: importlib-metadata; python_version < \"3.8\" in /usr/local/lib/python3.6/dist-packages (from markdown>=2.6.8->tensorboard>=2.2.0->pytorch-lightning) (2.0.0)\n",
            "Requirement already satisfied: cachetools<5.0,>=2.0.0 in /usr/local/lib/python3.6/dist-packages (from google-auth<2,>=1.6.3->tensorboard>=2.2.0->pytorch-lightning) (4.1.1)\n",
            "Requirement already satisfied: pyasn1-modules>=0.2.1 in /usr/local/lib/python3.6/dist-packages (from google-auth<2,>=1.6.3->tensorboard>=2.2.0->pytorch-lightning) (0.2.8)\n",
            "Requirement already satisfied: rsa<5,>=3.1.4; python_version >= \"3\" in /usr/local/lib/python3.6/dist-packages (from google-auth<2,>=1.6.3->tensorboard>=2.2.0->pytorch-lightning) (4.6)\n",
            "Requirement already satisfied: certifi>=2017.4.17 in /usr/local/lib/python3.6/dist-packages (from requests<3,>=2.21.0->tensorboard>=2.2.0->pytorch-lightning) (2020.6.20)\n",
            "Requirement already satisfied: idna<3,>=2.5 in /usr/local/lib/python3.6/dist-packages (from requests<3,>=2.21.0->tensorboard>=2.2.0->pytorch-lightning) (2.10)\n",
            "Requirement already satisfied: urllib3!=1.25.0,!=1.25.1,<1.26,>=1.21.1 in /usr/local/lib/python3.6/dist-packages (from requests<3,>=2.21.0->tensorboard>=2.2.0->pytorch-lightning) (1.24.3)\n",
            "Requirement already satisfied: chardet<4,>=3.0.2 in /usr/local/lib/python3.6/dist-packages (from requests<3,>=2.21.0->tensorboard>=2.2.0->pytorch-lightning) (3.0.4)\n",
            "Requirement already satisfied: requests-oauthlib>=0.7.0 in /usr/local/lib/python3.6/dist-packages (from google-auth-oauthlib<0.5,>=0.4.1->tensorboard>=2.2.0->pytorch-lightning) (1.3.0)\n",
            "Requirement already satisfied: MarkupSafe>=0.9.2 in /usr/local/lib/python3.6/dist-packages (from Mako->alembic->optuna) (1.1.1)\n",
            "Requirement already satisfied: colorama>=0.3.7 in /usr/local/lib/python3.6/dist-packages (from cmd2!=0.8.3,>=0.8.0->cliff->optuna) (0.4.4)\n",
            "Requirement already satisfied: attrs>=16.3.0 in /usr/local/lib/python3.6/dist-packages (from cmd2!=0.8.3,>=0.8.0->cliff->optuna) (20.2.0)\n",
            "Requirement already satisfied: wcwidth>=0.1.7 in /usr/local/lib/python3.6/dist-packages (from cmd2!=0.8.3,>=0.8.0->cliff->optuna) (0.2.5)\n",
            "Requirement already satisfied: pyperclip>=1.6 in /usr/local/lib/python3.6/dist-packages (from cmd2!=0.8.3,>=0.8.0->cliff->optuna) (1.8.1)\n",
            "Requirement already satisfied: zipp>=0.5 in /usr/local/lib/python3.6/dist-packages (from importlib-metadata; python_version < \"3.8\"->markdown>=2.6.8->tensorboard>=2.2.0->pytorch-lightning) (3.3.1)\n",
            "Requirement already satisfied: pyasn1<0.5.0,>=0.4.6 in /usr/local/lib/python3.6/dist-packages (from pyasn1-modules>=0.2.1->google-auth<2,>=1.6.3->tensorboard>=2.2.0->pytorch-lightning) (0.4.8)\n",
            "Requirement already satisfied: oauthlib>=3.0.0 in /usr/local/lib/python3.6/dist-packages (from requests-oauthlib>=0.7.0->google-auth-oauthlib<0.5,>=0.4.1->tensorboard>=2.2.0->pytorch-lightning) (3.1.0)\n"
          ],
          "name": "stdout"
        }
      ]
    },
    {
      "cell_type": "code",
      "metadata": {
        "id": "kE5GntWvlEtE",
        "outputId": "f6ed0ef9-a139-42e3-c451-86fdf257bfe3",
        "colab": {
          "base_uri": "https://localhost:8080/"
        }
      },
      "source": [
        "from google.colab import drive\n",
        "drive.mount('/content/drive/')"
      ],
      "execution_count": null,
      "outputs": [
        {
          "output_type": "stream",
          "text": [
            "Mounted at /content/drive/\n"
          ],
          "name": "stdout"
        }
      ]
    },
    {
      "cell_type": "markdown",
      "metadata": {
        "id": "5QRC16AX4J3P"
      },
      "source": [
        "Change path direction"
      ]
    },
    {
      "cell_type": "code",
      "metadata": {
        "id": "907gEe4c3_2x",
        "outputId": "f6f933f1-867a-47ac-fcff-558691209d7d",
        "colab": {
          "base_uri": "https://localhost:8080/"
        }
      },
      "source": [
        "cd drive/My Drive/mcdropout_msc"
      ],
      "execution_count": null,
      "outputs": [
        {
          "output_type": "stream",
          "text": [
            "/content/drive/My Drive/mcdropout_msc\n"
          ],
          "name": "stdout"
        }
      ]
    },
    {
      "cell_type": "code",
      "metadata": {
        "id": "XkhlX6Ty4VDD"
      },
      "source": [
        "import optuna \n",
        "import os\n",
        "import pytorch_lightning as pl\n",
        "import logging.config\n",
        "import torch.nn as nn\n",
        "import torch\n",
        "import torch.nn.functional as F\n",
        "import torchvision\n",
        "import pandas as pd\n",
        "import matplotlib.pyplot as plt\n",
        "import numpy as np\n",
        "import matplotlib.gridspec as gridspec\n",
        "\n",
        "from optuna.integration import PyTorchLightningPruningCallback\n",
        "from torch.utils.data import DataLoader, random_split,TensorDataset\n",
        "from sklearn.model_selection import train_test_split\n",
        "from scipy.ndimage.interpolation import rotate\n",
        "from mpl_toolkits.axes_grid1 import ImageGrid\n",
        "from sklearn.metrics import accuracy_score\n",
        "from scipy.stats import entropy\n",
        "\n",
        "from dataload import DataLoader as DL2\n",
        "from dataload import MyDataset,ImageLoader\n",
        "from nns import LeNet, LitModule, BNNRegressor\n",
        "from utils import MetricsCallback,predict_mc\n",
        "\n",
        "\n",
        "MODEL_DIR = \"./model_dir/\""
      ],
      "execution_count": null,
      "outputs": []
    },
    {
      "cell_type": "markdown",
      "metadata": {
        "id": "LONNISYgIky0"
      },
      "source": [
        "Defining loss functions"
      ]
    },
    {
      "cell_type": "code",
      "metadata": {
        "id": "TyyeahCspoPz"
      },
      "source": [
        "#regression loss\n",
        "# loss = nn.MSELoss(reduction='mean')\n",
        "#classification loss\n",
        "# loss = nn.CrossEntropyLoss()\n",
        "loss = nn.NLLLoss()"
      ],
      "execution_count": null,
      "outputs": []
    },
    {
      "cell_type": "markdown",
      "metadata": {
        "id": "KSlniDGm9Sto"
      },
      "source": [
        "**Load Dataset for regression**"
      ]
    },
    {
      "cell_type": "code",
      "metadata": {
        "id": "dK_c2e6s50B2"
      },
      "source": [
        "# dl = DL2(dataset='concrete')\n",
        "# X, y = dl.return_data()\n",
        "# X_train, X_test, y_train, y_test = train_test_split(X,y,test_size=0.1,random_state=123,shuffle=True)\n",
        "\n",
        "# X_train_ , X_val, y_train_, y_val = train_test_split(X_train,y_train,test_size=0.1,random_state=123,shuffle=True)\n",
        "\n",
        "# y_train_ = y_train_.reshape((y_train_.shape[0],1))\n",
        "# y_val = y_val.reshape((y_val.shape[0],1))\n",
        "# y_test = y_test.reshape((y_test.shape[0],1))\n",
        "\n",
        "\n",
        "# train_dataset = TensorDataset(torch.tensor(X_train_).float(),torch.tensor(y_train_).float())\n",
        "# val_dataset = TensorDataset(torch.tensor(X_val).float(),torch.tensor(y_val).float())\n",
        "# test_dataset = TensorDataset(torch.tensor(X_test).float(),torch.tensor(y_test).float())\n",
        "\n",
        "# train_dataloader = DataLoader(train_dataset,batch_size=16)\n",
        "# val_dataloader = DataLoader(val_dataset,batch_size=16)"
      ],
      "execution_count": null,
      "outputs": []
    },
    {
      "cell_type": "markdown",
      "metadata": {
        "id": "JI1u1yPL7mYt"
      },
      "source": [
        "**Load dataset for classification**"
      ]
    },
    {
      "cell_type": "code",
      "metadata": {
        "id": "yDZcW13y_a1A"
      },
      "source": [
        "transform=torchvision.transforms.Compose([torchvision.transforms.ToTensor(),\n",
        "                                          torchvision.transforms.Normalize(\n",
        "                                          (0.1307,), (0.3081,))])\n",
        "\n",
        "trainset = torchvision.datasets.MNIST(root='datasets/MNIST', train=True, download=True, transform=transform)\n",
        "testset = torchvision.datasets.MNIST(root='datasets/MNIST', train=False, transform=transform)\n",
        "\n",
        "val, test = torch.utils.data.random_split(testset, [5000, 5000])\n",
        "\n",
        "train_dataloader = torch.utils.data.DataLoader(trainset, batch_size=256, shuffle=True)\n",
        "val_dataloader = torch.utils.data.DataLoader(val,batch_size=128, shuffle=True)\n",
        "test_dataloader = torch.utils.data.DataLoader(test, batch_size=128, shuffle=False)\n",
        "\n",
        "# for faces\n",
        "# transform=torchvision.transforms.Compose([torchvision.transforms.ToTensor(),\n",
        "#                                            torchvision.transforms.Normalize(\n",
        "#                                            (0.485, 0.456, 0.406), (0.229, 0.224, 0.225))])\n",
        "\n",
        "\n",
        "# trainset = ImageLoader(X_train_,y_train_,transform)\n",
        "# valset = ImageLoader(X_val,y_val,transform)\n",
        "# testset = ImageLoader(X_test,y_test,transform)\n",
        "\n",
        "# train_dataloader = torch.utils.data.DataLoader(trainset, batch_size=8, shuffle=True)\n",
        "# val_dataloader = torch.utils.data.DataLoader(valset, batch_size=8, shuffle=True)\n",
        "# test_dataloader = torch.utils.data.DataLoader(testset, batch_size=8, shuffle=True)\n",
        "                                          "
      ],
      "execution_count": null,
      "outputs": []
    },
    {
      "cell_type": "code",
      "metadata": {
        "id": "SRi4dnoF7XCg"
      },
      "source": [
        "\n",
        "def objective(trial):\n",
        "\n",
        "  checkpoint_callback = pl.callbacks.ModelCheckpoint(\n",
        "  os.path.join(MODEL_DIR, \"trial_{}\".format(trial.number)), monitor=\"val_loss_epoch\")\n",
        "  \n",
        "\n",
        "  p = trial.suggest_float('drop',0.1,0.6)\n",
        "  l1 = trial.suggest_int('l1',64,1024)\n",
        "  l2 = trial.suggest_int('l2',64,1024)\n",
        "  l3 = trial.suggest_int('l3',64,1024)\n",
        "  lr = trial.suggest_loguniform('lr',1e-5,0.1)\n",
        "\n",
        "  #set seed to everything for reproducibility\n",
        "  pl.seed_everything(42)\n",
        "\n",
        "  backbone = BNNRegressor(\n",
        "      input_dim  = X_train_.shape[1],\n",
        "      out_dim = y_train_.shape[1],\n",
        "      droprate = p,\n",
        "      lin1 = l1,\n",
        "      lin2 = l2,\n",
        "      lin3 = l3\n",
        "      )\n",
        "\n",
        "  # backbone = LeNet(droprate = p)\n",
        "  \n",
        "  metrics_callback = MetricsCallback()\n",
        "\n",
        "\n",
        "  trainer_args = {\n",
        "                  'logger':False,\n",
        "                  'checkpoint_callback':checkpoint_callback,\n",
        "                  'max_epochs':50,\n",
        "                  'gpus':1,\n",
        "                  'callbacks':[metrics_callback, \n",
        "                               PyTorchLightningPruningCallback(trial, monitor=\"val_loss\")],\n",
        "                  'deterministic':False\n",
        "                  }\n",
        "\n",
        "  lit = LitModule(\n",
        "                  backbone = backbone,\n",
        "                  optim =  torch.optim.Adam,\n",
        "                  reg = 0.01,\n",
        "                  learning_rate = lr,\n",
        "                  loss = loss)\n",
        "  \n",
        "  trainer = pl.Trainer(**trainer_args)\n",
        "\n",
        "  trainer.fit(lit,train_dataloader,val_dataloader)\n",
        "\n",
        "  # print('Accuracy : ',metrics_callback.metrics[-1]['val_acc'].item())\n",
        "  return metrics_callback.metrics[-1][\"val_loss\"].item()\n"
      ],
      "execution_count": null,
      "outputs": []
    },
    {
      "cell_type": "code",
      "metadata": {
        "id": "TM397m-wDXHI"
      },
      "source": [
        "pruner = optuna.pruners.MedianPruner() \n",
        "\n",
        "study = optuna.create_study(direction=\"minimize\", pruner=pruner)\n",
        "study.optimize(objective, n_trials=20)"
      ],
      "execution_count": null,
      "outputs": []
    },
    {
      "cell_type": "code",
      "metadata": {
        "id": "GtLY6j9GvYIi",
        "cellView": "both",
        "outputId": "f1825881-117f-4ede-a38d-804c6cb0badd",
        "colab": {
          "base_uri": "https://localhost:8080/",
          "height": 104
        }
      },
      "source": [
        "study.best_params"
      ],
      "execution_count": null,
      "outputs": [
        {
          "output_type": "execute_result",
          "data": {
            "text/plain": [
              "{'drop': 0.21143364826500008,\n",
              " 'l1': 133,\n",
              " 'l2': 730,\n",
              " 'l3': 695,\n",
              " 'lr': 0.006252430495241292}"
            ]
          },
          "metadata": {
            "tags": []
          },
          "execution_count": 6
        }
      ]
    },
    {
      "cell_type": "code",
      "metadata": {
        "id": "W6cs6gzNHiuI",
        "outputId": "d6d6269e-99a3-4760-b053-d95ba752bf57",
        "colab": {
          "base_uri": "https://localhost:8080/",
          "height": 34
        }
      },
      "source": [
        "study.best_value"
      ],
      "execution_count": null,
      "outputs": [
        {
          "output_type": "execute_result",
          "data": {
            "text/plain": [
              "62.92750549316406"
            ]
          },
          "metadata": {
            "tags": []
          },
          "execution_count": 7
        }
      ]
    },
    {
      "cell_type": "code",
      "metadata": {
        "id": "JNyzIIZWowdA",
        "outputId": "36da15db-4498-41bf-94bf-e6398eb34853",
        "colab": {
          "base_uri": "https://localhost:8080/"
        }
      },
      "source": [
        "backbone = LeNet(droprate = 0.102332158511991)\n",
        "\n",
        "metrics_callback = MetricsCallback()\n",
        "checkpoint_callback = pl.callbacks.ModelCheckpoint(\n",
        "  filename = 'mnist',save_top_k=1,\n",
        "   monitor=\"val_loss\")\n",
        "\n",
        "logger = pl.loggers.CSVLogger('./model_dir/mnist_ckpt/',name=\"my_logs\")\n",
        "\n",
        "trainer_args = {\n",
        "                'logger':logger,\n",
        "                'max_epochs':50,\n",
        "                'gpus':1,\n",
        "                'checkpoint_callback':checkpoint_callback,\n",
        "                'callbacks':[metrics_callback],\n",
        "                'deterministic':False\n",
        "                }\n",
        "\n",
        "lit = LitModule(\n",
        "                backbone = backbone,\n",
        "                optim =  torch.optim.Adam,\n",
        "                reg = 0.01,\n",
        "                learning_rate = 0.0125271593685619,\n",
        "                loss = loss,\n",
        "                task='classif')\n",
        "\n",
        "trainer = pl.Trainer(**trainer_args)\n",
        "\n",
        "# trainer.fit(lit,train_dataloader,val_dataloader)\n",
        "\n",
        "# print('Accuracy : ',metrics_callback.metrics[-1]['val_acc'].item())"
      ],
      "execution_count": null,
      "outputs": [
        {
          "output_type": "stream",
          "text": [
            "GPU available: True, used: True\n",
            "TPU available: False, using: 0 TPU cores\n",
            "LOCAL_RANK: 0 - CUDA_VISIBLE_DEVICES: [0]\n"
          ],
          "name": "stderr"
        }
      ]
    },
    {
      "cell_type": "code",
      "metadata": {
        "id": "IFBIILDeRIs1"
      },
      "source": [
        "path = './model_dir/mnist_ckpt/my_logs'\n",
        "metrics = pd.read_csv(path + '/version_0/metrics.csv')\n"
      ],
      "execution_count": null,
      "outputs": []
    },
    {
      "cell_type": "code",
      "metadata": {
        "id": "IfBIRAQyikYJ"
      },
      "source": [
        "best_model_path = './model_dir/mnist_ckpt/my_logs/version_0/checkpoints/mnist-v0.ckpt'"
      ],
      "execution_count": null,
      "outputs": []
    },
    {
      "cell_type": "code",
      "metadata": {
        "id": "cMQQsfRHMJsL"
      },
      "source": [
        "train_loss = metrics['train_loss_epoch'].loc[metrics['train_loss_epoch'].notna()]\n",
        "val_loss = metrics['val_loss_epoch'].loc[metrics['val_loss_epoch'].notna()]\n",
        "train_acc = metrics['train_acc_epoch'].loc[metrics['train_acc_epoch'].notna()]\n",
        "val_acc = metrics['val_acc'].loc[metrics['val_acc'].notna()]"
      ],
      "execution_count": null,
      "outputs": []
    },
    {
      "cell_type": "code",
      "metadata": {
        "id": "rMh753ujMcow",
        "outputId": "fd2bdbd8-2dfe-4ebf-bdbb-29f26d419427",
        "colab": {
          "base_uri": "https://localhost:8080/",
          "height": 413
        }
      },
      "source": [
        "plt.figure(figsize=(8,6))\n",
        "plt.plot(np.arange(1,len(train_loss)+1),train_loss,color='b',label='train loss')\n",
        "plt.plot(np.arange(1,len(val_loss)+1),val_loss,color='orange',label='val loss')\n",
        "plt.scatter(np.argmin(val_loss)+1,min(val_loss),color='r',label='min val loss')\n",
        "plt.xlabel('Epochs',size=14,fontweight='bold')\n",
        "plt.ylabel('Loss',size=14,fontweight='bold')\n",
        "plt.title('Train and validation loss',size=14,fontweight='bold')\n",
        "plt.legend()\n",
        "plt.tick_params(labelsize=14)\n",
        "plt.savefig('./mnist_train_val_loss.png')\n",
        "plt.show()"
      ],
      "execution_count": null,
      "outputs": [
        {
          "output_type": "display_data",
          "data": {
            "image/png": "[encoded data removed]",
            "text/plain": [
              "<Figure size 576x432 with 1 Axes>"
            ]
          },
          "metadata": {
            "tags": [],
            "needs_background": "light"
          }
        }
      ]
    },
    {
      "cell_type": "code",
      "metadata": {
        "id": "jxmztLNbND0t",
        "outputId": "27114dda-4992-4739-bc48-f86feb780ebf",
        "colab": {
          "base_uri": "https://localhost:8080/",
          "height": 413
        }
      },
      "source": [
        "plt.figure(figsize=(8,6))\n",
        "plt.plot(np.arange(1,len(train_acc)+1),train_acc,color='b',label='train acc')\n",
        "plt.plot(np.arange(1,len(val_acc)+1),val_acc,color='orange',label='val acc')\n",
        "plt.scatter(np.argmax(val_acc)+1,max(val_acc),color='r',label='max val acc')\n",
        "plt.xlabel('Epochs',size=14,fontweight='bold')\n",
        "plt.ylabel('Accuracy',size=14,fontweight='bold')\n",
        "plt.title('Train and validation accuracy',size=14,fontweight='bold')\n",
        "plt.legend()\n",
        "plt.tick_params(labelsize=14)\n",
        "plt.savefig('./mnist_train_val_acc.png')\n",
        "plt.show()"
      ],
      "execution_count": null,
      "outputs": [
        {
          "output_type": "display_data",
          "data": {
            "image/png": "[encoded data removed]",
            "text/plain": [
              "<Figure size 576x432 with 1 Axes>"
            ]
          },
          "metadata": {
            "tags": [],
            "needs_background": "light"
          }
        }
      ]
    },
    {
      "cell_type": "code",
      "metadata": {
        "id": "IvsIR48qTGJp",
        "outputId": "f3418a68-2145-4fc0-9e56-e040088e8e9f",
        "colab": {
          "base_uri": "https://localhost:8080/",
          "height": 155
        }
      },
      "source": [
        "X_test_batch, y_test_batch = iter(test_dataloader).next()\n",
        "X_test_batch = X_test_batch.numpy()\n",
        "X1 = np.array([rotate(X_test_batch[y_test_batch == 1][4].squeeze(), i, reshape=False) for i in range(30, 100, 7)])\n",
        "X1 = X1.reshape(X1.shape[0], 1, X1.shape[1], X1.shape[2])\n",
        "\n",
        "fig = plt.figure(figsize=(20., 16.))\n",
        "grid = ImageGrid(fig, 111,  # similar to subplot(111)\n",
        "                 nrows_ncols=(1, 10),  # creates 2x2 grid of axes\n",
        "                 axes_pad=0.1,  # pad between axes in inch.\n",
        "                 )\n",
        "\n",
        "for ax, im in zip(grid, X1):\n",
        "    # Iterating over the grid returns the Axes.\n",
        "    ax.imshow(im.reshape((28,28)),cmap='gray')\n",
        "plt.savefig('./mnist_ones.png')\n",
        "plt.show()\n",
        "# for i in range(len(X1)):\n",
        "#     plt.subplot(gs[i])\n",
        "#     plt.imshow(X1.squeeze()[i], cmap='gray');\n",
        "#     plt.axis('off');\n",
        "# plt.show()"
      ],
      "execution_count": null,
      "outputs": [
        {
          "output_type": "display_data",
          "data": {
            "image/png": "[encoded data removed]",
            "text/plain": [
              "<Figure size 1440x1152 with 20 Axes>"
            ]
          },
          "metadata": {
            "tags": [],
            "needs_background": "light"
          }
        }
      ]
    },
    {
      "cell_type": "code",
      "metadata": {
        "id": "PWyGVN_ZU26-",
        "outputId": "27f226be-48cf-459b-e364-fe8be4c8a21d",
        "colab": {
          "base_uri": "https://localhost:8080/"
        }
      },
      "source": [
        "lit.load_state_dict(torch.load(best_model_path)['state_dict'])\n",
        "model = lit.backbone\n",
        "model.eval()"
      ],
      "execution_count": null,
      "outputs": [
        {
          "output_type": "execute_result",
          "data": {
            "text/plain": [
              "LeNet(\n",
              "  (conv1): Conv2d(1, 64, kernel_size=(5, 5), stride=(1, 1), padding=(2, 2))\n",
              "  (drop1): Dropout(p=0.102332158511991, inplace=False)\n",
              "  (pool1): MaxPool2d(kernel_size=2, stride=2, padding=0, dilation=1, ceil_mode=False)\n",
              "  (conv2): Conv2d(64, 32, kernel_size=(5, 5), stride=(1, 1), padding=(2, 2))\n",
              "  (drop2): Dropout(p=0.102332158511991, inplace=False)\n",
              "  (pool2): MaxPool2d(kernel_size=2, stride=2, padding=0, dilation=1, ceil_mode=False)\n",
              "  (flatten): Flatten()\n",
              "  (linear1): Linear(in_features=1568, out_features=256, bias=True)\n",
              "  (drop3): Dropout(p=0.102332158511991, inplace=False)\n",
              "  (linear2): Linear(in_features=256, out_features=10, bias=True)\n",
              ")"
            ]
          },
          "metadata": {
            "tags": []
          },
          "execution_count": 16
        }
      ]
    },
    {
      "cell_type": "code",
      "metadata": {
        "id": "Td2Ei9E8Ycw8",
        "outputId": "7d7521ac-e730-45ff-e250-d31035bbbc4a",
        "colab": {
          "base_uri": "https://localhost:8080/"
        }
      },
      "source": [
        "out = torch.max(model(torch.from_numpy(X1).float()),1)"
      ],
      "execution_count": null,
      "outputs": [
        {
          "output_type": "stream",
          "text": [
            "/content/drive/My Drive/mcdropout_msc/nns.py:49: UserWarning:\n",
            "\n",
            "Implicit dimension choice for log_softmax has been deprecated. Change the call to include dim=X as an argument.\n",
            "\n"
          ],
          "name": "stderr"
        }
      ]
    },
    {
      "cell_type": "code",
      "metadata": {
        "id": "ds3ZNUlZdIQd",
        "outputId": "5e29a316-f496-4b00-b10d-b78c17ca8990",
        "colab": {
          "base_uri": "https://localhost:8080/"
        }
      },
      "source": [
        "out[1].numpy()"
      ],
      "execution_count": null,
      "outputs": [
        {
          "output_type": "execute_result",
          "data": {
            "text/plain": [
              "array([1, 1, 1, 1, 3, 3, 7, 7, 7, 7])"
            ]
          },
          "metadata": {
            "tags": []
          },
          "execution_count": 18
        }
      ]
    },
    {
      "cell_type": "code",
      "metadata": {
        "id": "JJXUbqradJ7c",
        "outputId": "0aeb347e-1c0b-4a9c-8f36-d343ac104053",
        "colab": {
          "base_uri": "https://localhost:8080/"
        }
      },
      "source": [
        "out_mc = predict_mc(model=model,x=torch.from_numpy(X1).float(),mc_samples=500)"
      ],
      "execution_count": null,
      "outputs": [
        {
          "output_type": "stream",
          "text": [
            "/content/drive/My Drive/mcdropout_msc/nns.py:49: UserWarning:\n",
            "\n",
            "Implicit dimension choice for log_softmax has been deprecated. Change the call to include dim=X as an argument.\n",
            "\n"
          ],
          "name": "stderr"
        }
      ]
    },
    {
      "cell_type": "code",
      "metadata": {
        "id": "l1xFVcclxWRs"
      },
      "source": [
        "yi_so = np.empty((out_mc.shape[0],10,10))\n",
        "for i in range(len(out_mc)):\n",
        "  yi_so[i] = out_mc[i].detach().numpy()"
      ],
      "execution_count": null,
      "outputs": []
    },
    {
      "cell_type": "code",
      "metadata": {
        "id": "D8OqD-H14ImG"
      },
      "source": [
        "yi_so = np.exp(yi_so)"
      ],
      "execution_count": null,
      "outputs": []
    },
    {
      "cell_type": "code",
      "metadata": {
        "id": "8CcItUL8v3Y6",
        "outputId": "cc9eda69-7cfa-4593-90be-b42f80651ebe",
        "colab": {
          "base_uri": "https://localhost:8080/",
          "height": 585
        }
      },
      "source": [
        "plt.figure(figsize=(10,8))\n",
        "plt.scatter(np.tile(np.arange(1, 11), out_mc.shape[0]), yi_so[:, :, 1].flatten(), \\\n",
        "            color='r', marker='_', linewidth=None, alpha=0.6, label='Class: 1')\n",
        "plt.scatter(np.tile(np.arange(1, 11), out_mc.shape[0]), yi_so[:, :, 3].flatten(), \\\n",
        "            color='g', marker='_', linewidth=None, alpha=0.6, label='Class: 3')\n",
        "plt.scatter(np.tile(np.arange(1, 11), out_mc.shape[0]), yi_so[:, :, 7].flatten(), \\\n",
        "            color='b', marker='_', linewidth=None, alpha=0.6, label='Class: 7')\n",
        "plt.title('Softmax output scatter',size=14,fontweight='bold')\n",
        "plt.xlabel('Images',size=14,fontweight='bold')\n",
        "plt.ylabel('Probability',size=14,fontweight='bold')\n",
        "plt.legend(bbox_to_anchor=(1.0, 1), loc='upper left')\n",
        "plt.tick_params(labelsize=14)\n",
        "plt.tight_layout()\n",
        "plt.savefig('./softmax_ones.png')\n",
        "plt.show()"
      ],
      "execution_count": null,
      "outputs": [
        {
          "output_type": "display_data",
          "data": {
            "image/png": "[encoded data removed]",
            "text/plain": [
              "<Figure size 720x576 with 1 Axes>"
            ]
          },
          "metadata": {
            "tags": [],
            "needs_background": "light"
          }
        }
      ]
    },
    {
      "cell_type": "markdown",
      "metadata": {
        "id": "lk8xEFwRsfLk"
      },
      "source": [
        "**Evaluate on test set**"
      ]
    },
    {
      "cell_type": "code",
      "metadata": {
        "id": "axjc0BTwozC8",
        "outputId": "18df1886-1158-4e10-ba42-b3ce21ef5197",
        "colab": {
          "base_uri": "https://localhost:8080/"
        }
      },
      "source": [
        "X_test_np = test.dataset.data.numpy()[test.indices]\n",
        "y_test_np = test.dataset.train_labels.numpy()[test.indices]"
      ],
      "execution_count": null,
      "outputs": [
        {
          "output_type": "stream",
          "text": [
            "/usr/local/lib/python3.6/dist-packages/torchvision/datasets/mnist.py:45: UserWarning:\n",
            "\n",
            "train_labels has been renamed targets\n",
            "\n"
          ],
          "name": "stderr"
        }
      ]
    },
    {
      "cell_type": "code",
      "metadata": {
        "id": "zciyOSwTsBxh"
      },
      "source": [
        "X_test_np = X_test_np.reshape((X_test_np.shape[0],1,28,28))"
      ],
      "execution_count": null,
      "outputs": []
    },
    {
      "cell_type": "code",
      "metadata": {
        "id": "F7on0RtsrJs9",
        "outputId": "63ee6da0-ee3f-48bc-f4b0-5d887dd4dbb5",
        "colab": {
          "base_uri": "https://localhost:8080/"
        }
      },
      "source": [
        "preds = torch.max(model(torch.from_numpy(X_test_np).float()),1)"
      ],
      "execution_count": null,
      "outputs": [
        {
          "output_type": "stream",
          "text": [
            "/content/drive/My Drive/mcdropout_msc/nns.py:49: UserWarning:\n",
            "\n",
            "Implicit dimension choice for log_softmax has been deprecated. Change the call to include dim=X as an argument.\n",
            "\n"
          ],
          "name": "stderr"
        }
      ]
    },
    {
      "cell_type": "code",
      "metadata": {
        "id": "nTi6UIxgsMqh",
        "outputId": "e376d779-2898-43b2-9b7d-cd11ee13d618",
        "colab": {
          "base_uri": "https://localhost:8080/"
        }
      },
      "source": [
        "accuracy_score(y_test_np,preds.indices.numpy())"
      ],
      "execution_count": null,
      "outputs": [
        {
          "output_type": "execute_result",
          "data": {
            "text/plain": [
              "0.9452"
            ]
          },
          "metadata": {
            "tags": []
          },
          "execution_count": 46
        }
      ]
    },
    {
      "cell_type": "code",
      "metadata": {
        "id": "89-PcDiMsPiY"
      },
      "source": [
        "fx_1 = yi_so[:,0,:]\n",
        "fx_2 = yi_so[:,1,:]\n",
        "fx_3 = yi_so[:,2,:]\n",
        "fx_4 = yi_so[:,3,:]\n",
        "fx_5 = yi_so[:,4,:]\n",
        "fx_6 = yi_so[:,5,:]\n",
        "fx_7 = yi_so[:,6,:]\n",
        "fx_8 = yi_so[:,7,:]\n",
        "fx_9 = yi_so[:,8,:]\n",
        "fx_10 = yi_so[:,9,:]"
      ],
      "execution_count": null,
      "outputs": []
    },
    {
      "cell_type": "markdown",
      "metadata": {
        "id": "zF2vhNptCYwF"
      },
      "source": [
        "Compute variation ratio"
      ]
    },
    {
      "cell_type": "code",
      "metadata": {
        "id": "_QUZyLmO_htr",
        "outputId": "0b285f85-16eb-432d-ee81-b59f76ac86d0",
        "colab": {
          "base_uri": "https://localhost:8080/"
        }
      },
      "source": [
        "ffs1 = np.apply_along_axis(lambda x:np.argmax(x),axis=1,arr= fx_10)\n",
        "1 - (len(ffs1[ffs1 == 7])/500)"
      ],
      "execution_count": null,
      "outputs": [
        {
          "output_type": "execute_result",
          "data": {
            "text/plain": [
              "0.07199999999999995"
            ]
          },
          "metadata": {
            "tags": []
          },
          "execution_count": 145
        }
      ]
    },
    {
      "cell_type": "markdown",
      "metadata": {
        "id": "LRDMgSWDCbWV"
      },
      "source": [
        "Compute Entropy"
      ]
    },
    {
      "cell_type": "code",
      "metadata": {
        "id": "c8_OIVaa_pIX"
      },
      "source": [
        "p=np.sum(fx_5,axis=0)/500"
      ],
      "execution_count": null,
      "outputs": []
    },
    {
      "cell_type": "code",
      "metadata": {
        "id": "hZPLru9cJsnU",
        "outputId": "54c76c0b-d132-4bb3-9e4e-60fbe6fb8bb1",
        "colab": {
          "base_uri": "https://localhost:8080/"
        }
      },
      "source": [
        "p"
      ],
      "execution_count": null,
      "outputs": [
        {
          "output_type": "execute_result",
          "data": {
            "text/plain": [
              "array([4.16845132e-04, 1.15345292e-02, 2.89212834e-01, 1.43080146e-01,\n",
              "       1.95637961e-02, 9.93769207e-03, 1.08791480e-03, 4.96958630e-01,\n",
              "       2.79336981e-02, 2.73916156e-04])"
            ]
          },
          "metadata": {
            "tags": []
          },
          "execution_count": 192
        }
      ]
    },
    {
      "cell_type": "code",
      "metadata": {
        "id": "zWRrN5PaJTUf",
        "outputId": "4cd76979-8aa0-4835-eb80-9c3354c3b93c",
        "colab": {
          "base_uri": "https://localhost:8080/"
        }
      },
      "source": [
        "entropy(p,base=2)"
      ],
      "execution_count": null,
      "outputs": [
        {
          "output_type": "execute_result",
          "data": {
            "text/plain": [
              "2.549252614528147"
            ]
          },
          "metadata": {
            "tags": []
          },
          "execution_count": 198
        }
      ]
    },
    {
      "cell_type": "code",
      "metadata": {
        "id": "YzXub1uJJYbG"
      },
      "source": [
        "0"
      ],
      "execution_count": null,
      "outputs": []
    }
  ]
}