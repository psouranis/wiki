{
  "cells": [
    {
      "cell_type": "markdown",
      "metadata": {
        "colab_type": "text",
        "id": "GHjbmq8qMk6K",
        "pycharm": {
          "metadata": false
        }
      },
      "source": [
        "#### Adamantios Zaras AM: 06\n",
        "#### Panagiotis Souranis AM: 17"
      ]
    },
    {
      "cell_type": "markdown",
      "metadata": {
        "colab_type": "text",
        "id": "iaDGAqofMk6R",
        "pycharm": {
          "metadata": false
        }
      },
      "source": "# Description\nIn this part of the project we used 3 different resampling techniques in order to deal with the problem of imbalance among the classes and compared those techniques with 3 different classification algorithms.\n\n\nThe techniques we used are:\n- Random Undersampling\n- Synthetic Minority Oversampling Technique i.e SMOTE\n- EasyEnsemble Technique\n\nThe algorithms combined with the above techniques are:\n- Random Forest\n- Linear SVM\n- Naive Bayes\n\nFirst we load our dataset.\nIn order to make our algorithms and our techniques more robust we use a scaling method called robust scaler but we apply it only in 2 features of our original dataset and that\u0027s because the rest of our data are already scaled. Then we check the rate of each class in the original dataset and proceed with our methods.\nWe first used random hyperparameter search in order to search in a sparse area of hyperparameters and be able to check out more options and then we used a grid search in a specific dense area in order to take the best results.\n\nThe cross-validation technique was used during resampling as follows:\n- First we split our data into train and validation using the StratifiedShuffleSplit technique via sklearn\n- Then we keep out the validation set\n- Following we resample our data and fit them to the classifier\n- Cross validate in the folded sets we kept\nThis technique is repeated 5 times for better and more accurate results"
    },
    {
      "cell_type": "markdown",
      "metadata": {
        "colab_type": "text",
        "id": "mJ4vFRexMziL",
        "pycharm": {}
      },
      "source": [
        "# Imports"
      ]
    },
    {
      "cell_type": "code",
      "execution_count": 1,
      "metadata": {
        "colab": {},
        "colab_type": "code",
        "id": "kFwOReMlMk6T",
        "pycharm": {}
      },
      "outputs": [
        {
          "name": "stderr",
          "output_type": "stream",
          "text": [
            "Using TensorFlow backend.\n"
          ]
        }
      ],
      "source": "# Loading our necessary libraries\nimport pandas as pd\nimport numpy as np\nimport time\nimport xgboost as xgb\nfrom imblearn.ensemble import EasyEnsemble\nfrom imblearn.metrics import geometric_mean_score\nfrom sklearn.model_selection import cross_val_score\nfrom sklearn.model_selection import cross_val_predict\nfrom sklearn.metrics import precision_recall_curve, balanced_accuracy_score, \\\n    accuracy_score, average_precision_score, roc_auc_score\nfrom sklearn.metrics import roc_curve\nfrom scipy.stats import randint as sp_randint\nfrom imblearn.over_sampling import SMOTE\nfrom sklearn.naive_bayes import GaussianNB\nfrom sklearn.svm import LinearSVC\nfrom sklearn.ensemble import RandomForestClassifier\nfrom collections import Counter\nfrom imblearn.under_sampling import RandomUnderSampler \nfrom sklearn.preprocessing import RobustScaler\nfrom sklearn.metrics import make_scorer\nimport matplotlib.pyplot as plt\n\n# Import util functions.\nfrom utils.part_c  import *\n\n%matplotlib inline\n\nimport warnings\nwarnings.filterwarnings(\u0027ignore\u0027)\n\n"
    },
    {
      "cell_type": "markdown",
      "metadata": {
        "colab_type": "text",
        "id": "YTDCovHhM2a4",
        "pycharm": {}
      },
      "source": [
        "# Prepare Dataset"
      ]
    },
    {
      "cell_type": "code",
      "execution_count": 5,
      "metadata": {
        "colab": {},
        "colab_type": "code",
        "id": "e8LtpuVUMk6g",
        "pycharm": {}
      },
      "outputs": [],
      "source": [
        "data \u003d pd.read_csv(\u0027C:/Users/User/Desktop/creditcardfraud/creditcard.csv\u0027)"
      ]
    },
    {
      "cell_type": "code",
      "execution_count": 6,
      "metadata": {
        "colab": {},
        "colab_type": "code",
        "id": "dt3aTey7Mk6p",
        "outputId": "231c78e9-4615-4ed0-d0ad-486fe62973e1",
        "pycharm": {}
      },
      "outputs": [
        {
          "data": {
            "text/plain": [
              "[RangeIndex(start\u003d0, stop\u003d284807, step\u003d1),\n",
              " Index([\u0027Time\u0027, \u0027V1\u0027, \u0027V2\u0027, \u0027V3\u0027, \u0027V4\u0027, \u0027V5\u0027, \u0027V6\u0027, \u0027V7\u0027, \u0027V8\u0027, \u0027V9\u0027, \u0027V10\u0027,\n",
              "        \u0027V11\u0027, \u0027V12\u0027, \u0027V13\u0027, \u0027V14\u0027, \u0027V15\u0027, \u0027V16\u0027, \u0027V17\u0027, \u0027V18\u0027, \u0027V19\u0027, \u0027V20\u0027,\n",
              "        \u0027V21\u0027, \u0027V22\u0027, \u0027V23\u0027, \u0027V24\u0027, \u0027V25\u0027, \u0027V26\u0027, \u0027V27\u0027, \u0027V28\u0027, \u0027Amount\u0027,\n",
              "        \u0027Class\u0027],\n",
              "       dtype\u003d\u0027object\u0027)]"
            ]
          },
          "execution_count": 6,
          "metadata": {},
          "output_type": "execute_result"
        }
      ],
      "source": [
        "data.axes"
      ]
    },
    {
      "cell_type": "markdown",
      "metadata": {
        "colab_type": "text",
        "id": "YhXmqKPTMk62",
        "pycharm": {}
      },
      "source": [
        "Since all our values except Time and Amount are scaled we should scale them too in order to make our algorithms\n",
        "more robust,We should use Robust scaler that is less prone to outliers"
      ]
    },
    {
      "cell_type": "code",
      "execution_count": 7,
      "metadata": {
        "colab": {},
        "colab_type": "code",
        "id": "kpHwouM1Mk64",
        "pycharm": {}
      },
      "outputs": [],
      "source": [
        "rob_scaler \u003d RobustScaler()\n",
        "\n",
        "scaled_amount  \u003d rob_scaler.fit_transform(data[\u0027Amount\u0027].values.reshape(-1,1))\n",
        "scaled_time \u003d rob_scaler.fit_transform(data[\u0027Time\u0027].values.reshape(-1,1))\n",
        "\n",
        "data.drop([\u0027Time\u0027,\u0027Amount\u0027], axis\u003d1, inplace\u003dTrue)\n",
        "\n",
        "\n",
        "data.insert(0, \u0027scaled_amount\u0027, scaled_amount)\n",
        "data.insert(1, \u0027scaled_time\u0027, scaled_time)\n"
      ]
    },
    {
      "cell_type": "code",
      "execution_count": 8,
      "metadata": {
        "colab": {},
        "colab_type": "code",
        "id": "i_2UsOx7Mk6_",
        "outputId": "644764e0-3ed5-468a-9bc0-f807c2393c09",
        "pycharm": {}
      },
      "outputs": [
        {
          "data": {
            "text/plain": [
              "[RangeIndex(start\u003d0, stop\u003d284807, step\u003d1),\n",
              " Index([\u0027scaled_amount\u0027, \u0027scaled_time\u0027, \u0027V1\u0027, \u0027V2\u0027, \u0027V3\u0027, \u0027V4\u0027, \u0027V5\u0027, \u0027V6\u0027,\n",
              "        \u0027V7\u0027, \u0027V8\u0027, \u0027V9\u0027, \u0027V10\u0027, \u0027V11\u0027, \u0027V12\u0027, \u0027V13\u0027, \u0027V14\u0027, \u0027V15\u0027, \u0027V16\u0027,\n",
              "        \u0027V17\u0027, \u0027V18\u0027, \u0027V19\u0027, \u0027V20\u0027, \u0027V21\u0027, \u0027V22\u0027, \u0027V23\u0027, \u0027V24\u0027, \u0027V25\u0027, \u0027V26\u0027,\n",
              "        \u0027V27\u0027, \u0027V28\u0027, \u0027Class\u0027],\n",
              "       dtype\u003d\u0027object\u0027)]"
            ]
          },
          "execution_count": 8,
          "metadata": {},
          "output_type": "execute_result"
        }
      ],
      "source": [
        "data.axes"
      ]
    },
    {
      "cell_type": "code",
      "execution_count": 9,
      "metadata": {
        "colab": {},
        "colab_type": "code",
        "id": "cN5zxoNPMk7J",
        "pycharm": {}
      },
      "outputs": [],
      "source": [
        "unique , count \u003d np.unique(data.Class , return_counts\u003dTrue)"
      ]
    },
    {
      "cell_type": "code",
      "execution_count": 10,
      "metadata": {
        "colab": {},
        "colab_type": "code",
        "id": "jo7cs9OxMk7U",
        "outputId": "ba5417b2-2984-4c69-a469-c3be91449adc",
        "pycharm": {}
      },
      "outputs": [
        {
          "data": {
            "text/plain": [
              "(array([0, 1], dtype\u003dint64), array([284315,    492], dtype\u003dint64))"
            ]
          },
          "execution_count": 10,
          "metadata": {},
          "output_type": "execute_result"
        }
      ],
      "source": [
        "unique , count"
      ]
    },
    {
      "cell_type": "markdown",
      "metadata": {
        "colab_type": "text",
        "id": "0HNronQeMk7d",
        "pycharm": {}
      },
      "source": [
        "# Checking the target classes"
      ]
    },
    {
      "cell_type": "code",
      "execution_count": 11,
      "metadata": {
        "colab": {},
        "colab_type": "code",
        "id": "5ctKo6ZnMk7l",
        "outputId": "4fd24419-5818-49c1-ad45-829736f6bf63",
        "pycharm": {}
      },
      "outputs": [
        {
          "data": {
            "text/plain": [
              "Text(0,0.5,\u0027Frequency\u0027)"
            ]
          },
          "execution_count": 11,
          "metadata": {},
          "output_type": "execute_result"
        },
        {
          "data": {
            "image/png": "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\u003d\n",
            "text/plain": [
              "\u003cFigure size 432x288 with 1 Axes\u003e"
            ]
          },
          "metadata": {
            "needs_background": "light"
          },
          "output_type": "display_data"
        }
      ],
      "source": [
        "count_classes \u003d pd.value_counts(data[\u0027Class\u0027], sort \u003d True).sort_index()\n",
        "count_classes.plot(kind \u003d \u0027bar\u0027)\n",
        "plt.title(\"Fraud class histogram\")\n",
        "plt.xlabel(\"Class\")\n",
        "plt.ylabel(\"Frequency\")"
      ]
    },
    {
      "cell_type": "code",
      "execution_count": 12,
      "metadata": {
        "colab": {},
        "colab_type": "code",
        "id": "vON9TPTgMk72",
        "outputId": "b811ed75-71f5-4fe4-a7a2-d1cc154961a7",
        "pycharm": {}
      },
      "outputs": [
        {
          "name": "stdout",
          "output_type": "stream",
          "text": [
            "No Frauds 99.83 % of the dataset\n",
            "Frauds 0.17 % of the dataset\n"
          ]
        }
      ],
      "source": [
        "print(\u0027No Frauds\u0027, round(data[\u0027Class\u0027].value_counts()[0]/len(data) * 100,2), \u0027% of the dataset\u0027)\n",
        "print(\u0027Frauds\u0027, round(data[\u0027Class\u0027].value_counts()[1]/len(data) * 100,2), \u0027% of the dataset\u0027)"
      ]
    },
    {
      "cell_type": "code",
      "execution_count": 13,
      "metadata": {
        "colab": {},
        "colab_type": "code",
        "id": "E4GCdaEVMk79",
        "pycharm": {}
      },
      "outputs": [],
      "source": [
        "X \u003d data.drop(\u0027Class\u0027,axis \u003d 1).values\n",
        "y \u003d data[\u0027Class\u0027].values\n",
        "\n",
        "target_names \u003d [\u0027Valid Transaction\u0027 , \u0027Fraud Transaction\u0027]"
      ]
    },
    {
      "cell_type": "code",
      "execution_count": 14,
      "metadata": {
        "colab": {},
        "colab_type": "code",
        "id": "41hOC6thMk8F",
        "outputId": "4ef34fe5-3068-4c2f-c464-9ce6d1526968",
        "pycharm": {}
      },
      "outputs": [
        {
          "name": "stdout",
          "output_type": "stream",
          "text": [
            "Shape of Train features is 30 and samples is 284807 \n",
            "Shape of Train labels is 284807\n"
          ]
        }
      ],
      "source": [
        "print(\u0027Shape of Train features is %.f and samples is %.f \u0027 % (X.shape[1],X.shape[0]))\n",
        "print(\u0027Shape of Train labels is %.f\u0027 %y.shape[0])"
      ]
    },
    {
      "cell_type": "markdown",
      "metadata": {
        "colab_type": "text",
        "id": "aFAwl_hnM_Cz",
        "pycharm": {}
      },
      "source": [
        "# Applying Techniques"
      ]
    },
    {
      "cell_type": "markdown",
      "metadata": {
        "colab_type": "text",
        "id": "P3TdpsnjMk8O",
        "pycharm": {}
      },
      "source": [
        "We are going to apply 3 techniques:\n",
        "   - Random UnderSampling\n",
        "   - Easy Ensemble\n",
        "   - SMOTE"
      ]
    },
    {
      "cell_type": "markdown",
      "metadata": {
        "colab_type": "text",
        "id": "Pk-V32SVNDyp",
        "pycharm": {}
      },
      "source": [
        "## No Method Applied"
      ]
    },
    {
      "cell_type": "code",
      "execution_count": 15,
      "metadata": {
        "colab": {},
        "colab_type": "code",
        "id": "4mXKNGdhMk8R",
        "outputId": "561daccc-5cbe-43bb-c0ba-aa1ac862a0df",
        "pycharm": {}
      },
      "outputs": [
        {
          "name": "stdout",
          "output_type": "stream",
          "text": [
            "Original dataset shape Counter({0: 284315, 1: 492})\n"
          ]
        }
      ],
      "source": [
        "print(\u0027Original dataset shape %s\u0027 % Counter(y))"
      ]
    },
    {
      "cell_type": "markdown",
      "metadata": {
        "colab_type": "text",
        "id": "O983r74yMk8X",
        "pycharm": {}
      },
      "source": [
        "First lets work with our Original Data to check the results"
      ]
    },
    {
      "cell_type": "code",
      "execution_count": 16,
      "metadata": {
        "colab": {},
        "colab_type": "code",
        "id": "HEEUBknOMk8a",
        "outputId": "8570124b-4776-4d6a-d78e-cca2bc96b225",
        "pycharm": {}
      },
      "outputs": [
        {
          "name": "stdout",
          "output_type": "stream",
          "text": [
            "Training size is 227845\n",
            "Test size is 56962\n",
            "Distribution of labels in Train test Counter({0: 227451, 1: 394})\n",
            "Distribution of labels in Test set Counter({0: 56864, 1: 98})\n"
          ]
        }
      ],
      "source": [
        "from sklearn.model_selection import train_test_split\n",
        "\n",
        "X_train, X_test, y_train, y_test \u003d train_test_split(X, y, test_size\u003d0.2, random_state\u003d42,stratify \u003d y)\n",
        "\n",
        "print(\u0027Training size is %.f\u0027  %y_train.shape[0])\n",
        "print(\u0027Test size is %.f\u0027 %y_test.shape[0])\n",
        "\n",
        "print(\u0027Distribution of labels in Train test %s\u0027 %Counter(y_train))\n",
        "print(\u0027Distribution of labels in Test set %s\u0027 %Counter(y_test))"
      ]
    },
    {
      "cell_type": "markdown",
      "metadata": {
        "colab_type": "text",
        "id": "lOJNVjlTMk8j",
        "pycharm": {}
      },
      "source": [
        "Lets import and use our classifiers in a naive way"
      ]
    },
    {
      "cell_type": "markdown",
      "metadata": {
        "colab_type": "text",
        "id": "jL1GG6ghMk8l",
        "pycharm": {}
      },
      "source": "We have to use some metrics such as G-Mean that are not implemented in the sklearn library.  \nFor that reason, we need to manually make a score function via the make_scorer from sklearn, \nin order to pass it in a dictionary and then cross validate with our algorithm."
    },
    {
      "cell_type": "markdown",
      "metadata": {
        "colab_type": "text",
        "id": "YBJ3J-2SMk8m",
        "pycharm": {}
      },
      "source": [
        "- Define Scoring"
      ]
    },
    {
      "cell_type": "code",
      "execution_count": 17,
      "metadata": {
        "colab": {},
        "colab_type": "code",
        "id": "NnZieJQBMk8q",
        "pycharm": {}
      },
      "outputs": [],
      "source": [
        "scoring \u003d {\u0027Accuracy\u0027:make_scorer(accuracy_score),\n",
        "           \u0027Balanced_accuracy\u0027:make_scorer(balanced_accuracy_score),\u0027G-Mean\u0027:make_scorer(geometric_mean_score),\n",
        "          \u0027Average Precision-Recall Score\u0027:make_scorer(average_precision_score),\u0027ROC Auc Score\u0027:make_scorer(roc_auc_score)}\n",
        "\n"
      ]
    },
    {
      "cell_type": "markdown",
      "metadata": {
        "colab_type": "text",
        "id": "N76D0ocjMk83",
        "pycharm": {}
      },
      "source": [
        "- Define Classifiers"
      ]
    },
    {
      "cell_type": "code",
      "execution_count": 18,
      "metadata": {
        "colab": {},
        "colab_type": "code",
        "id": "KUET-iTfMk88",
        "pycharm": {}
      },
      "outputs": [],
      "source": [
        "classifiers \u003d {\n",
        "    \"Naive Bayes Classifier\": GaussianNB(),\n",
        "    \"RandomForestClassifier\": RandomForestClassifier(),\n",
        "    \"Support Vector Classifier\": LinearSVC()}\n"
      ]
    },
    {
      "cell_type": "code",
      "execution_count": 0,
      "metadata": {
        "colab": {},
        "colab_type": "code",
        "id": "stuclEhEMk9F",
        "outputId": "ebb0f173-d762-428a-e956-a7cc1777263c",
        "pycharm": {}
      },
      "outputs": [
        {
          "name": "stdout",
          "output_type": "stream",
          "text": [
            "\n",
            "Classifier:  Naive Bayes Classifier \n",
            "\n",
            "Training score of Accuracy: 0.98 (+/- 0.00)\n",
            "Training score of Balanced_accuracy: 0.90 (+/- 0.01)\n",
            "Training score of G-Mean: 0.90 (+/- 0.01)\n",
            "Training score of Average Precision-Recall Score: 0.05 (+/- 0.00)\n",
            "Training score of ROC Auc Score: 0.90 (+/- 0.01)\n",
            "\n",
            "Classifier:  RandomForestClassifier \n",
            "\n",
            "Training score of Accuracy: 1.00 (+/- 0.00)\n",
            "Training score of Balanced_accuracy: 0.98 (+/- 0.01)\n",
            "Training score of G-Mean: 0.98 (+/- 0.01)\n",
            "Training score of Average Precision-Recall Score: 0.95 (+/- 0.01)\n",
            "Training score of ROC Auc Score: 0.98 (+/- 0.01)\n",
            "\n",
            "Classifier:  Support Vector Classifier \n",
            "\n",
            "Training score of Accuracy: 1.00 (+/- 0.00)\n",
            "Training score of Balanced_accuracy: 0.86 (+/- 0.01)\n",
            "Training score of G-Mean: 0.85 (+/- 0.01)\n",
            "Training score of Average Precision-Recall Score: 0.64 (+/- 0.02)\n",
            "Training score of ROC Auc Score: 0.86 (+/- 0.01)\n"
          ]
        }
      ],
      "source": [
        "results(classifiers,scoring,X_train,y_train)"
      ]
    },
    {
      "cell_type": "markdown",
      "metadata": {
        "colab_type": "text",
        "id": "-Yba-rEFMk9R",
        "pycharm": {}
      },
      "source": "We clearly have an overfitting case but lets examine it further with a classification report on the test set"
    },
    {
      "cell_type": "code",
      "execution_count": 0,
      "metadata": {
        "colab": {},
        "colab_type": "code",
        "id": "0uh-H7JoMk9R",
        "outputId": "ea16b554-84e8-4c14-bc5b-6f60291cb5c7",
        "pycharm": {}
      },
      "outputs": [
        {
          "name": "stdout",
          "output_type": "stream",
          "text": [
            "Classifiers:  GaussianNB \n",
            "                    pre       rec       spe        f1       geo       iba       sup\n",
            "\n",
            "          0       0.98      1.00      0.06      0.99      0.24      0.06     55550\n",
            "          1       0.85      0.06      1.00      0.11      0.24      0.05      1412\n",
            "\n",
            "avg / total       0.97      0.98      0.08      0.97      0.24      0.06     56962\n",
            "\n",
            "Classifiers:  RandomForestClassifier \n",
            "                    pre       rec       spe        f1       geo       iba       sup\n",
            "\n",
            "          0       1.00      1.00      0.93      1.00      0.96      0.94     56876\n",
            "          1       0.82      0.93      1.00      0.87      0.96      0.92        86\n",
            "\n",
            "avg / total       1.00      1.00      0.93      1.00      0.96      0.94     56962\n",
            "\n",
            "Classifiers:  LinearSVC \n",
            "                    pre       rec       spe        f1       geo       iba       sup\n",
            "\n",
            "          0       1.00      1.00      0.85      1.00      0.92      0.86     56870\n",
            "          1       0.80      0.85      1.00      0.82      0.92      0.83        92\n",
            "\n",
            "avg / total       1.00      1.00      0.85      1.00      0.92      0.86     56962\n",
            "\n"
          ]
        }
      ],
      "source": [
        "clf_imb_report(classifiers,X_train,y_train,X_test,y_test)"
      ]
    },
    {
      "cell_type": "code",
      "execution_count": 34,
      "metadata": {
        "pycharm": {}
      },
      "outputs": [
        {
          "name": "stdout",
          "output_type": "stream",
          "text": [
            "\n",
            "Estimator : Naive Bayes Classifier \n",
            "\n",
            "Estimator : RandomForestClassifier \n",
            "\n",
            "Estimator : Support Vector Classifier \n"
          ]
        },
        {
          "name": "stderr",
          "output_type": "stream",
          "text": [
            "E:\\Anaconda3\\envs\\Ai\\lib\\site-packages\\sklearn\\svm\\base.py:922: ConvergenceWarning: Liblinear failed to converge, increase the number of iterations.\n",
            "  \"the number of iterations.\", ConvergenceWarning)\n"
          ]
        }
      ],
      "source": [
        "preds_no_method \u003d {}\n",
        "for keys, clf in zip(classifiers.keys(),classifiers.values()):\n",
        "    print(\"\\nEstimator : %s \" %keys)\n",
        "    # Fit in our undersampled train set and predict in our test set\n",
        "    clf.fit(X_train, y_train)\n",
        "    preds_no_method[keys] \u003d clf.predict(X_test)\n"
      ]
    },
    {
      "cell_type": "code",
      "execution_count": 35,
      "metadata": {
        "pycharm": {}
      },
      "outputs": [
        {
          "name": "stdout",
          "output_type": "stream",
          "text": [
            "SVC Average precision-recall score on test data: 0.67\n",
            " RDF Average precision-recall score on test data: 0.75\n",
            " Naive Bayes Average precision-recall score on test data: 0.05\n"
          ]
        }
      ],
      "source": [
        "avg_precision_recall_svc \u003d average_precision_score(y_test, preds_no_method[\"Support Vector Classifier\"])\n",
        "avg_precision_recall_rdf \u003d average_precision_score(y_test, preds_no_method[\"RandomForestClassifier\"])\n",
        "avg_precision_recall_nb \u003d average_precision_score(y_test, preds_no_method[\"Naive Bayes Classifier\"])\n",
        "\n",
        "print(\u0027SVC Average precision-recall score on test data: {0:0.2f}\\n\u0027.format(avg_precision_recall_svc),\n",
        "      \u0027RDF Average precision-recall score on test data: {0:0.2f}\\n\u0027.format(avg_precision_recall_rdf),\n",
        "      \u0027Naive Bayes Average precision-recall score on test data: {0:0.2f}\u0027.format(avg_precision_recall_nb))"
      ]
    },
    {
      "cell_type": "markdown",
      "metadata": {
        "colab_type": "text",
        "id": "TXRMhqpDMk9f",
        "pycharm": {}
      },
      "source": "We are going to implement undersample and SMOTE but first we need to cross validate in order to find the best parameters, \nbecause in other case we would mistakenly be adding bias to our model."
    },
    {
      "cell_type": "markdown",
      "metadata": {
        "colab_type": "text",
        "id": "6OiSRuLOMk9f",
        "pycharm": {}
      },
      "source": "To summarize, when cross-validating with oversampling, we should do the following to make sure \nthat the results are generalizable:\n- Inside the cross-validation loop, get a sample out and do not use it for anything related to feature selection, \noversampling or model building.\n- Oversample the minority class, without the sample which were already excluded.\n- Use the excluded sample for validation, and the oversampled minority class + the majority class, to create the model.\n- Repeat n times, where n is the number of samples (if applying leave one participant out cross-validation).\n"
    },
    {
      "cell_type": "markdown",
      "metadata": {
        "colab_type": "text",
        "id": "TNEJgh1rMk9h",
        "pycharm": {}
      },
      "source": "The Wrong Way  \n![Wrong Way](./images/wrong.jpg)\n\n\n---\n\nThe Right way  \n![Right Way](./images/right.jpg)"
    },
    {
      "cell_type": "markdown",
      "metadata": {
        "colab_type": "text",
        "id": "t_JUQdOlMk9p",
        "pycharm": {}
      },
      "source": [
        "## Search for Hyperparameters"
      ]
    },
    {
      "cell_type": "markdown",
      "metadata": {
        "colab_type": "text",
        "id": "pBRXjawRVSuH",
        "pycharm": {}
      },
      "source": "For the SVM and Random Forest classifiers we are first going to search in a random area for the best parameters \nand then we will zoom in the area around the best scores and make a grid search.  \nWe are going to search for C in a logarithmic scale because we are dealing with values from 0.0001 to 1000. \nWe want our parameter search to involve a wider range of those values without excluding values near to 0 \nas it happens when sampling uniformly.  \nFor the Naive Bayes Classifier, we are going to search only for the alpha, \nso we are going to skip the random search procedure.  \n- Random Search"
    },
    {
      "cell_type": "code",
      "execution_count": 0,
      "metadata": {
        "colab": {},
        "colab_type": "code",
        "id": "ZhOxP5PTMk95",
        "outputId": "e6ac704d-5195-4d12-edf3-aac74afc9d4e",
        "pycharm": {}
      },
      "outputs": [
        {
          "name": "stdout",
          "output_type": "stream",
          "text": [
            "\n",
            "Εstimator : RandomForestClassifier\n",
            "Fitting 4 folds for each of 10 candidates, totalling 40 fits\n"
          ]
        },
        {
          "name": "stderr",
          "output_type": "stream",
          "text": [
            "[Parallel(n_jobs\u003d-1)]: Using backend LokyBackend with 8 concurrent workers.\n",
            "[Parallel(n_jobs\u003d-1)]: Done  40 out of  40 | elapsed:  2.8min finished\n"
          ]
        },
        {
          "name": "stdout",
          "output_type": "stream",
          "text": [
            "Best parameters found for Estimator : RandomForestClassifier\n",
            "{\u0027min_samples_split\u0027: 4, \u0027max_features\u0027: 6, \u0027max_depth\u0027: 18}\n",
            "\n",
            "Best score found for G-Mean Score metric : 0.874\n",
            "\n",
            "Εstimator : Support Vector Classifier\n",
            "Fitting 4 folds for each of 5 candidates, totalling 20 fits\n"
          ]
        },
        {
          "name": "stderr",
          "output_type": "stream",
          "text": [
            "[Parallel(n_jobs\u003d-1)]: Using backend LokyBackend with 8 concurrent workers.\n",
            "[Parallel(n_jobs\u003d-1)]: Done  20 out of  20 | elapsed:  2.1min finished\n"
          ]
        },
        {
          "name": "stdout",
          "output_type": "stream",
          "text": [
            "Best parameters found for Estimator : Support Vector Classifier\n",
            "{\u0027C\u0027: 231.76480333117937}\n",
            "\n",
            "Best score found for G-Mean Score metric : 0.891\n"
          ]
        }
      ],
      "source": [
        "classifiers \u003d {\"RandomForestClassifier\": RandomForestClassifier(),\n",
        "               \"Support Vector Classifier\": LinearSVC()}\n",
        "\n",
        "#SVM Hyperparameters search\n",
        "r \u003d np.random.uniform(-3,3,size \u003d 5)\n",
        "C \u003d np.array(10**r)\n",
        "params_svm \u003d {\u0027C\u0027 : C}\n",
        "\n",
        "\n",
        "#Random Forest Classifier\n",
        "params_rdf \u003d {\u0027max_depth\u0027: np.random.randint(4, 30,size \u003d 3),\n",
        "              \u0027max_features\u0027: np.random.randint(1, 9,size \u003d 3),\n",
        "              \u0027min_samples_split\u0027: np.random.randint(2, 11,size \u003d 3)}\n",
        "\n",
        "params \u003d [params_rdf,params_svm]\n",
        "#Results\n",
        "res \u003d {}\n",
        "\n",
        "for keys, classifier ,params in zip(classifiers.keys(),classifiers.values(),params):\n",
        "    res[keys] \u003d hyperparameters(classifier,params,X_train,y_train,scoring,keys,random_search\u003dTrue)\n",
        "\n"
      ]
    },
    {
      "cell_type": "markdown",
      "metadata": {
        "colab_type": "text",
        "id": "3ivz0Ln-Mk-A",
        "pycharm": {}
      },
      "source": [
        "Now that we found our best parameters it is time to make a grid search in a specific area  \n",
        "- Grid Search"
      ]
    },
    {
      "cell_type": "code",
      "execution_count": 0,
      "metadata": {
        "colab": {},
        "colab_type": "code",
        "id": "PSd9S7cKMk-F",
        "outputId": "4fe282b6-3436-4c10-b5e0-c105f7324262",
        "pycharm": {}
      },
      "outputs": [
        {
          "name": "stdout",
          "output_type": "stream",
          "text": [
            "\n",
            "Εstimator : RandomForestClassifier\n",
            "Fitting 4 folds for each of 36 candidates, totalling 144 fits\n"
          ]
        },
        {
          "name": "stderr",
          "output_type": "stream",
          "text": [
            "[Parallel(n_jobs\u003d-1)]: Using backend LokyBackend with 8 concurrent workers.\n",
            "[Parallel(n_jobs\u003d-1)]: Done  34 tasks      | elapsed:  2.6min\n",
            "[Parallel(n_jobs\u003d-1)]: Done 144 out of 144 | elapsed: 10.0min finished\n"
          ]
        },
        {
          "name": "stdout",
          "output_type": "stream",
          "text": [
            "Best parameters found for Estimator : RandomForestClassifier\n",
            "{\u0027max_depth\u0027: 19, \u0027max_features\u0027: 5, \u0027min_samples_split\u0027: 5}\n",
            "\n",
            "Best score found for G-Mean Score metric : 0.885\n",
            "\n",
            "Εstimator : Support Vector Classifier\n",
            "Fitting 4 folds for each of 4 candidates, totalling 16 fits\n"
          ]
        },
        {
          "name": "stderr",
          "output_type": "stream",
          "text": [
            "[Parallel(n_jobs\u003d-1)]: Using backend LokyBackend with 8 concurrent workers.\n",
            "[Parallel(n_jobs\u003d-1)]: Done  16 out of  16 | elapsed:  2.8min finished\n"
          ]
        },
        {
          "name": "stdout",
          "output_type": "stream",
          "text": [
            "Best parameters found for Estimator : Support Vector Classifier\n",
            "{\u0027C\u0027: 231.5}\n",
            "\n",
            "Best score found for G-Mean Score metric : 0.889\n",
            "\n",
            "Εstimator : Naive Bayes Classifier\n",
            "Fitting 4 folds for each of 50 candidates, totalling 200 fits\n"
          ]
        },
        {
          "name": "stderr",
          "output_type": "stream",
          "text": [
            "[Parallel(n_jobs\u003d-1)]: Using backend LokyBackend with 8 concurrent workers.\n",
            "[Parallel(n_jobs\u003d-1)]: Done  34 tasks      | elapsed:   27.1s\n",
            "[Parallel(n_jobs\u003d-1)]: Done 184 tasks      | elapsed:  2.0min\n",
            "[Parallel(n_jobs\u003d-1)]: Done 200 out of 200 | elapsed:  2.2min finished\n"
          ]
        },
        {
          "name": "stdout",
          "output_type": "stream",
          "text": [
            "Best parameters found for Estimator : Naive Bayes Classifier\n",
            "{\u0027var_smoothing\u0027: 0.0}\n",
            "\n",
            "Best score found for G-Mean Score metric : 0.898\n"
          ]
        }
      ],
      "source": [
        "classifiers \u003d {\"RandomForestClassifier\": RandomForestClassifier(),\n",
        "               \"Support Vector Classifier\": LinearSVC(),\n",
        "               \"Naive Bayes Classifier\": GaussianNB()}\n",
        "\n",
        "\n",
        "#Parameters Random Forest Classifier\n",
        "params_rdf \u003d {\u0027max_depth\u0027: [17,19,18],\n",
        "              \u0027max_features\u0027: [5,6,7],\n",
        "              \u0027min_samples_split\u0027: [3,4,5,6]}    \n",
        "\n",
        "#Parameters Support Vector Classifier\n",
        "params_svc \u003d {\u0027C\u0027 : [231.5,232,234,230]}\n",
        "\n",
        "#Naive Bayes Classifier\n",
        "param_nb \u003d {\"var_smoothing\": np.arange(0, 10, 0.2)}\n",
        "\n",
        "\n",
        "params \u003d [params_rdf , params_svc ,param_nb]\n",
        "\n",
        "for keys, classifier ,params in zip(classifiers.keys(),classifiers.values(),params):\n",
        "    res[keys] \u003d hyperparameters(classifier,params,X_train,y_train,scoring,keys,random_search\u003dFalse)\n",
        "    "
      ]
    },
    {
      "cell_type": "markdown",
      "metadata": {
        "colab_type": "text",
        "id": "4z46P2P_Mk-K",
        "pycharm": {}
      },
      "source": "We found the optimal parameters for our classifiers so we will proceed in the next steps; \nundersampling and cross validating in our new set"
    },
    {
      "cell_type": "code",
      "execution_count": 0,
      "metadata": {
        "colab": {},
        "colab_type": "code",
        "id": "x_dy3STXMk-L",
        "pycharm": {}
      },
      "outputs": [],
      "source": [
        "classifiers \u003d {\"RandomForestClassifier\": RandomForestClassifier(max_depth\u003d19, max_features\u003d5,min_samples_split\u003d5),\n",
        "               \"Support Vector Classifier\": LinearSVC(C\u003d 231.76480333117937),\n",
        "               \"Naive Bayes Classifier\": GaussianNB(var_smoothing\u003d0.0)}"
      ]
    },
    {
      "cell_type": "markdown",
      "metadata": {
        "colab_type": "text",
        "id": "EYaG02k5Mk-W",
        "pycharm": {}
      },
      "source": [
        "## Undersampling"
      ]
    },
    {
      "cell_type": "markdown",
      "metadata": {
        "colab_type": "text",
        "id": "5soZgu_gMk-X",
        "pycharm": {}
      },
      "source": [
        "Lets proceed to the Undersampling technique"
      ]
    },
    {
      "cell_type": "code",
      "execution_count": 0,
      "metadata": {
        "colab": {},
        "colab_type": "code",
        "id": "NTJMni0vMk-Z",
        "outputId": "5067de8f-92c0-40a5-c48a-430087f5b162",
        "pycharm": {}
      },
      "outputs": [
        {
          "name": "stdout",
          "output_type": "stream",
          "text": [
            "Original dataset shape Counter({0: 284315, 1: 492})\n",
            "Resampled dataset shape Counter({0: 394, 1: 394})\n",
            "Distribution of the Classes in the subsample dataset\n"
          ]
        },
        {
          "data": {
            "text/plain": [
              "Text(0,0.5,\u0027Frequency\u0027)"
            ]
          },
          "execution_count": 18,
          "metadata": {
            "tags": []
          },
          "output_type": "execute_result"
        },
        {
          "data": {
            "image/png": "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\u003d\n",
            "text/plain": [
              "\u003cFigure size 432x288 with 1 Axes\u003e"
            ]
          },
          "metadata": {
            "needs_background": "light",
            "tags": []
          },
          "output_type": "display_data"
        }
      ],
      "source": [
        "print(\u0027Original dataset shape %s\u0027 % Counter(y))\n",
        "\n",
        "rund \u003d RandomUnderSampler(random_state\u003d42)\n",
        "X_undersampled, y_undersampled \u003d rund.fit_resample(X_train, y_train)\n",
        "\n",
        "print(\u0027Resampled dataset shape %s\u0027 % Counter(y_undersampled))\n",
        "\n",
        "\n",
        "print(\u0027Distribution of the Classes in the subsample dataset\u0027)\n",
        "count_classes \u003d pd.value_counts(y_undersampled, sort \u003d True).sort_index()\n",
        "count_classes.plot(kind \u003d \u0027bar\u0027)\n",
        "plt.title(\"Fraud class histogram\")\n",
        "plt.xlabel(\"Class\")\n",
        "plt.ylabel(\"Frequency\")"
      ]
    },
    {
      "cell_type": "markdown",
      "metadata": {
        "colab_type": "text",
        "id": "X5AYTjrGMk-d",
        "pycharm": {}
      },
      "source": [
        "### Validation on resampled set"
      ]
    },
    {
      "cell_type": "code",
      "execution_count": 0,
      "metadata": {
        "colab": {},
        "colab_type": "code",
        "id": "7t5kdE67Mk-e",
        "outputId": "9043df8b-c019-4c79-dd4c-445a54443029",
        "pycharm": {}
      },
      "outputs": [
        {
          "name": "stdout",
          "output_type": "stream",
          "text": [
            "\n",
            "Estimator : RandomForestClassifier \n",
            "                   pre       rec       spe        f1       geo       iba       sup\n",
            "\n",
            "          0       0.96      0.92      0.96      0.94      0.94      0.88       415\n",
            "          1       0.91      0.96      0.92      0.94      0.94      0.89       373\n",
            "\n",
            "avg / total       0.94      0.94      0.94      0.94      0.94      0.88       788\n",
            "\n",
            "\n",
            "Estimator : Support Vector Classifier \n",
            "                   pre       rec       spe        f1       geo       iba       sup\n",
            "\n",
            "          0       0.95      0.94      0.95      0.94      0.94      0.89       402\n",
            "          1       0.93      0.95      0.94      0.94      0.94      0.89       386\n",
            "\n",
            "avg / total       0.94      0.94      0.94      0.94      0.94      0.89       788\n",
            "\n",
            "\n",
            "Estimator : Naive Bayes Classifier \n",
            "                   pre       rec       spe        f1       geo       iba       sup\n",
            "\n",
            "          0       0.97      0.88      0.97      0.92      0.92      0.84       434\n",
            "          1       0.87      0.97      0.88      0.91      0.92      0.86       354\n",
            "\n",
            "avg / total       0.92      0.92      0.93      0.92      0.92      0.85       788\n",
            "\n"
          ]
        }
      ],
      "source": [
        "preds \u003d {}\n",
        "for keys, clf in zip(classifiers.keys(),classifiers.values()):\n",
        "    print(\"\\nEstimator : %s \" %keys)\n",
        "    # Fit in our undersampled train set and predict in our test set\n",
        "    preds[keys] \u003d cross_val_predict(clf,X_undersampled,y_undersampled,cv \u003d 4)\n",
        "    print(classification_report_imbalanced(preds[keys],y_undersampled))\n"
      ]
    },
    {
      "cell_type": "code",
      "execution_count": 0,
      "metadata": {
        "colab": {},
        "colab_type": "code",
        "id": "7rLSVFAiMk-i",
        "outputId": "7a7009bb-50be-48e8-a86b-5b952e217794",
        "pycharm": {}
      },
      "outputs": [
        {
          "name": "stdout",
          "output_type": "stream",
          "text": [
            "Gaussian NB Classifier: 0.9188 \n",
            "Support Vector Classifier: 0.9442\n",
            "Random Forest Classifier: 0.9378\n"
          ]
        }
      ],
      "source": [
        "from sklearn.metrics import roc_auc_score \n",
        "\n",
        "\n",
        "print(\u0027Gaussian NB Classifier: {:.4f} \u0027.format(roc_auc_score(y_undersampled, preds[\"Naive Bayes Classifier\"])))\n",
        "print(\u0027Support Vector Classifier: {:.4f}\u0027.format(roc_auc_score(y_undersampled, preds[\"Support Vector Classifier\"])))\n",
        "print(\u0027Random Forest Classifier: {:.4f}\u0027.format(roc_auc_score(y_undersampled, preds[\"RandomForestClassifier\"])))\n",
        "\n",
        "names \u003d [\"Gaussian NB Classifier\",\"Support Vector Classifier\",\"Random Forest Classifier\"]"
      ]
    },
    {
      "cell_type": "code",
      "execution_count": 0,
      "metadata": {
        "colab": {},
        "colab_type": "code",
        "id": "OIL8hXPTMk-m",
        "outputId": "8d070f98-c709-4957-e906-030cfebef338",
        "pycharm": {}
      },
      "outputs": [
        {
          "data": {
            "image/png": "[encoded data removed]",
            "text/plain": [
              "\u003cFigure size 1152x576 with 1 Axes\u003e"
            ]
          },
          "metadata": {
            "needs_background": "light",
            "tags": []
          },
          "output_type": "display_data"
        }
      ],
      "source": [
        "gnb_fpr, gnb_tpr, gnb_threshold \u003d roc_curve(y_undersampled, preds[\"Naive Bayes Classifier\"])\n",
        "svc_fpr, svc_tpr, svc_threshold \u003d roc_curve(y_undersampled, preds[\"Support Vector Classifier\"])\n",
        "rdf_fpr, rdf_tpr, rdf_threshold \u003d roc_curve(y_undersampled, preds[\"RandomForestClassifier\"])\n",
        "\n",
        "graph_roc_curve_multiple(gnb_fpr,gnb_tpr,roc_auc_score(y_undersampled, preds[\"Naive Bayes Classifier\"]),\n",
        "                           svc_fpr,svc_tpr,roc_auc_score(y_undersampled, preds[\"Support Vector Classifier\"]),\n",
        "                           rdf_fpr,rdf_tpr,roc_auc_score(y_undersampled, preds[\"RandomForestClassifier\"]),\n",
        "                                                        names)"
      ]
    },
    {
      "cell_type": "markdown",
      "metadata": {
        "colab_type": "text",
        "id": "ocRvTJwmMk-s",
        "pycharm": {}
      },
      "source": [
        "Roc Curve for Support Vector Classifier"
      ]
    },
    {
      "cell_type": "code",
      "execution_count": 0,
      "metadata": {
        "colab": {},
        "colab_type": "code",
        "id": "3_H7gOmvMk-t",
        "outputId": "38982209-a92e-4071-925d-3546d245699e",
        "pycharm": {}
      },
      "outputs": [
        {
          "data": {
            "image/png": "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\u003d\n",
            "text/plain": [
              "\u003cFigure size 864x576 with 1 Axes\u003e"
            ]
          },
          "metadata": {
            "needs_background": "light",
            "tags": []
          },
          "output_type": "display_data"
        }
      ],
      "source": [
        "roc_curve_(svc_fpr, svc_tpr, \"Support Vector Classifier \")"
      ]
    },
    {
      "cell_type": "markdown",
      "metadata": {
        "colab_type": "text",
        "id": "wQy-iWnJMk-z",
        "pycharm": {}
      },
      "source": "We are going to implement 5 fold Stratified Shuffle Split Validation as follows:\n- Split our Train Test in 5 folds of which 90% of the data will be for training and 10% for validation.\n- Leave the 10% of our validation out and resample only the training set.\n- Cross validate on the validation set.\n"
    },
    {
      "cell_type": "markdown",
      "metadata": {
        "colab_type": "text",
        "id": "04FUblHSMk-0",
        "pycharm": {}
      },
      "source": [
        "### Cross validation on the original set "
      ]
    },
    {
      "cell_type": "code",
      "execution_count": 0,
      "metadata": {
        "colab": {},
        "colab_type": "code",
        "id": "D213-hXIMk-1",
        "outputId": "ddcd4eb7-6aa2-4587-d7e9-8a728725614d",
        "pycharm": {}
      },
      "outputs": [
        {
          "name": "stdout",
          "output_type": "stream",
          "text": [
            "\n",
            "Classifier : RandomForestClassifier \n",
            "\n",
            "Accuracy Score \u003d  0.964\n",
            "Accuracy Std \u003d  0.009\n",
            "Balanced Accuracy Score \u003d  0.522\n",
            "Balanced Accuracy Std \u003d  0.006\n",
            "Average Precision Recall Score \u003d  0.075\n",
            "Average Precision Recall Std \u003d  0.005\n",
            "Roc Auc Score \u003d  0.522\n",
            "Roc Auc Std \u003d  0.006\n",
            "G Mean Score \u003d  0.208\n",
            "G Mean Std \u003d  0.026\n",
            "\n",
            "Time needed to execute for 5 validation folds \u003d 1.004 \n",
            "\n",
            "Classifier : Support Vector Classifier \n",
            "\n",
            "Accuracy Score \u003d  0.925\n",
            "Accuracy Std \u003d  0.026\n",
            "Balanced Accuracy Score \u003d  0.511\n",
            "Balanced Accuracy Std \u003d  0.003\n",
            "Average Precision Recall Score \u003d  0.096\n",
            "Average Precision Recall Std \u003d  0.02\n",
            "Roc Auc Score \u003d  0.511\n",
            "Roc Auc Std \u003d  0.003\n",
            "G Mean Score \u003d  0.148\n",
            "G Mean Std \u003d  0.022\n",
            "\n",
            "Time needed to execute for 5 validation folds \u003d 1.118 \n",
            "\n",
            "Classifier : Naive Bayes Classifier \n",
            "\n",
            "Accuracy Score \u003d  0.966\n",
            "Accuracy Std \u003d  0.006\n",
            "Balanced Accuracy Score \u003d  0.521\n",
            "Balanced Accuracy Std \u003d  0.003\n",
            "Average Precision Recall Score \u003d  0.07\n",
            "Average Precision Recall Std \u003d  0.002\n",
            "Roc Auc Score \u003d  0.521\n",
            "Roc Auc Std \u003d  0.003\n",
            "G Mean Score \u003d  0.206\n",
            "G Mean Std \u003d  0.017\n",
            "\n",
            "Time needed to execute for 5 validation folds \u003d 1.067 \n"
          ]
        }
      ],
      "source": [
        "sampler \u003d RandomUnderSampler(random_state\u003d42)\n",
        "\n",
        "for keys, clf in zip(classifiers.keys(),classifiers.values()):\n",
        "    print(\"\\nClassifier : \" +keys, \"\\n\")\n",
        "    tic \u003d time.time()\n",
        "    res \u003d resample_cross_val(clf,X_train,y_train,sampler,cv \u003d 5)\n",
        "    toc \u003d time.time() - tic\n",
        "    for key , values in zip(res.keys(),res.values()):\n",
        "        print(key,values)\n",
        "    print(\"\\nTime needed to execute for 5 validation folds \u003d %.3f \" %toc)"
      ]
    },
    {
      "cell_type": "markdown",
      "metadata": {
        "colab_type": "text",
        "id": "GCyl5ZJ7Mk_A",
        "pycharm": {}
      },
      "source": "It seems like the Random Forest Classifier got the best results in our validation set but lets have another evaluation.\nClearly an overfitted case but lets examine the Roc Auc Scores and plots.\nLets choose the Support Vector Classifier as we see it gets the best results."
    },
    {
      "cell_type": "markdown",
      "metadata": {
        "colab_type": "text",
        "id": "QXYIKUTZMk_C",
        "pycharm": {}
      },
      "source": "### Predictions on Test set"
    },
    {
      "cell_type": "code",
      "execution_count": 0,
      "metadata": {
        "colab": {},
        "colab_type": "code",
        "id": "77InGAoaMk_D",
        "outputId": "3c85d81d-dda2-482f-844c-87eb96472f96",
        "pycharm": {}
      },
      "outputs": [
        {
          "name": "stdout",
          "output_type": "stream",
          "text": [
            "\n",
            "Estimator : RandomForestClassifier \n",
            "                   pre       rec       spe        f1       geo       iba       sup\n",
            "\n",
            "          0       0.95      1.00      0.03      0.97      0.18      0.03     54069\n",
            "          1       0.91      0.03      1.00      0.06      0.18      0.03      2893\n",
            "\n",
            "avg / total       0.95      0.95      0.08      0.93      0.18      0.03     56962\n",
            "\n",
            "\n",
            "Estimator : Support Vector Classifier \n",
            "                   pre       rec       spe        f1       geo       iba       sup\n",
            "\n",
            "          0       0.87      1.00      0.01      0.93      0.11      0.01     49306\n",
            "          1       0.93      0.01      1.00      0.02      0.11      0.01      7656\n",
            "\n",
            "avg / total       0.88      0.87      0.14      0.81      0.11      0.01     56962\n",
            "\n",
            "\n",
            "Estimator : Naive Bayes Classifier \n",
            "                   pre       rec       spe        f1       geo       iba       sup\n",
            "\n",
            "          0       0.96      1.00      0.04      0.98      0.19      0.04     54659\n",
            "          1       0.88      0.04      1.00      0.07      0.19      0.03      2303\n",
            "\n",
            "avg / total       0.96      0.96      0.08      0.94      0.19      0.04     56962\n",
            "\n"
          ]
        }
      ],
      "source": [
        "preds \u003d {}\n",
        "for keys, clf in zip(classifiers.keys(),classifiers.values()):\n",
        "    print(\"\\nEstimator : %s \" %keys)\n",
        "    # Fit in our undersampled train set and predict in our test set\n",
        "    clf.fit(X_undersampled, y_undersampled)\n",
        "    preds[keys] \u003d clf.predict(X_test)\n",
        "    print(classification_report_imbalanced(preds[keys],y_test))\n"
      ]
    },
    {
      "cell_type": "markdown",
      "metadata": {
        "colab_type": "text",
        "id": "k6eqqKegMk_J",
        "pycharm": {}
      },
      "source": [
        "We are going to select our best classifier which was the Naive bayes as we saw from the results"
      ]
    },
    {
      "cell_type": "code",
      "execution_count": 0,
      "metadata": {
        "colab": {},
        "colab_type": "code",
        "id": "ZQSS4M85Mk_K",
        "outputId": "e41e4f45-7bd8-4432-8375-6a89da22eaef",
        "pycharm": {}
      },
      "outputs": [
        {
          "data": {
            "image/png": "iVBORw0KGgoAAAANSUhEUgAAAU4AAAFNCAYAAABvx4bHAAAABHNCSVQICAgIfAhkiAAAAAlwSFlzAAALEgAACxIB0t1+/AAAADl0RVh0U29mdHdhcmUAbWF0cGxvdGxpYiB2ZXJzaW9uIDIuMi4zLCBodHRwOi8vbWF0cGxvdGxpYi5vcmcvIxREBQAAIABJREFUeJzt3Xm4XFWV9/Hv72YOkHkAkyBTCAK+GBkEBFRADAKC3SAgaEQk3QoNtopAqyAgCiIItIKgzPgyyNvKEAYZDDQIhCkMIUBiEBODScg8J/fe9f5x9o2VmzvUqVTl3kr9Ps9zHqr22XXOKgIra+99zilFBGZmVry6jg7AzKzaOHGameXkxGlmlpMTp5lZTk6cZmY5OXGameXkxFlDJPWSdJ+kRZJ+twHHOUHSH8sZW0eQ9KCksR0dh1UfJ85OSNIXJb0gaamk99L/4PuV4dBHA0OBgRFxTKkHiYjfRsQhZYhnHZI+KSkk/U+z9t1S+4Qij/NDSbe11y8iDo2Im0sM12qYE2cnI+lbwBXAj8mS3NbA1cCRZTj8B4G3I6K+DMeqlLnAvpIGFrSNBd4u1wmU8X/7VrqI8NZJNqAvsBQ4po0+PcgS66y0XQH0SPs+CcwEvg3MAd4DTkr7zgdWA2vSOU4GfgjcVnDsbYAAuqb3XwGmA0uAd4ATCtqfKvjcvsDzwKL0z30L9k0ALgSeTsf5IzCole/WFP+vgFNTW5fUdi4woaDvlcAMYDHwIrB/ah/T7Hu+UhDHRSmOFcAOqe1raf81wN0Fx78EeAxQR/934a3zbf5bt3PZB+gJ/L6NPt8D9gY+AuwG7AV8v2D/lmQJeBhZcvylpP4RcR5ZFXtnRGweEde3FYikzYCrgEMjYguy5DiphX4DgPGp70DgcmB8s4rxi8BJwBCgO/Cdts4N3AJ8Ob3+DDCZ7C+JQs+T/TsYAPxf4HeSekbEQ82+524Fn/kSMA7YAni32fG+DfwfSV+RtD/Zv7uxEeF7km09Tpydy0Dg/Wh7KH0CcEFEzImIuWSV5JcK9q9J+9dExANkVdeoEuNpBHaV1Csi3ouIyS30OQyYGhG3RkR9RNwOvAkcUdDnxoh4OyJWAHeRJbxWRcSfgQGSRpEl0Fta6HNbRMxL57yMrBJv73veFBGT02fWNDvecuBEssR/G/AfETGzneNZjXLi7FzmAYMkdW2jzwdYt1p6N7WtPUazxLsc2DxvIBGxDDgW+HfgPUnjJe1URDxNMQ0reP+PEuK5FTgN+BQtVOCSvi1pSrpCYCFZlT2onWPOaGtnREwkm5oQWYI3a5ETZ+fyDLASOKqNPrPIFnmabM36w9hiLQN6F7zfsnBnRDwcEZ8GtiKrIn9dRDxNMf29xJia3Ap8A3ggVYNrpaH0WcAXgP4R0Y9sflVNobdyzDaH3ZJOJatcZwHfLT1029Q5cXYiEbGIbBHkl5KOktRbUjdJh0r6aep2O/B9SYMlDUr92730phWTgAMkbS2pL3BO0w5JQyV9Ls11riIb8je0cIwHgB3TJVRdJR0L7AzcX2JMAETEO8AnyOZ0m9sCqCdbge8q6VygT8H+2cA2eVbOJe0I/IhsuP4l4LuS2pxSsNrlxNnJRMTlwLfIFnzmkg0vTwP+kLr8CHgBeBV4DXgptZVyrkeAO9OxXmTdZFdHtmAyC5hPlsS+0cIx5gGHp77zyCq1wyPi/VJianbspyKipWr6YeBBskuU3iWr0guH4U0X98+T9FJ750lTI7cBl0TEKxExFfgv4FZJPTbkO9imSV40NDPLxxWnmVlOTpxmZjk5cZqZ5eTEaWaWkxOnmVlObd2h0tG83G/WMdR+l/Xtd8QTJf0/+9R9nyjpfB2pMydO9jviiY4OwUrw1H2fAODvZxzbwZFYKYZdeWdHh9DpderEaWbVQ3W1M/PnxGlmZaG6qhtxl8yJ08zKopYequ/EaWZl4YrTzCwnz3GameVU54rTzCwfz3GameXkOU4zs5w8x2lmlpMrTjOznOo8x2lmlo8rTjOznJw4zcxy8uVIZmY5ueI0M8uproYuR6qdb2pmViauOM2sLCQP1c3McvEcp5lZTk6cZmY5+c4hM7OcXHGameXkxGlmlpNX1c3McvJPZ5iZ5eQHGZuZ5eShuplZTl4cMjPLyXOcZmY5eahuZpaTh+pmZjnVueI0M8unlirO2rnwysysTFxxmllZ1FLF6cRpZmXhVXUzs5x8HaeZWU6uOM3McvIcp5lZTjWUN504zaw8XHGameXkxGlmlpNvuTQzy8kVp5lZTjVUcPpedTMrj7o6lbQVQ1IXSS9Luj+931bSc5KmSrpTUvfU3iO9n5b2b1NwjHNS+1uSPlPQPia1TZN0dlHfNce/FzOzVkkqaSvSGcCUgveXAD+PiJHAAuDk1H4ysCAidgB+nvohaWfgOGAXYAxwdUrGXYBfAocCOwPHp75tcuI0s7Kok0ra2iNpOHAY8Jv0XsCBwN2py83AUen1kek9af9Bqf+RwB0RsSoi3gGmAXulbVpETI+I1cAdqW/b37WofyNmZu1QXWlbEa4Avgs0pvcDgYURUZ/ezwSGpdfDgBkAaf+i1H9te7PPtNbeJidOMyuLUofqksZJeqFgG1dwzMOBORHxYuGpWjh9tLMvb3ubvKpuZh0qIq4Drmtl98eBz0n6LNAT6ENWgfaT1DVVlcOBWan/TGAEMFNSV6AvML+gvUnhZ1prb5UrTjMri0qsqkfEORExPCK2IVvceTwiTgD+BByduo0F7kmv703vSfsfj4hI7celVfdtgZHAROB5YGRape+eznFve9/VFaeZlcVGvo7zLOAOST8CXgauT+3XA7dKmkZWaR4HEBGTJd0FvAHUA6dGREMWt04DHga6ADdExOT2Tu7EaWZlUek7hyJiAjAhvZ5OtiLevM9K4JhWPn8RcFEL7Q8AD+SJxYnTzMqihu64dOI0s/LwE+DNzHKqq6GlZidOMysLV5xmZjkVeRfQJsGJ08zKwg8yNjPLqYbyphNnHnV18JvLP8rc+as564LX19k3dHAPzjljFP36dGPJ0nouuGwKc+et3qDzbbF5Vy747s5sObQH/5i9inMveYMly+rX7t9p5BZce+lozvvpG0z48/sbdK5NWdchW9F/7Df/+X7QEBY/8DuWPbHupXvdd9iZvp8fi7p0oXHZEt7/7/M37MRdutL/xFPpPmI7GpctYf7NV9Iwfy7dtt6efsdmt2NLYvFDv2Plq89v2Lk6ASdOa9ExRwzn3ZnL6d17/X9tp311ex56fDYPPT6bj/6ffvzb2O340eVvFnXc0bv25dCDt+THV7y1TvuJR2/Ni68u4La7Z3Di0SM48egRXHPzO0CWxL8+dlsmvjx/w7/YJq5+znvMvfSs7I3Elhf8ipWvTlynj3r1pt8xJzPvVz+mYcE86jbvU/TxuwwYTP8vfp33f3HBOu2b7XMgsWIZs390Br1G70ufI77IgpuvpP69Gcy97BxobKSuTz+GfPen/OP1F6GxsZUzVIdiH0q8KajYdK6knSSdJekqSVem1x+q1PkqbfDA7uyz5wDu++M/Wty/zda9efGVBQC89OpC9v/YwLX7jv/8cH59+Whuump3vvrFDxZ9zv0/NpAHH5sNwIOPzWb/vQet3fevhw/jiT+/z4JFa0r5OjWrx44fpv792TQsWLdC7737fqx4ZSINC+YB0Lh08dp9vfbYj8HfuojBZ15Cvy+cUnRp1XPXPVg+8QkAVrzyLD123BWAWLN6bZJU124U8TCeqiCVtlWjiiROSWeRPRBU/PNGegG3F/to+s7m9FN24JobpxONLf9HPu2dpXxy38EAHLDPIDbr3ZU+W3Rlz9H9GfGBXpzyrZc56YwXGbXDFuy2S9+iztm/X3fmLciG+/MWrKZ/v24ADBrQnQP2GcQfHmr3IS7WTK+P7suKl55er73r4K2o670Zg047l8Hf+Qm99jwgax86jF6j92XuFecy99KziGik1x77F3WuLv0GUJ8SMY2NxMrl1G22BQDdPrgDQ87+GUPO/hkL7/pN1VebkN05VMpWjSo1VD8Z2CUi1imHJF0OTAYurtB5K2LfPQewcNFq3vrLUkbv2nLS+8UN0/nWv+3AoQcN5ZXJi5jz/ioaGoK9Rvdnz9EDuPHK3QHo1bMLwz/Qi1cmL+K6n42mW7c6evXsQp8tuq7tc81N05n48oJW4znjlB341U3TN4X/1zauLl3ouevuLL7/9vX31dXRfcR2vP/LC1G37gz+zwtZ89ep9NhxV7qP2JbB3/4xAOrWncYliwAYcPK36TJgCOralS79BzH4zEsAWPbkgyx/bkLLMUT2F++ad6cx5+Lv0HXoMPqf8A1WvjEJ6qt79OBfudxwjcAHgHebtW/FP5/ivJ70ANNxANdeey0wqkLh5fPhD/Xl43sNYu/dB9K9ex2b9e7CD761ExcWzGHOm7+a7/3kDQB69azjE/sOZtnyBgTcdvffuOeh99Y77rjvvAy0Pse5YOFqBvbPqs6B/buzYGH2P9aokZvzwzOzn0Xp26cb++w+gIbG4H+fnVeJr7/J6Pmh0ayZ+c7axFeoYdF8Vk5ZQqxeRaxexaq/TKHrsA8CYvnEJ1tMtvOvvwxofY6zYeF8uvYfyOpF86GuDvXsTePypev0qZ/9d2L1KrptNYI1M6aX78t2gGoddpeiUonzm8Bjkqbyz8fSbw3sAJzW2oeaPdA0brnviQqFl8+1t7zDtbdkizKjd+3Lcf8yYp2kCdC3T1cWL6knAr50zNaMfzSbC33u5QWccsI2/HHCbFasbGTQgO7UNwQLi5ibfGriPA49aCi33T2DQw8ayv8+lyXGL3ztnwsb//XNUfx54jwnzSL02v3jrHjpzy3uW/naC/Q9+qQswXXpSvcPjmTphAeof28GA085k6UTxtO4dDHqvRl1PXqtN0fa4jFff4Hee32C1X+dSq/d9mbV1OxpZV0GDKZh4TxobKRL/0F0HbIVDfPnlvW7WmVVJHFGxEOSdiR77NMwsvnNmcDzTc/A2xScfMI2vDl1CU9PnMfoXfvxb2O3hYBJkxdx+TVTAXj+5QVsM7w3v7p0NAArVjZywWVTikqct939Ny44a2cO+/SWzJ67ih9c/EZFv8+mTN2603PUh1l45z8fNN774wcDsPzpR6mf/XdWTXmFIWddChEse+Zx6t/L/s5fPP5OBn79e6hOREMDC393Q1GJc9mzf2LAiacx9PtX0rh8KfNvvhKA7tvtxBYHH0k0NEAEC393PY3LllTgW29cNTRSRxGddkUv9juic1Scls9T930CgL+fcWwHR2KlGHblnSWlwCvvKy2ZnHFE9Q3yfR2nmZWFn45kZpZT9dWNpXPiNLOy8GPlzMxyqqXFISdOMyuLGio4nTjNrDycOM3McvKquplZTq44zcxy8uKQmVlOrjjNzHJy4jQzy8lDdTOznFxxmpnlJJX6pLXqy7hOnGZWFrU0VK+hS1bNzMrDFaeZlYXnOM3McnLiNDPLqc6LQ2Zm+bjiNDPLyYnTzCynWrocyYnTzMpCdNqfGi87J04zKwsP1c3McvJQ3cwsp9LvVa8+TpxmVhYeqpuZ5VTnxSEzs3xccZqZ5eQ5TjOznGppVd3P4zSzshBR0tbucaWekiZKekXSZEnnp/ZtJT0naaqkOyV1T+090vtpaf82Bcc6J7W/JekzBe1jUts0SWe3F5MTp5l1dquAAyNiN+AjwBhJewOXAD+PiJHAAuDk1P9kYEFE7AD8PPVD0s7AccAuwBjgakldJHUBfgkcCuwMHJ/6tsqJ08zKQipta09klqa33dIWwIHA3an9ZuCo9PrI9J60/yBJSu13RMSqiHgHmAbslbZpETE9IlYDd6S+rWo3cUraTFJder2jpM9J6tb+1zWzWiJFiZvGSXqhYBu3/rHVRdIkYA7wCPAXYGFE1KcuM4Fh6fUwYAZA2r8IGFjY3uwzrbW3qpjFoSeB/SX1Bx4DXgCOBU4o4rNmViNKvY4zIq4DrmunTwPwEUn9gN8DH2qpW/pnS3VstNHeUgHZ5pcpZqiuiFgO/Avw3xHxebJ5ADOztSo1VC8UEQuBCcDeQD9JTcXfcGBWej0TGJHFpK5AX2B+YXuzz7TW3qqiEqekfcgqzPGpzZcxmdk6Sh2qt39cDU6VJpJ6AQcDU4A/AUenbmOBe9Lre9N70v7HIyJS+3Fp1X1bYCQwEXgeGJlW6buTLSDd21ZMxSTAbwLnAL+PiMmStksBm5mtVcHncW4F3JxWv+uAuyLifklvAHdI+hHwMnB96n89cKukaWSV5nEAKX/dBbwB1AOnpikAJJ0GPAx0AW6IiMltBdRu4oyIJ4AnJG2W3k8HTs/3vc1sU1epC+Aj4lVgdAvt08lWxJu3rwSOaeVYFwEXtdD+APBAsTEVs6q+T8rsU9L73SRdXewJzKw2VOoC+M6omDnOK4DPAPMAIuIV4IBKBmVm1adSc5ydUVGLPBExQ+sufzVUJhwzq1bVWj2WopjEOUPSvkCkFafTScN2M7Mm1Vo9lqKYofq/A6eSXUk/k+xe0VMrGZSZVZ+6ErdqVMyq+vv4LiEza4crzgKSfiqpj6Rukh6T9L6kEzdGcGZWPbyqvq5DImIxcDjZUH1H4MyKRmVmVcer6utqehLSZ4HbI2K+aunHRcysKNVaPZaimMR5n6Q3gRXANyQNBlZWNiwzs86rmMWhsyVdAiyOiAZJy2jnIZ9mVnuqddhdimIWh44B6lPS/D5wG/CBikdmZlXFi0Pr+kFELJG0H9mtlzcD11Q2LDOrNnVESVs1KiZxNt1eeRhwTUTcA3SvXEhmVo1qaVW9mMT5d0nXAl8AHpDUo8jPmVkN8VB9XV8ge8DnmPTY+gH4Ok4za6aWEmcxq+rLgf+RNETS1qn5zcqGZWbVplqTYCnaTZySPgdcRraSPgfYmixx7lLZ0MysmlTrfGUpihmqX0j2i3JvR8S2ZD+U9HRFozKzqlNLQ/ViEueaiJgH1Emqi4g/kT1azsxsrVpKnMXccrlQ0ubAk8BvJc0h+4U4M7O1qjUJlqKYivNIsvvU/xN4CPgLcEQlgzKz6uOKs0BELCt4e3MFYzGzKiYaOzqEjUYRLWd8SUugxb8OBERE9KlkYK2c28wqr6TnRv5l+vSS/p/dfrvtqu45la1WnBGxxcYMxMyqm1opwjZFrSZOSXsCgyLiwWbtRwCzIuLFSgc3vtuoSp/CKuCwNW8B/vOrVk1/fnlV63xlKdpaHLqUln8GeEraZ2ZWk9paHBoYEX9t3hgR0yQNrFxIZlaNFLWzONRW4uzVxr7Nyh2ImVU3D9Uzj0q6SM1+mU3S+cDjlQ3LzKqNorGkrRq1VXF+G/gNME3SpNS2G/AC8LVKB2Zm1aWWKs62LkdaBhwvaTv++SSkyRExfaNEZmZVpVqrx1IUc+fQdMDJ0sza5IrTzCwnXwBvZpaTh+qApAFtfTAi5pc/HDOrVh6qZ14ke9BGSzfgB7BdRSIys6rkihNIP5NhZlYUz3E2I6k/MBLo2dQWEU9WKigzqz619DzOYn7l8mvAGcBwYBLZD7c9AxxY2dDMrKrUUMVZzE9nnAHsCbwbEZ8CRgNzKxqVmVUd33K5rpURsVISknpExJuS/KBFM1uHV9XXNVNSP+APwCOSFgCzKhuWmVWbaq0eS1HMLZefTy9/KOlPQF+yX7s0M6tJxa6q7weMjIgbJQ0GhgHvVDQyM6suNbQ4VMyq+nnAHsAo4EagG3Ab8PHKhmZm1aSWhurFrKp/HvgcsAwgImYB/gVMM1uHIkra2j2uNELSnyRNkTRZ0hmpfYCkRyRNTf/sn9ol6SpJ0yS9KumjBccam/pPlTS2oH13Sa+lz1zV/AHuzRWTOFdH9uPrkU7gn80ws/VFY2lb++qBb0fEh8iuIz9V0s7A2cBjETESeCy9BziU7IadkcA44BpY+/yN84CPAXsB5zUl29RnXMHnxrQVUDGJ8y5J1wL9JJ0CPEr2ZHgzs7UqdR1nRLwXES+l10vIfml3GHAkcHPqdjNwVHp9JHBLZJ4ly11bAZ8BHomI+RGxAHgEGJP29YmIZ1KReEvBsVpUzKr6zyR9GlhMNs95bkQ80u63NbOasjGu45S0DdlNOM8BQyPiPciSq6QhqdswYEbBx2amtrbaZ7bQ3qqiVtVTonwkBd5F0gkR8dtiPmtmNaLExSFJ48iGyU2ui4jrWui3OfD/gG9GxOI2piFbe6Jb3vZWtfU8zj7AqWSZ916yxHkqcCbZPetOnGa2VqlPR0pJcr1Euc6xpW5kSfO3EfE/qXm2pK1StbkVMCe1zwRGFHx8ONlNOzOBTzZrn5Dah7fQv1VtzXHeSjY0f43sVy3/CBwDHBkRR7Z1UDOrQRVaHEor3NcDUyLi8oJd9wJNK+NjgXsK2r+cVtf3BhalIf3DwCGS+qdFoUOAh9O+JZL2Tuf6csGxWtTWUH27iPhwCvw3wPvA1mly1sxsXZW7AP7jwJeA1wp+qvy/gIvJFq9PBv5GVtgBPAB8FpgGLAdOysKL+ZIuBJ5P/S4o+CWLrwM3Ab2AB9PWqrYS55qmFxHRIOkdJ00za02lLoCPiKdoeR4S4KAW+gfZtGJLx7oBuKGF9heAXYuNqa3EuZukxem1gF7pvVJsfYo9iZnVAN9yCRHRZWMGYmbVrZZuufTPA5tZeThxmpnl4x9rMzPLq9EVp5lZPjVUcRbzkA8zMyvgitPMysOLQ2Zm+XhxyMwsL1ecZmY5OXGameXjobqZWV6+jtPMLCdXnGZmOXmO08wsJ1ecZmY5eY7TzCwnD9XNzHLyUN3MLCcP1c3McnLFaWaWk+c4zcxyaqyditMPMjYzy8kVp5mVh4fqZmY5eVXdzCwnr6qbmeXkobqZWU41tKruxGlmZRGuOM3McnLFaWaWUw1VnL4AfiPbbMdt2e+FP6zdDpn3ItucPrajw7I2bPMfX+aAl+/jgEn3r/2z2vJfx3DApPv57Kop9N191w6OsHOIxsaStmrkinMjW/b2Ozy1x1HZm7o6Dnr3SWb/4ZGODcpatfkuI9n6q8fw1L7HEKvXsNf43zDngQksnfw2L37hP/jw1ed3dIidRw1djuSKswMNOnAflk+fwYq/zeroUKwVm++0PQsmvkLjipVEQwPznnyeLY/8NEvfnM6yt9/p6PA6l8bG0rYqtNETp6STNvY5O6sPHHsYs+68v6PDsDYsnfw2A/bbg24D+lHXqydDDj2AXiO27OiwOqeI0rYq1BFD9fOBGzvgvJ2KunVj6OEH8ub3LuvoUKwNS9+czvSf/YaPPXQD9UuXs/jVt2isb+josDqlap2vLEVFEqekV1vbBQxt43PjgHEA1157LcMqEFtnMWTMASx6eTKr58zr6FCsHTNuvJsZN94NwKgL/5OVf5/dwRF1Ur4caYMNBT4DLGjWLuDPrX0oIq4Drmt6O/7UTbcay4bp4zs6DCtC98EDWD13Pj1HbMWWRx3C0/sf29EhdUq+AH7D3Q9sHhGTmu+QNKFC56wadb16MujgfXntG+d2dChWhN3v+m+6DehH1Nfz+unnU79wMUOPPJhdrvgB3QcPYM97rmXxK1OYeNjXOjrUjuWKc8NExMlt7PtiJc5ZTRpXrOSRLffu6DCsSM986oT12mbf8yiz73m0A6KxzsDXcZpZeXiobmaWT3iobmaWky9HMjPLJ6r0YvZSOHGaWXnUUMXpe9XNrCyiMUra2iPpBklzJL1e0DZA0iOSpqZ/9k/tknSVpGmSXpX00YLPjE39p0oaW9C+u6TX0meukqT2YnLiNLPyiMbStvbdBIxp1nY28FhEjAQeS+8BDgVGpm0ccA1kiRY4D/gYsBdwXlOyTX3GFXyu+bnW48RpZmVRqYozIp4E5jdrPhK4Ob2+GTiqoP2WyDwL9JO0FdmdjI9ExPyIWAA8AoxJ+/pExDORTdLeUnCsVnmO08zKYiM/5GNoRLwHEBHvSRqS2ocBMwr6zUxtbbXPbKG9Ta44zaw8GqOkTdI4SS8UbOM2IIqW5iejhPY2ueI0s7Io9SEfzR7uU6zZkrZK1eZWwJzUPhMYUdBvODArtX+yWfuE1D68hf5tcsVpZmVRqTnOVtwLNK2MjwXuKWj/clpd3xtYlIb0DwOHSOqfFoUOAR5O+5ZI2jutpn+54FitcsVpZuVRoTlOSbeTVYuDJM0kWx2/GLhL0snA34BjUvcHgM8C04DlwEkAETFf0oXA86nfBRHRtOD0dbKV+17Ag2lrkxOnmZVFpe5Vj4jjW9l1UAt9Azi1lePcANzQQvsLQK6fKnXiNLOy8E9nmJnlVEv3qntxyMwsJ1ecZlYeHqqbmeXjBxmbmeXkxGlmlpNX1c3McnLFaWaWkytOM7OcXHGameVVQxfAO3GaWVl4qG5mlpOH6mZmObniNDPLyRWnmVlOTpxmZjl5qG5mlpMrTjOznBobaidx+kHGZmY5ueI0s7LwHKeZWU6e4zQzy8mJ08wsJydOM7OcPMdpZpaTK04zs5xq6TpOJ04zKwtXnGZmOXmO08wsJ1ecZmY5eY7TzCwnV5xmZjl5jtPMLKfwUN3MLB/PcZqZ5eQ5TjOznGqp4vQT4M3McnLFaWZlEQ1eVTczy8VznGZmOdXSHKcTp5mVha/jNDPLqbHeidPMLJdY48RpZpaLK04zs5xccZqZ5eSK08wsp1jjC+DNzHKppYpTEZ32y3bawMw2cSrlQ+O7jSrp/9nD1rxV0vk6UmdOnJs0SeMi4rqOjsNK4z+/2uanI3WccR0dgG0Q//nVMCdOM7OcnDjNzHJy4uw4nh+rbv7zq2FeHDIzy8kVp5lZTk6cHUDSGElvSZom6eyOjseKJ+kGSXMkvd7RsVjHceLcyCR1AX4JHArsDBwvaeeOjcpyuAkY09FBWMdy4tz49gKmRcT0iFgN3AEc2cExWZEi4klgfkfHYR3LiXPjGwbMKHg/M7WZWZVw4tz4Wrov15c2mFURJ86NbyYwouD9cGBWB8ViZiVw4tz4ngdGStpWUnfgOODeDo7JzHJw4tzIIqIeOA14GJgC3BURkzs2KiuWpNuBZ4BRkmZKOrmjY7KNz3cOmZnl5IrTzCxUK4eSAAAD0UlEQVQnJ04zs5ycOM3McnLiNDPLyYnTzCwnJ84qIqlB0iRJr0v6naTeG3CsT0q6P73+XFtPaZLUT9I3SjjHDyV9p5V9X07fY7KkN5r6SbpJ0tF5z2W2MTlxVpcVEfGRiNgVWA38e+FOZXL/mUbEvRFxcRtd+gG5E2drJB0KfBM4JCJ2AT4KLCrX8c0qzYmzev0vsIOkbSRNkXQ18BIwQtIhkp6R9FKqTDeHtc8BfVPSU8C/NB1I0lck/SK9Hirp95JeSdu+wMXA9qnavTT1O1PS85JelXR+wbG+l541+igwqpXYzwG+ExGzACJiZUT8unknSeemc7wu6TpJSu2npyr1VUl3pLZPpPgmSXpZ0hatxSlpM0nj0/d7XdKxG/DnYDWoa0cHYPlJ6kr2PM+HUtMo4KSI+IakQcD3gYMjYpmks4BvSfop8GvgQGAacGcrh78KeCIiPp+eHbo5cDawa0R8JJ3/EGAk2SPyBNwr6QBgGdktpKPJ/tt6CXixhXPs2kp7c7+IiAvSOW8FDgfuS/FsGxGrJPVLfb8DnBoRT6e/KFa2EedgYFZEHJaO3beIWMzWcsVZXXpJmgS8APwNuD61vxsRz6bXe5M9IPnp1Hcs8EFgJ+CdiJga2e1it7VyjgOBawAioiEiWhpCH5K2l8mS405kCWp/4PcRsTwiFrPh9+B/StJzkl5Lce2S2l8FfivpRKA+tT0NXC7pdKBfurW1tThfAw6WdImk/Vv5jmatcsVZXVY0VX1N0uh1WWET8EhEHN+s30co3+PrBPwkIq5tdo5vFnmOycDuwOOtnkDqCVwN7BERMyT9EOiZdh8GHAB8DviBpF0i4mJJ44HPAs9KOri1ONPxd099fyLpj02VrVkxXHFuep4FPi5pBwBJvSXtCLwJbCtp+9Tv+FY+/xjw9fTZLpL6AEuALQr6PAx8tWDudJikIcCTwOcl9UpzjEe0co6fAD+VtGX6fI9UKRZqSpLvp/McnfrWASMi4k/Ad8kWrjaXtH1EvBYRl5BV5Du1FqekDwDLI+I24Gdki1NmRXPFuYmJiLmSvgLcLqlHav5+RLwtaRwwXtL7wFNkc43NnQFcp+ypPw3A1yPiGUlPK/uBsgcj4kxJHwKeSRXvUuDEiHhJ0p3AJOBdsgWslmJ8QNJQ4NG04BPADc36LJT0a7Jh9V/JHscH0AW4Lc1LCvh56nuhpE+lmN9Ica5qKU5gB+BSSY3AGtJfFGbF8tORzMxy8lDdzCwnJ04zs5ycOM3McnLiNDPLyYnTzCwnJ04zs5ycOM3McnLiNDPL6f8Dt13DzZKQALoAAAAASUVORK5CYII\u003d\n",
            "text/plain": [
              "\u003cFigure size 360x360 with 2 Axes\u003e"
            ]
          },
          "metadata": {
            "needs_background": "light",
            "tags": []
          },
          "output_type": "display_data"
        }
      ],
      "source": [
        "plot_confusion_matrix(y_test,preds[\"Naive Bayes Classifier\"])"
      ]
    },
    {
      "cell_type": "markdown",
      "metadata": {
        "colab_type": "text",
        "id": "ZiMOLTbpMk_S",
        "pycharm": {}
      },
      "source": [
        "As we see we get very poor results with our test set"
      ]
    },
    {
      "cell_type": "code",
      "execution_count": 0,
      "metadata": {
        "colab": {},
        "colab_type": "code",
        "id": "yrVGpUVmMk_T",
        "outputId": "884f9be8-8eaf-4e0b-9229-27c53ac7ce31",
        "pycharm": {}
      },
      "outputs": [
        {
          "name": "stdout",
          "output_type": "stream",
          "text": [
            "SVC Average precision-recall score on test data: 0.03\n",
            " RDF Average precision-recall score on test data: 0.03\n",
            " Naive Bayes Average precision-recall score on test data: 0.03\n"
          ]
        }
      ],
      "source": [
        "avg_precision_recall_svc \u003d average_precision_score(y_test, preds[\"Support Vector Classifier\"])\n",
        "avg_precision_recall_rdf \u003d average_precision_score(y_test, preds[\"RandomForestClassifier\"])\n",
        "avg_precision_recall_nb \u003d average_precision_score(y_test, preds[\"Naive Bayes Classifier\"])\n",
        "\n",
        "\n",
        "print(\u0027SVC Average precision-recall score on test data: {0:0.2f}\\n\u0027.format(avg_precision_recall_svc),\n",
        "      \u0027RDF Average precision-recall score on test data: {0:0.2f}\\n\u0027.format(avg_precision_recall_rdf),\n",
        "      \u0027Naive Bayes Average precision-recall score on test data: {0:0.2f}\u0027.format(avg_precision_recall_nb))\n"
      ]
    },
    {
      "cell_type": "code",
      "execution_count": 0,
      "metadata": {
        "colab": {},
        "colab_type": "code",
        "id": "HT7o97CCMk_Z",
        "outputId": "72f62272-c7f5-4a70-ad96-021f21b00441",
        "pycharm": {}
      },
      "outputs": [
        {
          "data": {
            "image/png": "iVBORw0KGgoAAAANSUhEUgAAAYoAAAEWCAYAAAB42tAoAAAABHNCSVQICAgIfAhkiAAAAAlwSFlzAAALEgAACxIB0t1+/AAAADl0RVh0U29mdHdhcmUAbWF0cGxvdGxpYiB2ZXJzaW9uIDIuMi4zLCBodHRwOi8vbWF0cGxvdGxpYi5vcmcvIxREBQAAG2dJREFUeJzt3XuYJHV97/H3R5aLyrqAK0aXheVmFBEBV8THRDEqBzgKHuPRRRFRFG8EPVETc9MVY4x6jNGICglGRRSBx+iqKEeRixrRXR4uuiBmRZAVjILLIheX2/f8UTVsO8zU9Azb0zPD+/U8+2xX1a+rv/2b7v5U/aqrOlWFJEnjedCwC5AkzWwGhSSpk0EhSepkUEiSOhkUkqROBoUkqZNBMcslOSrJd4Zdx6aWZHWSAyZos2OSW5JsNk1lDVySq5M8u729PMlnhl2TZFAMQZItk5yc5Jokv01ycZKDh11XP9oPstvbD+j/TvLvSbbe1I9TVY+vqvMmaPPzqtq6qu7e1I/ffkjf2T7Pm5L8Z5KnburHeaBI8skkdyV59Kj5m6Sfk7ykfT/dmuSLSbbraLt3kouS3Nb+v3fPsjcluSrJzUmuS/LBJPMmW89cY1AMxzzgWuAZwALg74DTkywZYk2T8byq2hrYF3gy8LejG6Qx219fn2+f50LgXOCMIdezyU3Hh2CShwJ/CqwHXjpGk5F+fgTwHeALSTKJ9T8eOBF4GfBI4Dbgo+O03QL4EvAZYFvgU8CX2vkAXwb2raqHAXsCTwSO67eWuWq2v5Fnpaq6taqWV9XVVXVPVX0F+BnwpPHuk2Rxki8k+XWSG5N8ZJx2H0pybbtFdFGSP+5Ztl+SVe2y/07yT+38rZJ8pl3vTUlWJnlkH8/jF8DXaN5QJDkvybuTfJfmzbpLkgXt3tP1SX6R5O97h4qSvDrJFe2e1eVJ9m3n9w7BjFf3kiQ18mGX5NFJViT5TZI1SV7d8zjLk5ye5NPtY61OsnSi59g+z7uAU4FFSR7Rs87nJrmkZ0t4r55lY/69kuya5FvtvBuSnJpkm37qGC3JYe3j35zkp0kOGt13Pc/9M6P67OgkPwe+leTrSY4dte5Lk7ygvf3YJN9o+/XKJC+aZKl/CtwEHA+8fLxGVXUnzQf3HwAPn8T6Xwp8uaouqKpbaDa8XpBk/hhtD6DZUPvnqtpQVR8GAvxJW8NPq+qmtm2Ae4DdJlHLnGRQzADth/JjgNXjLN8M+ApwDbAEWAScNs7qVgJ7A9sBnwXOSLJVu+xDwIfaraVdgdPb+S+n2bNZTPMGfS1wex91LwYOAS7umf0y4Bhgflvvp4C7aN5s+wAHAq9q7/+/geXAkcDDgEOBG8d4qPHqHu1zwFrg0cALgX9I8qye5YfS9Ns2wApgzLAd43lu0dZ4I7Cunbcv8AngNTR9diKwIs2wYtffK8B72hofR9Pny/upY1RN+wGfBt7aPp+nA1dPYhXPaB//f9C8Tg7vWfcewE7AV9u9gW+0bbZv23203YofGfK5bILHejnN3+Y04LEjGwNjPKctgaOAtVV1Q5I/akN4vH9/1N718cClI+upqp8Cd9C8p0Z7PHBZ/f61iy5r54/U8ZIkNwM30OxRnDjB85v7qsp/Q/wHbA58Ezixo81TgV8D88ZYdhTwnY77rgOe2N6+AHgnsHBUm1cC/wns1Ue9VwO30GwhXkOzi//gdtl5wPE9bR8JbBhZ3s47HDi3vX028MaOx3n2BHUvAYpmC3ExcDcwv2f5e4BPtreXA9/sWbYHcHvH81xO82FzU7veG4EDepZ/DHjXqPtcSfMBPO7fa4zHeT5w8TjPeznwmXHudyLwwYn6bvR6evpsl57l84FbgZ3a6XcDn2hvvxj49hiP/Y4+X9870myV793zN//QOP38K+BbwJMm+R46B3jtqHm/6P179cz/O+C0UfNOBZaP0XZ34F3AH0ymnrn4zz2KIUozhn8KzRvl2J75X0tzcO+WJC+l+RC8ppohkInW+eZ2KGd9kpto9hQWtouPptnK+nE7vPTcdv4pNG/g09IcwHtfks07Hub5VbVNVe1UVa+vqt69j2t7bu9EE4TXj2wF0nzIbN8uXwz8dKLn1FF3r0cDv6mq3/bMu4Zma37EL3tu3wZslWRekpf29PfXetqcXlXb0ATej/j9ocGdgDf3buG2z+fRdPy9kmyf5LR2GO5mmrHyhaPb9aHfvhvPvX+nts++CixrZy2j+fCE5nk+ZdTzfCnN8FA/XgZcUVWXtNOnAi8Z9fo6vX09bV9Vf1JVF03yudxCs0fa62HAb+9P26r6L5q9/DGPdzyQPOCP5g9LkgAn03wIHVLN+CwAVXXwqLZPBXZMMq8rLNIcj/hL4FnA6qq6J8k6muGOkRf+4W1AvQA4M8nDq+pWmi32d6Y5oH4WzdbxyVN4ar279NfS7FEsHKfua2mGkrpXOE7do5pdB2yXZH5PWOxIs2U50fpPZeMH41jLb0jyGmBlks9W1fVt7e+uqnePbj/B3+s9NH20V1XdmOT59DkENkpX390KPKRneqwP9dGXjf4c8I4kFwAPpjl4P/I451fVc6ZQIzRDdjsmGQnpeTRDdQfTDP+Nq309f62jycFV9W2aD/Mn9txvF2BL4Cdj3Gc1TcCn2t0GYC/ghHEeYx59vEbnOvcohudjNGPEzxu1RT6WHwDXA/+Y5KFpDj4/bYx282mOB/wamJfk7fRsPSU5Iskjquoeml19gLuTPDPJE9qx9ZuBO2mGW+6X9gP1/wEfSPKwJA9qD+Y+o23yb8Bbkjwpjd2S7DR6PePVPeqxrqUZPntP2z970eyJjBsAk3wuP6bZ6/qLdta/Aq9N8pS29ocm+Z/tAdSuv9d82qG7JItojjFMxcnAK5I8q+3XRUke2y67BFiWZPM0B+xf2Mf6zqLZezie5ltI97TzvwI8JsnL2vVtnuTJSR430QrbwNwV2I/muNneNF98+CwdB7VHVNW3q/n683j/vt02PRV4XpI/bo+pHA98YdTe5YjzaF47x6U5njSyJ/+ttuZXJdm+vb0H8Fc0Q1sPaAbFELQfhq+heeP8ctQw031Uc57A82gOCP+c5oDti8doejbNFthPaIZdfsfvDwUdBKxOcgvNAeJlVfU7mi3OM2lC4grgfJohkU3hSGAL4HKa4yVnAo9qn9cZNOPhn6XZ9f8izUH40care7TDacbgrwP+g2Yc/Rub6HkAvB84Jsn2VbUKeDXN3sA6YA3N8aKJ/l7vpPla8Xqa4Z4vTKWQqvoB8Argg+26zqf5oIdmHH7Xtq530vTvROvb0Nby7N727YftgTTDUdfRDN+9l2aLnXbYbswvYdCEwZeq6odV9cuRfzR/w+em41yHyaiq1TRfwDiV5jjHfOD1I8vbody/btveQXNc6EiajY5X0gyl3tE2fxrwwyS30oTnWcBfb4o6Z7Ns3PuSJOm+3KOQJHUyKCRJnQwKSVIng0KS1GnWnUexcOHCWrJkybDLkKRZ5aKLLrqhqh4xccv7mnVBsWTJElatWjXsMiRpVklyzVTv69CTJKmTQSFJ6mRQSJI6GRSSpE4GhSSpk0EhSeo0sKBI8okkv0ryo3GWJ8mH0/y28WUZ5+cRJUnDNcg9ik/SXB56PAfT/NTg7jS/sfyxAdYiSZqigQVFVV0A/KajyWHAp6txIbBNkkdNtN477piohSRpUxrmMYpF/P6P6qzl93/f+F5JjkmyKsmq669fNy3FSZIawwyKjDFvzF9RqqqTqmppVS1dsGDbAZclSeo1zKBYCyzumd6B5qcWJUkzyDCDYgVwZPvtp/2B9VV1/RDrkSSNYWBXj03yOeAAYGGStcA7gM0BqurjND9afgjNj9LfRvND8ZKkGWZgQVFVh0+wvIA3DOrxJUmbhmdmS5I6GRSSpE4GhSSpk0EhSepkUEiSOhkUkqROBoUkqZNBIUnqZFBIkjoZFJKkTgaFJKmTQSFJ6mRQSJI6GRSSpE4GhSSpk0EhSepkUEiSOhkUkqROBoUkqZNBIUnqZFBIkjoZFJKkTgaFJKmTQSFJ6mRQSJI6GRSSpE4GhSSpk0EhSepkUEiSOhkUkqROBoUkqZNBIUnqNNCgSHJQkiuTrEnytjGW75jk3CQXJ7ksySGDrEeSNHkDC4okmwEnAAcDewCHJ9ljVLO/BU6vqn2AZcBHB1WPJGlqBrlHsR+wpqquqqo7gNOAw0a1KeBh7e0FwHUDrEeSNAWDDIpFwLU902vbeb2WA0ckWQucBfzZWCtKckySVUlWrV+/bhC1SpLGMcigyBjzatT04cAnq2oH4BDglCT3qamqTqqqpVW1dMGCbQdQqiRpPIMMirXA4p7pHbjv0NLRwOkAVfU9YCtg4QBrkiRN0iCDYiWwe5Kdk2xBc7B6xag2PweeBZDkcTRB8esB1iRJmqSBBUVV3QUcC5wNXEHz7abVSY5Pcmjb7M3Aq5NcCnwOOKqqRg9PSZKGKLPtc3m33ZbWmjWrhl2GJM0qSS6qqqVTua9nZkuSOhkUkqROBoUkqZNBIUnqZFBIkjoZFJKkTgaFJKmTQSFJ6mRQSJI6GRSSpE4GhSSpk0EhSepkUEiSOhkUkqROBoUkqZNBIUnqZFBIkjoZFJKkTgaFJKmTQSFJ6mRQSJI6GRSSpE4GhSSpk0EhSepkUEiSOhkUkqROBoUkqZNBIUnqZFBIkjoZFJKkTgaFJKnTvH4bJlkE7NR7n6q6YBBFSZJmjr6CIsl7gRcDlwN3t7ML6AyKJAcBHwI2A/6tqv5xjDYvApa367u0ql7Sb/GSpMHrd4/i+cAfVtWGflecZDPgBOA5wFpgZZIVVXV5T5vdgb8CnlZV65Js33/pkqTp0O8xiquAzSe57v2ANVV1VVXdAZwGHDaqzauBE6pqHUBV/WqSjyFJGrB+9yhuAy5Jcg5w715FVR3XcZ9FwLU902uBp4xq8xiAJN+lGZ5aXlVf77MmSdI06DcoVrT/JiNjzKsxHn934ABgB+DbSfasqpt+b0XJMcAxAAsX7jLJMiRJ90dfQVFVn0qyBe0eAHBlVd05wd3WAot7pncArhujzYXtun6W5Eqa4Fg56vFPAk4C2G23paPDRpI0QH0do0hyAPBfNAenPwr8JMnTJ7jbSmD3JDu3IbOM++6VfBF4ZvsYC2mC6Kq+q5ckDVy/Q08fAA6sqisBkjwG+BzwpPHuUFV3JTkWOJvm+MMnqmp1kuOBVVW1ol12YJKRr92+tapunPrTkSRtaqmaeCQnyWVVtddE86bDbrstrTVrVk33w0rSrJbkoqpaOpX79rtHsSrJycAp7fRLgYum8oCSpNml36B4HfAG4DiabzNdQHOsQpI0x/X7racNwD+1/yRJDyCdQZHk9Kp6UZIfct9zIBjGMQpJ0vSaaI/ije3/zx10IZKkmanzPIqqur69eQNwbVVdA2wJPJH7njwnSZqD+r0o4AXAVu1vUpwDvAL45KCKkiTNHP0GRarqNuAFwL9U1f8C9hhcWZKkmaLvoEjyVJrzJ77azuv71/EkSbNXv0HxJpofGPqP9jIcuwDnDq4sSdJM0e95FOcD5/dMX0Vz8p0kaY6b6DyKf66qNyX5MmOfR3HowCqTJM0IE+1RjFzb6f8OuhBJ0szUGRRVNXLhv1XA7VV1D0CSzWjOp5AkzXH9Hsw+B3hIz/SDgW9u+nIkSTNNv0GxVVXdMjLR3n5IR3tJ0hzRb1DcmmTfkYkkTwJuH0xJkqSZpN+T5t4EnJFk5PpOjwJePJiSJEkzSb/nUaxM8ljgD2l+uOjHVXXnQCuTJM0IfQ09JXkI8JfAG6vqh8CSJF56XJIeAPo9RvHvwB3AU9vptcDfD6QiSdKM0m9Q7FpV7wPuBKiq22mGoCRJc1y/QXFHkgfTXsYjya7AhoFVJUmaMfr91tM7gK8Di5OcCjwNOGpQRUmSZo4JgyJJgB/T/GjR/jRDTm+sqhsGXJskaQaYMCiqqpJ8saqexMYfLZIkPUD0e4ziwiRPHmglkqQZqd9jFM8EXpvkauBWmuGnqqq9BlWYJGlm6DcoDh5oFZKkGWuiX7jbCngtsBvwQ+DkqrprOgqTJM0MEx2j+BSwlCYkDgY+MPCKJEkzykRDT3tU1RMAkpwM/GDwJUmSZpKJ9ijuvUKsQ06S9MA0UVA8McnN7b/fAnuN3E5y80QrT3JQkiuTrEnyto52L0xSSZZO9glIkgarc+ipqjab6oqTbAacADyH5mqzK5OsqKrLR7WbDxwHfH+qjyVJGpx+T7ibiv2ANVV1VVXdAZwGHDZGu3cB7wN+N8BaJElTNMigWARc2zO9tp13ryT7AIur6itdK0pyTJJVSVatX79u01cqSRrXIINirN+rqHsXJg8CPgi8eaIVVdVJVbW0qpYuWLDtJixRkjSRQQbFWmBxz/QOwHU90/OBPYHz2kuD7A+s8IC2JM0sgwyKlcDuSXZOsgWwDFgxsrCq1lfVwqpaUlVLgAuBQ6tq1QBrkiRN0sCCoj3v4ljgbOAK4PSqWp3k+CSHDupxJUmbVr8XBZySqjoLOGvUvLeP0/aAQdYiSZqaQQ49SZLmAINCktTJoJAkdTIoJEmdDApJUieDQpLUyaCQJHUyKCRJnQwKSVIng0KS1MmgkCR1MigkSZ0MCklSJ4NCktTJoJAkdTIoJEmdDApJUieDQpLUyaCQJHUyKCRJnQwKSVIng0KS1MmgkCR1MigkSZ0MCklSJ4NCktTJoJAkdTIoJEmdDApJUieDQpLUyaCQJHUyKCRJnQYaFEkOSnJlkjVJ3jbG8j9PcnmSy5Kck2SnQdYjSZq8gQVFks2AE4CDgT2Aw5PsMarZxcDSqtoLOBN436DqkSRNzSD3KPYD1lTVVVV1B3AacFhvg6o6t6puaycvBHYYYD2SpCkYZFAsAq7tmV7bzhvP0cDXxlqQ5Jgkq5KsWr9+3SYsUZI0kUEGRcaYV2M2TI4AlgLvH2t5VZ1UVUuraumCBdtuwhIlSROZN8B1rwUW90zvAFw3ulGSZwN/AzyjqjYMsB5J0hQMco9iJbB7kp2TbAEsA1b0NkiyD3AicGhV/WqAtUiSpmhgQVFVdwHHAmcDVwCnV9XqJMcnObRt9n5ga+CMJJckWTHO6iRJQzLIoSeq6izgrFHz3t5z+9mDfHxJ0v3nmdmSpE4GhSSpk0EhSepkUEiSOhkUkqROBoUkqZNBIUnqZFBIkjoZFJKkTgaFJKmTQSFJ6mRQSJI6GRSSpE4GhSSpk0EhSepkUEiSOhkUkqROBoUkqZNBIUnqZFBIkjoZFJKkTgaFJKmTQSFJ6mRQSJI6GRSSpE4GhSSpk0EhSeo0b9gFTNY998BPfjLsKiSpP9ttBwsXDruK+2fWBQXABRcMuwJJmtiGDU1QHH74sCu5f2ZdUMybB/vsM+wqJGli11wDv/nNsKu4/zxGIUnqZFBIkjoZFJKkTgMNiiQHJbkyyZokbxtj+ZZJPt8u/36SJYOsR5I0eQM7mJ1kM+AE4DnAWmBlkhVVdXlPs6OBdVW1W5JlwHuBFw+qJkmabhs2zP6v9A/yW0/7AWuq6iqAJKcBhwG9QXEYsLy9fSbwkSSpqhpgXZI0LRYsgF/+cqZ8pX/+Q6d6z0EGxSLg2p7ptcBTxmtTVXclWQ88HLiht1GSY4Bj2qk7ly7d9uqBVDzrbFgAW64fdhUzg32xkX2xkX2x0a07TfWegwyKjDFv9J5CP22oqpOAkwCSrKpat/T+lzf7NX1xm32BfdHLvtjIvtgoyaqp3neQB7PXAot7pncArhuvTZJ5wAJgDpyeIklzxyCDYiWwe5Kdk2wBLANWjGqzAnh5e/uFwLc8PiFJM8vAhp7aYw7HAmcDmwGfqKrVSY4HVlXVCuBk4JQka2j2JJb1seqTBlXzLGRfbGRfbGRfbGRfbDTlvogb8JKkLp6ZLUnqZFBIkjrN2KDw8h8b9dEXf57k8iSXJTknyZS/Lz3TTdQXPe1emKSSzNmvRvbTF0le1L42Vif57HTXOF36eI/smOTcJBe375NDhlHnoCX5RJJfJfnROMuT5MNtP12WZN++VlxVM+4fzcHvnwK7AFsAlwJ7jGrzeuDj7e1lwOeHXfcQ++KZwEPa2697IPdF224+cAFwIbB02HUP8XWxO3AxsG07vf2w6x5iX5wEvK69vQdw9bDrHlBfPB3YF/jROMsPAb5Gcw7b/sD3+1nvTN2juPfyH1V1BzBy+Y9ehwGfam+fCTwryVgn8M12E/ZFVZ1bVbe1kxfSnLMyF/XzugB4F/A+4HfTWdw066cvXg2cUFXrAKrqV9Nc43Tppy8KeFh7ewH3PadrTqiqC+g+F+0w4NPVuBDYJsmjJlrvTA2KsS7/sWi8NlV1FzBy+Y+5pp++6HU0zRbDXDRhXyTZB1hcVV+ZzsKGoJ/XxWOAxyT5bpILkxw0bdVNr376YjlwRJK1wFnAn01PaTPOZD9PgJn7U6ib7PIfc0DfzzPJEcBS4BkDrWh4OvsiyYOADwJHTVdBQ9TP62IezfDTATR7md9OsmdV3TTg2qZbP31xOPDJqvpAkqfSnL+1Z1XdM/jyZpQpfW7O1D0KL/+xUT99QZJnA38DHFpVG6aptuk2UV/MB/YEzktyNc0Y7Io5ekC73/fIl6rqzqr6GXAlTXDMNf30xdHA6QBV9T1gK2DhtFQ3s/T1eTLaTA0KL/+x0YR90Q63nEgTEnN1HBom6IuqWl9VC6tqSVUtoTlec2hVTfliaDNYP++RL9J80YEkC2mGoq6a1iqnRz998XPgWQBJHkcTFL+e1ipnhhXAke23n/YH1lfV9RPdaUYOPdXgLv8x6/TZF+8HtgbOaI/n/7yqDh1a0QPSZ188IPTZF2cDBya5HLgbeGtV3Ti8qgejz754M/CvSf4PzVDLUXNxwzLJ52iGGhe2x2PeAWwOUFUfpzk+cwiwBrgNeEVf652DfSVJ2oRm6tCTJGmGMCgkSZ0MCklSJ4NCktTJoJAkdTIopFGS3J3kkiQ/SvLlJNts4vUfleQj7e3lSd6yKdcvbWoGhXRft1fV3lW1J805Om8YdkHSMBkUUrfv0XPRtCRvTbKyvZb/O3vmH9nOuzTJKe2857W/lXJxkm8meeQQ6pfutxl5ZrY0EyTZjOayDye30wfSXCtpP5qLq61I8nTgRprrbD2tqm5Isl27iu8A+1dVJXkV8Bc0ZwhLs4pBId3Xg5NcAiwBLgK+0c4/sP13cTu9NU1wPBE4s6puAKiqkYtT7gB8vr3e/xbAz6alemkTc+hJuq/bq2pvYCeaD/iRYxQB3tMev9i7qnarqpPb+WNdC+dfgI9U1ROA19BciE6adQwKaRxVtR44DnhLks1pLjr3yiRbAyRZlGR74BzgRUke3s4fGXpaAPyivf1ypFnKoSepQ1VdnORSYFlVndJeovp77VV6bwGOaK9U+m7g/CR30wxNHUXzq2pnJPkFzSXPdx7Gc5DuL68eK0nq5NCTJKmTQSFJ6mRQSJI6GRSSpE4GhSSpk0EhSepkUEiSOv1/1wGHblZB9UYAAAAASUVORK5CYII\u003d\n",
            "text/plain": [
              "\u003cFigure size 432x288 with 1 Axes\u003e"
            ]
          },
          "metadata": {
            "needs_background": "light",
            "tags": []
          },
          "output_type": "display_data"
        }
      ],
      "source": [
        "precision, recall, _ \u003d precision_recall_curve(y_test, preds[\"Naive Bayes Classifier\"])\n",
        "\n",
        "prec_rec_curve(precision,recall,avg_precision_recall_rdf)"
      ]
    },
    {
      "cell_type": "markdown",
      "metadata": {
        "colab_type": "text",
        "id": "eyyTzaOzMk_e",
        "pycharm": {}
      },
      "source": [
        "## SMOTE"
      ]
    },
    {
      "cell_type": "code",
      "execution_count": 19,
      "metadata": {
        "colab": {},
        "colab_type": "code",
        "id": "TmV3EZtvMk_e",
        "outputId": "6c3929b0-7223-4fd7-a322-2102e0aaefce",
        "pycharm": {}
      },
      "outputs": [
        {
          "name": "stdout",
          "output_type": "stream",
          "text": [
            "Original dataset shape Counter({0: 284315, 1: 492})\n",
            "Resampled dataset shape Counter({0: 227451, 1: 227451})\n",
            "Distribution of the Classes in the subsample dataset\n"
          ]
        },
        {
          "data": {
            "text/plain": [
              "Text(0,0.5,\u0027Frequency\u0027)"
            ]
          },
          "execution_count": 19,
          "metadata": {},
          "output_type": "execute_result"
        },
        {
          "data": {
            "image/png": "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\u003d\u003d\n",
            "text/plain": [
              "\u003cFigure size 432x288 with 1 Axes\u003e"
            ]
          },
          "metadata": {
            "needs_background": "light"
          },
          "output_type": "display_data"
        }
      ],
      "source": [
        "print(\u0027Original dataset shape %s\u0027 % Counter(y))\n",
        "\n",
        "sampler \u003d SMOTE(random_state\u003d42)\n",
        "X_oversampled, y_oversampled \u003d sampler.fit_resample(X_train, y_train)\n",
        "\n",
        "print(\u0027Resampled dataset shape %s\u0027 % Counter(y_oversampled))\n",
        "\n",
        "\n",
        "print(\u0027Distribution of the Classes in the subsample dataset\u0027)\n",
        "count_classes \u003d pd.value_counts(y_oversampled, sort \u003d True).sort_index()\n",
        "count_classes.plot(kind \u003d \u0027bar\u0027)\n",
        "plt.title(\"Fraud class histogram\")\n",
        "plt.xlabel(\"Class\")\n",
        "plt.ylabel(\"Frequency\")"
      ]
    },
    {
      "cell_type": "markdown",
      "metadata": {
        "colab_type": "text",
        "id": "yikc0tnzMk_j",
        "pycharm": {}
      },
      "source": "We already know the best parameters for our models so we will skip that step and proceed with oversampling and fitting."
    },
    {
      "cell_type": "markdown",
      "metadata": {
        "colab_type": "text",
        "id": "VVIeBiEpMk_k",
        "pycharm": {}
      },
      "source": [
        "### Validation on resampled set"
      ]
    },
    {
      "cell_type": "code",
      "execution_count": 20,
      "metadata": {
        "colab": {},
        "colab_type": "code",
        "id": "EvJe5Eq5Mk_v",
        "outputId": "82e9204d-d286-4bb8-825a-c02826b88744",
        "pycharm": {}
      },
      "outputs": [
        {
          "name": "stdout",
          "output_type": "stream",
          "text": [
            "\n",
            "Estimator : Naive Bayes Classifier \n",
            "                   pre       rec       spe        f1       geo       iba       sup\n",
            "\n",
            "          0       0.98      0.86      0.97      0.92      0.92      0.83    256442\n",
            "          1       0.85      0.97      0.86      0.91      0.92      0.85    198460\n",
            "\n",
            "avg / total       0.92      0.91      0.93      0.91      0.92      0.84    454902\n",
            "\n",
            "\n",
            "Estimator : RandomForestClassifier \n",
            "                   pre       rec       spe        f1       geo       iba       sup\n",
            "\n",
            "          0       1.00      1.00      1.00      1.00      1.00      1.00    227411\n",
            "          1       1.00      1.00      1.00      1.00      1.00      1.00    227491\n",
            "\n",
            "avg / total       1.00      1.00      1.00      1.00      1.00      1.00    454902\n",
            "\n",
            "\n",
            "Estimator : Support Vector Classifier \n"
          ]
        },
        {
          "name": "stderr",
          "output_type": "stream",
          "text": [
            "E:\\Anaconda3\\envs\\Ai\\lib\\site-packages\\sklearn\\svm\\base.py:922: ConvergenceWarning: Liblinear failed to converge, increase the number of iterations.\n",
            "  \"the number of iterations.\", ConvergenceWarning)\n",
            "E:\\Anaconda3\\envs\\Ai\\lib\\site-packages\\sklearn\\svm\\base.py:922: ConvergenceWarning: Liblinear failed to converge, increase the number of iterations.\n",
            "  \"the number of iterations.\", ConvergenceWarning)\n",
            "E:\\Anaconda3\\envs\\Ai\\lib\\site-packages\\sklearn\\svm\\base.py:922: ConvergenceWarning: Liblinear failed to converge, increase the number of iterations.\n",
            "  \"the number of iterations.\", ConvergenceWarning)\n",
            "E:\\Anaconda3\\envs\\Ai\\lib\\site-packages\\sklearn\\svm\\base.py:922: ConvergenceWarning: Liblinear failed to converge, increase the number of iterations.\n",
            "  \"the number of iterations.\", ConvergenceWarning)\n",
            "E:\\Anaconda3\\envs\\Ai\\lib\\site-packages\\sklearn\\svm\\base.py:922: ConvergenceWarning: Liblinear failed to converge, increase the number of iterations.\n",
            "  \"the number of iterations.\", ConvergenceWarning)\n"
          ]
        },
        {
          "name": "stdout",
          "output_type": "stream",
          "text": [
            "                   pre       rec       spe        f1       geo       iba       sup\n",
            "\n",
            "          0       0.98      0.93      0.97      0.95      0.95      0.90    239151\n",
            "          1       0.92      0.97      0.93      0.95      0.95      0.91    215751\n",
            "\n",
            "avg / total       0.95      0.95      0.95      0.95      0.95      0.90    454902\n",
            "\n"
          ]
        }
      ],
      "source": [
        "preds_oversampled \u003d {}\n",
        "for keys, clf in zip(classifiers.keys(),classifiers.values()):\n",
        "    print(\"\\nEstimator : %s \" %keys)\n",
        "    \n",
        "    #Cross validation predicts in order to create our roc auc score for our oversampled data\n",
        "    preds_oversampled[keys] \u003d cross_val_predict(clf,X_oversampled,y_oversampled,cv\u003d5)\n",
        "    print(classification_report_imbalanced(preds_oversampled[keys],y_oversampled))\n",
        "\n"
      ]
    },
    {
      "cell_type": "code",
      "execution_count": 0,
      "metadata": {
        "colab": {},
        "colab_type": "code",
        "id": "5jaI92PLMk_y",
        "outputId": "f94922e0-9763-4203-a951-910c191b956b",
        "pycharm": {}
      },
      "outputs": [
        {
          "name": "stdout",
          "output_type": "stream",
          "text": [
            "Gaussian NB Classifier: 0.9114 \n",
            "Support Vector Classifier: 0.9282\n",
            "Random Forest Classifier: 0.9997\n"
          ]
        }
      ],
      "source": [
        "from sklearn.metrics import roc_auc_score \n",
        "\n",
        "print(\u0027Gaussian NB Classifier: {:.4f} \u0027.format(roc_auc_score(y_oversampled, preds_oversampled[\"Naive Bayes Classifier\"])))\n",
        "print(\u0027Support Vector Classifier: {:.4f}\u0027.format(roc_auc_score(y_oversampled, preds_oversampled[\"Support Vector Classifier\"])))\n",
        "print(\u0027Random Forest Classifier: {:.4f}\u0027.format(roc_auc_score(y_oversampled, preds_oversampled[\"RandomForestClassifier\"])))\n",
        "\n",
        "names \u003d [\"Gaussian NB Classifier\",\"Support Vector Classifier\",\"Random Forest Classifier\"]"
      ]
    },
    {
      "cell_type": "code",
      "execution_count": 0,
      "metadata": {
        "colab": {},
        "colab_type": "code",
        "id": "mH9xC_RSMk_0",
        "outputId": "69e82608-5686-49bb-fdd4-ac14af96fd3f",
        "pycharm": {}
      },
      "outputs": [
        {
          "data": {
            "image/png": "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\u003d\n",
            "text/plain": [
              "\u003cFigure size 1152x576 with 1 Axes\u003e"
            ]
          },
          "metadata": {
            "needs_background": "light",
            "tags": []
          },
          "output_type": "display_data"
        }
      ],
      "source": [
        "gnb_fpr, gnb_tpr, gnb_threshold \u003d roc_curve(y_oversampled, preds_oversampled[\"Naive Bayes Classifier\"])\n",
        "svc_fpr, svc_tpr, svc_threshold \u003d roc_curve(y_oversampled, preds_oversampled[\"Support Vector Classifier\"])\n",
        "rdf_fpr, rdf_tpr, rdf_threshold \u003d roc_curve(y_oversampled, preds_oversampled[\"RandomForestClassifier\"])\n",
        "\n",
        "graph_roc_curve_multiple(gnb_fpr,gnb_tpr,roc_auc_score(y_oversampled, preds_oversampled[\"Naive Bayes Classifier\"]),\n",
        "                           svc_fpr,svc_tpr,roc_auc_score(y_oversampled, preds_oversampled[\"Support Vector Classifier\"]),\n",
        "                           rdf_fpr,rdf_tpr,roc_auc_score(y_oversampled, preds_oversampled[\"RandomForestClassifier\"]),\n",
        "                                                        names)"
      ]
    },
    {
      "cell_type": "code",
      "execution_count": 0,
      "metadata": {
        "colab": {},
        "colab_type": "code",
        "id": "8mkEo9ywMk_4",
        "outputId": "0835d59c-bed5-4e27-b9ae-e3b6f497601e",
        "pycharm": {}
      },
      "outputs": [
        {
          "data": {
            "image/png": "[encoded data removed]",
            "text/plain": [
              "\u003cFigure size 864x576 with 1 Axes\u003e"
            ]
          },
          "metadata": {
            "needs_background": "light",
            "tags": []
          },
          "output_type": "display_data"
        }
      ],
      "source": [
        "roc_curve_(svc_fpr, svc_tpr, \"Support Vector Classifier\")"
      ]
    },
    {
      "cell_type": "markdown",
      "metadata": {
        "colab_type": "text",
        "id": "ksiA4nvlMk_8",
        "pycharm": {}
      },
      "source": [
        "### Cross validation in our original set"
      ]
    },
    {
      "cell_type": "code",
      "execution_count": 0,
      "metadata": {
        "colab": {},
        "colab_type": "code",
        "id": "WXcCK3FrMk_8",
        "outputId": "757aaa19-a454-4ed1-d312-03a6d9f1d38e",
        "pycharm": {}
      },
      "outputs": [
        {
          "name": "stdout",
          "output_type": "stream",
          "text": [
            "\n",
            "Classifier : RandomForestClassifier \n",
            "\n",
            "Accuracy Score \u003d  0.999\n",
            "Accuracy Std \u003d  0.0\n",
            "Balanced Accuracy Score \u003d  0.857\n",
            "Balanced Accuracy Std \u003d  0.015\n",
            "Average Precision Recall Score \u003d  0.535\n",
            "Average Precision Recall Std \u003d  0.041\n",
            "Roc Auc Score \u003d  0.857\n",
            "Roc Auc Std \u003d  0.015\n",
            "G Mean Score \u003d  0.845\n",
            "G Mean Std \u003d  0.018\n",
            "Time needed to execute for 5 validation folds \u003d 126.455 \n",
            "\n",
            "Classifier : Support Vector Classifier \n",
            "\n",
            "Accuracy Score \u003d  0.918\n",
            "Accuracy Std \u003d  0.046\n",
            "Balanced Accuracy Score \u003d  0.512\n",
            "Balanced Accuracy Std \u003d  0.006\n",
            "Average Precision Recall Score \u003d  0.103\n",
            "Average Precision Recall Std \u003d  0.037\n",
            "Roc Auc Score \u003d  0.512\n",
            "Roc Auc Std \u003d  0.006\n",
            "G Mean Score \u003d  0.15\n",
            "G Mean Std \u003d  0.038\n",
            "Time needed to execute for 5 validation folds \u003d 469.752 \n",
            "\n",
            "Classifier : Naive Bayes Classifier \n",
            "\n",
            "Accuracy Score \u003d  0.975\n",
            "Accuracy Std \u003d  0.001\n",
            "Balanced Accuracy Score \u003d  0.527\n",
            "Balanced Accuracy Std \u003d  0.002\n",
            "Average Precision Recall Score \u003d  0.071\n",
            "Average Precision Recall Std \u003d  0.004\n",
            "Roc Auc Score \u003d  0.527\n",
            "Roc Auc Std \u003d  0.002\n",
            "G Mean Score \u003d  0.234\n",
            "G Mean Std \u003d  0.006\n",
            "Time needed to execute for 5 validation folds \u003d 7.190 \n"
          ]
        }
      ],
      "source": [
        "sampler \u003d SMOTE(random_state\u003d42)\n",
        "for keys, clf in zip(classifiers.keys(),classifiers.values()):\n",
        "    print(\"\\nClassifier : \" +keys, \"\\n\")\n",
        "    tic \u003d time.time()\n",
        "    res \u003d resample_cross_val(clf,X_train,y_train,sampler,cv \u003d 5)\n",
        "    toc \u003d time.time() - tic\n",
        "    for key , values in zip(res.keys(),res.values()):\n",
        "        print(key,values)\n",
        "    print(\"Time needed to execute for 5 validation folds \u003d %.2f minutes\" %(toc/60))"
      ]
    },
    {
      "cell_type": "markdown",
      "metadata": {
        "colab_type": "text",
        "id": "-kecmvBoMlAF",
        "pycharm": {}
      },
      "source": "### Predictions on Test set"
    },
    {
      "cell_type": "code",
      "execution_count": 21,
      "metadata": {
        "colab": {},
        "colab_type": "code",
        "id": "DHIwvYp2MlAH",
        "outputId": "05e3f22e-de4d-4be7-f27c-bdfb85c65006",
        "pycharm": {}
      },
      "outputs": [
        {
          "name": "stdout",
          "output_type": "stream",
          "text": [
            "\n",
            "Estimator : Naive Bayes Classifier \n",
            "                   pre       rec       spe        f1       geo       iba       sup\n",
            "\n",
            "          0       0.97      1.00      0.05      0.99      0.23      0.06     55357\n",
            "          1       0.88      0.05      1.00      0.10      0.23      0.05      1605\n",
            "\n",
            "avg / total       0.97      0.97      0.08      0.96      0.23      0.06     56962\n",
            "\n",
            "\n",
            "Estimator : RandomForestClassifier \n",
            "                   pre       rec       spe        f1       geo       iba       sup\n",
            "\n",
            "          0       1.00      1.00      0.88      1.00      0.94      0.89     56870\n",
            "          1       0.83      0.88      1.00      0.85      0.94      0.87        92\n",
            "\n",
            "avg / total       1.00      1.00      0.88      1.00      0.94      0.89     56962\n",
            "\n",
            "\n",
            "Estimator : Support Vector Classifier \n",
            "                   pre       rec       spe        f1       geo       iba       sup\n",
            "\n",
            "          0       0.98      1.00      0.06      0.99      0.24      0.07     55455\n",
            "          1       0.92      0.06      1.00      0.11      0.24      0.05      1507\n",
            "\n",
            "avg / total       0.97      0.97      0.08      0.96      0.24      0.07     56962\n",
            "\n"
          ]
        },
        {
          "name": "stderr",
          "output_type": "stream",
          "text": [
            "E:\\Anaconda3\\envs\\Ai\\lib\\site-packages\\sklearn\\svm\\base.py:922: ConvergenceWarning: Liblinear failed to converge, increase the number of iterations.\n",
            "  \"the number of iterations.\", ConvergenceWarning)\n"
          ]
        }
      ],
      "source": [
        "preds_test_oversampled \u003d {}\n",
        "for keys, clf in zip(classifiers.keys(),classifiers.values()):\n",
        "    print(\"\\nEstimator : %s \" %keys)\n",
        "    # Fit in our undersampled train set and predict in our test set\n",
        "    clf.fit(X_oversampled, y_oversampled)\n",
        "    preds_test_oversampled[keys] \u003d clf.predict(X_test)\n",
        "    print(classification_report_imbalanced(preds_test_oversampled[keys],y_test))"
      ]
    },
    {
      "cell_type": "code",
      "execution_count": 25,
      "metadata": {
        "colab": {},
        "colab_type": "code",
        "id": "MjV5kr5rMlAP",
        "outputId": "b331765c-44af-4012-fd64-a672ef2d5301",
        "pycharm": {}
      },
      "outputs": [
        {
          "data": {
            "image/png": "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\u003d\n",
            "text/plain": [
              "\u003cFigure size 360x360 with 2 Axes\u003e"
            ]
          },
          "metadata": {
            "needs_background": "light"
          },
          "output_type": "display_data"
        }
      ],
      "source": [
        "plot_confusion_matrix(y_test,preds_test_oversampled[\"RandomForestClassifier\"])"
      ]
    },
    {
      "cell_type": "code",
      "execution_count": 22,
      "metadata": {
        "colab": {},
        "colab_type": "code",
        "id": "bf9Gp1aQMlAU",
        "outputId": "f22b0c46-a8b0-4301-85cb-ceda6d81a69c",
        "pycharm": {}
      },
      "outputs": [
        {
          "name": "stdout",
          "output_type": "stream",
          "text": [
            "SVC Average precision-recall score on test data: 0.05\n",
            " RDF Average precision-recall score on test data: 0.73\n",
            " Naive Bayes Average precision-recall score on test data: 0.05\n"
          ]
        }
      ],
      "source": [
        "avg_precision_recall_svc \u003d average_precision_score(y_test, preds_test_oversampled[\"Support Vector Classifier\"])\n",
        "avg_precision_recall_rdf \u003d average_precision_score(y_test, preds_test_oversampled[\"RandomForestClassifier\"])\n",
        "avg_precision_recall_nb \u003d average_precision_score(y_test, preds_test_oversampled[\"Naive Bayes Classifier\"])\n",
        "\n",
        "print(\u0027SVC Average precision-recall score on test data: {0:0.2f}\\n\u0027.format(avg_precision_recall_svc),\n",
        "      \u0027RDF Average precision-recall score on test data: {0:0.2f}\\n\u0027.format(avg_precision_recall_rdf),\n",
        "      \u0027Naive Bayes Average precision-recall score on test data: {0:0.2f}\u0027.format(avg_precision_recall_nb))"
      ]
    },
    {
      "cell_type": "code",
      "execution_count": 24,
      "metadata": {
        "colab": {},
        "colab_type": "code",
        "id": "PEkhEwTHMlAX",
        "outputId": "e502dd89-2877-4772-e3cc-447facca3ba2",
        "pycharm": {}
      },
      "outputs": [
        {
          "data": {
            "image/png": "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\u003d\n",
            "text/plain": [
              "\u003cFigure size 432x288 with 1 Axes\u003e"
            ]
          },
          "metadata": {
            "needs_background": "light"
          },
          "output_type": "display_data"
        }
      ],
      "source": [
        "precision, recall, _ \u003d precision_recall_curve(y_test, preds_test_oversampled[\"RandomForestClassifier\"])\n",
        "\n",
        "prec_rec_curve(precision,recall,avg_precision_recall_rdf)"
      ]
    },
    {
      "cell_type": "markdown",
      "metadata": {
        "colab_type": "text",
        "id": "wiJv6FBgMlAe",
        "pycharm": {}
      },
      "source": [
        "## Easy Ensemble"
      ]
    },
    {
      "cell_type": "markdown",
      "metadata": {
        "colab_type": "text",
        "id": "1COL45WdMlAg",
        "pycharm": {}
      },
      "source": [
        "Create an ensemble set by iteratively applying random under-sampling."
      ]
    },
    {
      "cell_type": "markdown",
      "metadata": {
        "pycharm": {}
      },
      "source": "We will make 5 shuffled splits in order to be able to cross validate in them."
    },
    {
      "cell_type": "code",
      "execution_count": 26,
      "metadata": {
        "pycharm": {}
      },
      "outputs": [
        {
          "name": "stdout",
          "output_type": "stream",
          "text": [
            "VAL: [141087 202236 118407 ...  62015  92555 127800]\n",
            "Validation set 1 size: 22785\n",
            "VAL: [ 27321 222474 224195 ... 205613  75105 178860]\n",
            "Validation set 2 size: 22785\n",
            "VAL: [ 42883 136653 218869 ... 117619  66209 174106]\n",
            "Validation set 3 size: 22785\n",
            "VAL: [111481   2305 167212 ... 157089 223571  32458]\n",
            "Validation set 4 size: 22785\n",
            "VAL: [143423 145815 188420 ...  23538 222658 151915]\n",
            "Validation set 5 size: 22785\n"
          ]
        }
      ],
      "source": [
        "sss \u003d StratifiedShuffleSplit(n_splits\u003d5, test_size\u003d0.10, random_state\u003d0)\n",
        "X_vals \u003d {}\n",
        "y_vals \u003d {}\n",
        "i \u003d 0\n",
        "for train_index, val_index  in sss.split(X_train, y_train):\n",
        "    print(\"VAL:\", val_index)\n",
        "    _, X_val \u003d X[train_index], X[val_index]\n",
        "    _, y_val \u003d y[train_index], y[val_index]\n",
        "    X_vals[\"Val\" + str(i)] \u003d X_val\n",
        "    y_vals[\"Val\" + str(i)] \u003d y_val\n",
        "    i+\u003d1\n",
        "    print(\"Validation set {} size:\".format(str(i)), X_val.shape[0])"
      ]
    },
    {
      "cell_type": "code",
      "execution_count": 27,
      "metadata": {
        "colab": {},
        "colab_type": "code",
        "id": "W_s2ZsRXMlAk",
        "outputId": "030a05e2-fcd7-4719-d2ca-876743576fea",
        "pycharm": {}
      },
      "outputs": [
        {
          "name": "stdout",
          "output_type": "stream",
          "text": [
            "Original dataset shape Counter({0: 227451, 1: 394})\n",
            "Number of resampled datasets: 11\n",
            "Resampled dataset ensmebles shape is Counter({0: 394, 1: 394})\n",
            "Distribution of the Classes in the subsample dataset\n"
          ]
        },
        {
          "data": {
            "text/plain": [
              "Text(0,0.5,\u0027Frequency\u0027)"
            ]
          },
          "execution_count": 27,
          "metadata": {},
          "output_type": "execute_result"
        },
        {
          "data": {
            "image/png": "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\u003d\n",
            "text/plain": [
              "\u003cFigure size 432x288 with 1 Axes\u003e"
            ]
          },
          "metadata": {
            "needs_background": "light"
          },
          "output_type": "display_data"
        }
      ],
      "source": "print(\u0027Original dataset shape %s\u0027 % Counter(y_train))\n\n#Create 11 ensemble resampled sets (We will keep the 11th for validation)\n\n\nsampler \u003d EasyEnsemble(random_state\u003d10,replacement\u003dFalse , n_subsets\u003d11)\nX_resampled, y_resampled \u003d sampler.fit_resample(X_train, y_train)\n\nprint(\u0027Number of resampled datasets: 11\u0027)\nprint(\u0027Resampled dataset ensembles shape is %s\u0027 % Counter(y_resampled[0]))\n\n\nprint(\u0027Distribution of the Classes in the subsample dataset\u0027)\ncount_classes \u003d pd.value_counts(y_resampled[0], sort \u003d True).sort_index()\ncount_classes.plot(kind \u003d \u0027bar\u0027)\nplt.title(\"Fraud class histogram\")\nplt.xlabel(\"Class\")\nplt.ylabel(\"Frequency\")"
    },
    {
      "cell_type": "markdown",
      "metadata": {
        "colab_type": "text",
        "id": "MEleKzWDMlAo",
        "pycharm": {}
      },
      "source": [
        "- Random Search "
      ]
    },
    {
      "cell_type": "markdown",
      "metadata": {
        "colab_type": "text",
        "id": "pYooROAuMlAq",
        "pycharm": {}
      },
      "source": [
        "### Hyperparameters search for XGB Classifier"
      ]
    },
    {
      "cell_type": "code",
      "execution_count": 28,
      "metadata": {
        "colab": {},
        "colab_type": "code",
        "id": "aLl-Hr0lMlAr",
        "outputId": "75a12230-b1bb-485d-f3f6-78b79a2fcd2e",
        "pycharm": {}
      },
      "outputs": [
        {
          "name": "stdout",
          "output_type": "stream",
          "text": [
            "\n",
            "Εstimator : XGB Classifier\n",
            "Fitting 4 folds for each of 10 candidates, totalling 40 fits\n"
          ]
        },
        {
          "name": "stderr",
          "output_type": "stream",
          "text": [
            "[Parallel(n_jobs\u003d-1)]: Using backend LokyBackend with 8 concurrent workers.\n",
            "[Parallel(n_jobs\u003d-1)]: Done  40 out of  40 | elapsed: 11.7min finished\n"
          ]
        },
        {
          "name": "stdout",
          "output_type": "stream",
          "text": [
            "Best parameters found for Estimator : XGB Classifier\n",
            "{\u0027colsample_bytree\u0027: 0.7797706012939293, \u0027gamma\u0027: 1.5838134488118056, \u0027max_depth\u0027: 2, \u0027min_child_weight\u0027: 12, \u0027subsample\u0027: 0.9444717875545451}\n",
            "\n",
            "Best score found for G-Mean Score metric : 0.878\n"
          ]
        }
      ],
      "source": [
        "xgb_clf \u003d xgb.XGBClassifier(learning_rate\u003d0.03, n_estimators\u003d600, objective\u003d\u0027binary:logistic\u0027,\n",
        "                    silent\u003dTrue, nthread\u003d1)\n",
        "\n",
        "params \u003d {\u0027min_child_weight\u0027: sp_randint(4, 30),\n",
        "        \u0027gamma\u0027: np.random.uniform(0.5,4,size \u003d 5),\n",
        "        \u0027subsample\u0027: np.random.uniform(0,1,size \u003d4),\n",
        "        \u0027colsample_bytree\u0027: np.random.uniform(0,1,size \u003d4),\n",
        "        \u0027max_depth\u0027: sp_randint(1, 7)}\n",
        "\n",
        "res \u003d hyperparameters(xgb_clf,params,X_train,y_train,scoring,\"XGB Classifier\",random_search\u003dTrue)\n",
        "\n"
      ]
    },
    {
      "cell_type": "markdown",
      "metadata": {
        "colab_type": "text",
        "id": "IFTKZK_AMlA1",
        "pycharm": {}
      },
      "source": [
        "- Grid Search"
      ]
    },
    {
      "cell_type": "code",
      "execution_count": 0,
      "metadata": {
        "colab": {},
        "colab_type": "code",
        "id": "Mk7Uc1ACMlA2",
        "outputId": "c6488579-4df7-4d5d-9573-c8afde6b2f22",
        "pycharm": {}
      },
      "outputs": [
        {
          "name": "stdout",
          "output_type": "stream",
          "text": [
            "\n",
            "Εstimator : XGB Classifier\n",
            "Fitting 4 folds for each of 9 candidates, totalling 36 fits\n"
          ]
        },
        {
          "name": "stderr",
          "output_type": "stream",
          "text": [
            "[Parallel(n_jobs\u003d-1)]: Using backend LokyBackend with 8 concurrent workers.\n",
            "[Parallel(n_jobs\u003d-1)]: Done  36 out of  36 | elapsed: 24.2min finished\n"
          ]
        },
        {
          "name": "stdout",
          "output_type": "stream",
          "text": [
            "Best parameters found for Estimator : XGB Classifier\n",
            "{\u0027colsample_bytree\u0027: 0.4154703562955012, \u0027gamma\u0027: 1.2526844434195878, \u0027max_depth\u0027: 4, \u0027min_child_weight\u0027: 10, \u0027subsample\u0027: 0.7788902025017921}\n",
            "\n",
            "Best score found for G-Mean Score metric : 0.879\n"
          ]
        }
      ],
      "source": [
        "params \u003d {\u0027min_child_weight\u0027: [8,9,10],\n",
        "        \u0027max_depth\u0027: [4,5,6],\n",
        "         \u0027colsample_bytree\u0027:[0.4154703562955012] ,\u0027gamma\u0027:[1.2526844434195878],\u0027subsample\u0027:[0.7788902025017921]}\n",
        "\n",
        "\n",
        "res_grid \u003d hyperparameters(xgb_clf,params,X_train,y_train,scoring,\"XGB Classifier\",random_search\u003dFalse)\n"
      ]
    },
    {
      "cell_type": "markdown",
      "metadata": {
        "colab_type": "text",
        "id": "WAB37d76MlBC",
        "pycharm": {}
      },
      "source": [
        "### Define our 10 Boosting Classifiers"
      ]
    },
    {
      "cell_type": "code",
      "execution_count": 65,
      "metadata": {
        "colab": {},
        "colab_type": "code",
        "id": "ayjwRp3TMlBC",
        "pycharm": {}
      },
      "outputs": [],
      "source": [
        "xgb_clf \u003d xgb.XGBClassifier(learning_rate\u003d0.03, n_estimators\u003d600, objective\u003d\u0027binary:logistic\u0027,\n",
        "                    silent\u003dTrue, nthread\u003d1,colsample_bytree \u003d 0.4154703562955012,gamma \u003d 1.2526844434195878,\n",
        "                    subsample \u003d 0.7788902025017921,min_child_weight \u003d 10,max_depth \u003d4 )"
      ]
    },
    {
      "cell_type": "code",
      "execution_count": 66,
      "metadata": {
        "colab": {},
        "colab_type": "code",
        "id": "iwc6CcibMlBF",
        "pycharm": {}
      },
      "outputs": [],
      "source": [
        "estimators \u003d {\"XGB\"+ str(l+1):xgb_clf for l in range(10)} \n",
        "X_sets \u003d [X_resampled[i][:] for i in range(10)]\n",
        "y_sets \u003d [y_resampled[i][:] for i in range(10)]"
      ]
    },
    {
      "cell_type": "markdown",
      "metadata": {
        "colab_type": "text",
        "id": "fsCz--QlMlBI",
        "pycharm": {}
      },
      "source": [
        "### Validation on the 11\u0027th resampled set we created"
      ]
    },
    {
      "cell_type": "code",
      "execution_count": 0,
      "metadata": {
        "colab": {},
        "colab_type": "code",
        "id": "0RM-XfUYMlBJ",
        "outputId": "3225f2bb-5b0a-42c3-e62c-c87d62b16da4",
        "pycharm": {}
      },
      "outputs": [
        {
          "name": "stdout",
          "output_type": "stream",
          "text": [
            "XGB1 Balanced Accuracy Score : 0.94 (+/- 0.02) \n",
            "XGB2 Balanced Accuracy Score : 0.94 (+/- 0.01) \n",
            "XGB3 Balanced Accuracy Score : 0.94 (+/- 0.02) \n",
            "XGB4 Balanced Accuracy Score : 0.93 (+/- 0.02) \n",
            "XGB5 Balanced Accuracy Score : 0.94 (+/- 0.02) \n",
            "XGB6 Balanced Accuracy Score : 0.95 (+/- 0.02) \n",
            "XGB7 Balanced Accuracy Score : 0.94 (+/- 0.01) \n",
            "XGB8 Balanced Accuracy Score : 0.95 (+/- 0.02) \n",
            "XGB9 Balanced Accuracy Score : 0.93 (+/- 0.02) \n",
            "XGB10 Balanced Accuracy Score : 0.94 (+/- 0.02) \n"
          ]
        }
      ],
      "source": [
        "for clf,X,y,names in zip(estimators.values(),X_sets,y_sets,estimators.keys()):\n",
        "    scores \u003d cross_val_score(clf, X, y, cv\u003d5,scoring\u003d\"balanced_accuracy\")\n",
        "    print(\"%s Balanced Accuracy Score : %0.2f (+/- %0.2f) \"\n",
        "          % (names, scores.mean(), scores.std()))"
      ]
    },
    {
      "cell_type": "markdown",
      "metadata": {
        "colab_type": "text",
        "id": "MXGvFvC4MlBN",
        "pycharm": {}
      },
      "source": "**!Note: Because Scikit Learn does not support voting classifier for fitted classifiers \nwe are going to implement an ensemble estimator for fitted classifiers.(See in utils package)**"
    },
    {
      "cell_type": "code",
      "execution_count": 67,
      "metadata": {
        "colab": {},
        "colab_type": "code",
        "id": "MPalkn6DMlBP",
        "pycharm": {}
      },
      "outputs": [],
      "source": [
        "eclf \u003d VotingClassifier(estimators.values(),weights \u003d None)\n",
        "eclf.fit(X_sets,y_sets)"
      ]
    },
    {
      "cell_type": "markdown",
      "metadata": {
        "colab_type": "text",
        "id": "hr-l9EusMlBR",
        "pycharm": {}
      },
      "source": [
        "Lets first evaluate it in an undersampled set we got from EasyEnsemble"
      ]
    },
    {
      "cell_type": "code",
      "execution_count": 0,
      "metadata": {
        "colab": {},
        "colab_type": "code",
        "id": "gHeB_HpXMlBS",
        "outputId": "56c700d7-24fb-4173-c378-2ad777e6a22e",
        "pycharm": {}
      },
      "outputs": [
        {
          "name": "stdout",
          "output_type": "stream",
          "text": [
            "\n",
            "Classifier : EasyEnsemble Voting Classifier \n",
            "\n",
            "                         pre       rec       spe        f1       geo       iba       sup\n",
            "\n",
            "Valid Transaction       0.97      0.95      0.97      0.96      0.96      0.92       402\n",
            "Fraud Transaction       0.95      0.97      0.95      0.96      0.96      0.92       386\n",
            "\n",
            "      avg / total       0.96      0.96      0.96      0.96      0.96      0.92       788\n",
            "\n"
          ]
        }
      ],
      "source": [
        "print(\"\\nClassifier : EasyEnsemble Voting Classifier\", \"\\n\")\n",
        "tic \u003d time.time()\n",
        "preds \u003d eclf.predict(X_resampled[10][:])\n",
        "toc \u003d time.time() - tic\n",
        "\n",
        "print(classification_report_imbalanced(preds,y_resampled[10][:],target_names \u003d target_names))"
      ]
    },
    {
      "cell_type": "code",
      "execution_count": 0,
      "metadata": {
        "colab": {},
        "colab_type": "code",
        "id": "GbW3njBvMlBd",
        "outputId": "afe14ba3-73cf-4005-9efc-e65f16e99a23",
        "pycharm": {}
      },
      "outputs": [
        {
          "name": "stdout",
          "output_type": "stream",
          "text": [
            "XGBoost Ensemble Classifier Roc Auc Score : 0.9594\n"
          ]
        }
      ],
      "source": [
        "print(\u0027XGBoost Ensemble Classifier Roc Auc Score : {:.4f}\u0027.format(roc_auc_score(y_resampled[10],preds)))\n",
        "\n"
      ]
    },
    {
      "cell_type": "code",
      "execution_count": 0,
      "metadata": {
        "colab": {},
        "colab_type": "code",
        "id": "1a3c7ZVQMlBo",
        "outputId": "7768960c-39fb-496d-bf6a-ada3c680fd8f",
        "pycharm": {}
      },
      "outputs": [
        {
          "data": {
            "image/png": "iVBORw0KGgoAAAANSUhEUgAAAt0AAAH3CAYAAABn6OM/AAAABHNCSVQICAgIfAhkiAAAAAlwSFlzAAALEgAACxIB0t1+/AAAADl0RVh0U29mdHdhcmUAbWF0cGxvdGxpYiB2ZXJzaW9uIDIuMi4zLCBodHRwOi8vbWF0cGxvdGxpYi5vcmcvIxREBQAAIABJREFUeJzs3XecU2X2x/HPYaT/REBRXJS1IQouugpYV7ErtsW2rlhQ7F2xF0TURde2NkQsi72sDdbGigr2giIqKDYsuAooiKy0gTm/P54biWEyc2dIcpPM9/165TWT594kJ3cyMycn5z6PuTsiIiIiIpI/jZIOQERERESk3CnpFhERERHJMyXdIiIiIiJ5pqRbRERERCTPlHSLiIiIiOSZkm4RERERkTxT0i1SB2b2sJnNMrP2GeMVZjbezD41s+YZ27Y0swfNbJqZLTKzn83sbTO71MxWz9jXMy4/mdlbZnZwIZ5fNmbWy8wGmVmsvxlm9mU1zyV1OS3f8dZFDXG6mf056fjqK4r/shj7jTWzsTl+7I5mdlP0+7DAzP4XveYvMLOVon3WimLsl8vHjhlfr+ixe6WNNTKzf5jZd2ZWZWZP5CvGan4/fjKz58xsmyz7Nzez88xsopnNM7M5ZvZSTX8XzKyLmf3TzL4ys4XRbV42s1PMrFmMGFcxsyFm9qGZ/RI97gdmdkXm3y0RiWeFpAMQKTEnAR8BQ4F908bPBDYFtnf3+alBMxsAXAW8CFwIfAH8H7AVcAzQHdg94zFGALdG37cBDgPuM7NF7v5Ijp9PXL2Ai4HLgKqYtxkNDKpm/MucRJRbI1h6zNNNKXAcJc/MtgVGATOAG4APgcbAFsCJwCrA6YkFGLwLbAlMThvbHzgVGAC8DvwIfBft93keYkj9fjQCOhF+v542s27u/mVqp+hNynPAhsA1wEtAM8Lfn3vNbDt3Pzb9js3sAOAewrG/FPgUaAlsB1wCGHB9tsDMrAvwn2i/G4Dx0aY/AscCnYE+9X7mIg2Ukm6ROnD3GWZ2OnCXmR3g7v8ys/UJ/zxvdfdxqX3NbHtCwn29u2cmGU+b2RDggGoe5lt3fyPtfkYDW0f7JpV018cP6c+jyH1bQrEWLTNrQ3iNfgTs5O6/pG3+j5ldQ3jDmSh3/xnI/HlvGH39h7unv7HM2evCzJq6+8Loavrvx2tm9hnwCnAQcEXaza4HNga2cfe308afNrMPgH+Y2Wvuflf0GJ2Au4FngAPcfXHGba4G1q8hxhWAR4EFwFbuPiNt8/Nm9g+WLRTUS8bxECl7ai8RqSN3vxt4FrjJzNoBdwAzgXMydj0H+KGa8dT9/OLuI2I8XhXwP0K18FdmtrqZ3W1mP0QfH79vZodk3t7MeprZmOgj/l/M7Hkz65mxT4/o4+0fo4+RvzCzodG2QYQqHEBl6iPx2uKOw8wOMrMXzGxmFN8EMzu8mv1ONbOPzGy+mc220MrTJ9p2k5lNN7PM4/N/ZjY3enOTi1jdzC6LPp6fGt33ODPrmrHfrmb2avRx/v/MbIqZDczYZ2MzGxU9l/nR/n/K2GeEhZak7mb2WrTfFDPbI9p+RtSm8LOZjYxei9WEbRdE9zM/aknYJMZzXcXMbjGzb6PX1sdmdkyMw3Q00A44OSPhBn59zT9Xw+P2MLNH0uKdYmZ/s2Vbtmo8xma2vpk9bmYzLLS3fG1m/4oSymXaS8zsS5Z+KrMk2tbPsrSXmNl20e/R3Oh3arSZbZSxz1gze8XM9ope1wuBE2o4du9GXzum3cfvgEOA2zMS7pQbCNX6c9PGTicU1E7ISLgBcPeZ7v5qDXHsC2wAnJuRcKduv9jd/x3Fl+34VNe+U+3xMLNJZvZo5uOY2eaW0eIV5/dGpJip0i1SP8cCkwhVsHWAPaLqGfBrtWg74DF3X1TH+7ZUckBoL+lHqMJdkrZDS2BctP184BvCP+d7zKyFuw+P9usW7Tc5uh8n/IMeZ2ZbuPtEM/s/wkfdb0X7zAXWYmlF8nZgDaA/sA2wpB7P41cZicA6hMroFYS2lW2B282subsPi+6kL+Fj9cHAy0BzoBvQNrqPoYS2hT7Aw2n33ZfwkfptOYoVwjGeQmhDaEL4JGOkmW3g7ovNbB1Ca8UjhI/1FxFaB9ZJe6BNo+cxgZCkzgOOA8aY2Vbu/k7a47UiVC2vBv4LXAA8amY3E6qVJwKrAf8AbgYOzIj3MOBrQltUU8IxfN7MOrn7rCwHohXwKuE4DwKmArsCt1ioTN5Y3e0iOwHfu/v4GvapSUfgPUK7z1ygKzCQcPwOiuKr9RgDTwI/AccT3vh2AHqTvdDUBziF8PrfMhr7nPD6+Y3oTc9I4CnC6wHCG+uXLbSGfJO2+/qExPhSQmtZtcc8slba46b0AioIz3cZ7u5m9m/gHDNb3d2/I/wM3o6+r4+dCL/jT9fz9jWp7ng0BS4xszbuPjtt30Oi7U9DnX9vRIqTu+uiiy71uABDCEnso9VsWy3aNqSabSukXzK2eTWXJcBFGfudFG3rlTE+htBLWxFdf4SQfLRO26cV4Z/ZY9H17tF9davhuQ6K9lkh2z4Z+3+Z5bk40D3LbRpFx+Q2YGLa+E3Au7U83ljg+Yyxd4FnY8SaLU4HVsnY71OgcdrY/tH4VhnXW9XweM8T2i+apI1VRGNPpI2NiO5r27SxbtHYlNTPOBq/FqjMGHNCwtkybWytaL9LM47d2LTrFxFaCzplxH1bdH9ZXwPRc3g95mtkrSjGflm2W/R6OITwhmzlOMeY0DPuwN41PHYvMn5/COcreG0xAp9V81prFR2bf2Qc1ypgkyy/H/dFz68J0IXw5vgToE3afudEj9+5hudyXLRPz+j6fOCBOD+DLPf3DPDd8vwMsxzfao8HsCbhb9yxaWONCZ8eDq3r740uuhTzRe0lIvUQVQMPJfxj6WFmK2bukuV27QlJz6+XaiqsdwI9ossOwOXAQDM7K22fbQl9yGMzbnsv4eP9Lmn7PenuP6V28FCRH0WoxENIJH8CbjWzQ8xszRqeel08k/Y80i+/nrxmZp3M7AEz+5alx+QowolaKW8Dm5jZjWa2k5m1qOaxhgLbW+hnxcx6EE76qu7kyOqkH/P0y08Z+z3n7pVp1z+IvqZaAt6LnsODZra/ma2afuOoTWI74F9AlZmtEP38jfCGaduMx/vF3V9Ku/5x9HWMuy/JGF8ByJxV4mlPa/PwcILeGyyt5lZnN+BNYGoqvijG0cDKLH1t5ZyZtTKzK83sc2Ah4VjeQzg+naLdajzGhBMgvwCuMLOjU6+JHMXXCViXcGJz+rGZRzj5MvPn96W7v5fl7g6OnsdCwqdmGwF7+W+rvdX+HckMqy7PIWHLHA8PnwyMI/w9TdmN8ObpbqjX741IUVLSLVI/VxFaO/YAViVUvdP9QKgWdqxmPJXQZWt7+M7dx0eXF919IDAcuNTCiWoQWiuq+/j4+7Ttte3XBsDd5wDbE9oXhgJfW5gmbL8s8cU1K+15pF/mQei5JszKsDGh5eVPhONyJ+Ej55S7CW0CmxMSv1lm9piZrZW2z+PRc0rN4nBc9Hz+HTPW77LEmtlektkekDoJrBmAu39GaMVoREgWvzezN80s9QanLaE6dxEZb74In160sd9Oy/ibpN+XtiqlJ2YQWix+jSPN9Gqe63RCu0U2qxKSmMz4/hVtX7mG237D0jaJ+vgn4Wd3A7Az4fVwYrQt1jF2d49uO57we/mJhXMUjl+OuFJSCf4dLHt89mTZY1NTi0fqTelWwGmEdp7H7LfT+aVaVdaq4X5+H32dlnab32fZN45vgHZZ3twur2zH425gazNbO7p+KPCZLz3RtK6/NyJFSS9SkTqK/rkfDVzo7s8QPpY+wcx+nZUhStZeAnY2sybp46mEjpAUxjWJkIimZh2YBbSvZr/U2I8x9vs1gXT399x9P8I/t9QUaQ9nnhyWY1sSkoNj3P0ed38tOi6/qfx7cKu79yRUvw4HegIPpe1TSeg97xdVPg8C7qgmac676I3SbkBrQn9sJfCUma1CSKKrgBupvrLew387c8byWi3L2Lc13OZH4LVs8bF0+rjqjAHam9lmdQ00Sjb3Aa5y9+vdfVz0epifuW8txxh3/8LdDyN86vNH4AVgqJkt76wbqd+r86j+2OyVGWoN95V6U/q6u19POMmyC3By2j5jCa+Xvau7AzOz6DE/dvfU35MxQHfLWEugDsYQEtw4x2pB9LVJxni2N2bZjsejhE8LDok+RdyL8IYqpdC/NyJ5oaRbpA6ijzlvJ7Q8pOa5vZIwH+7t6Qk28HdCknhlDh66W/R1ZvR1HLCGmW2dsd/BhJ7uj9L22yO9/SX6fq9o229EbwreIFSUGrF0GrVURbd55m2WQ6qS9mu7RlTJ3yfbDdx9trs/RDhhMvMNwa3ASoSKbFPinUCZN+6+0N1fILwOWgJrR60eLxOq++9WV13PcRi9o5NugTDbBGG+7NdruM2zhNkrvs5S/Z9bw21vJ3yac1P646Y9fgsz2ynLbZsSkr3KjPF+2R6sumOcsd2jdoYzoqHlfRM5hdCP3TXLsXl/Oe77LsJ5CGelqszu/i1wP3BU1DKV6RRCov73tLHrCD3SQ82sIvMGFmamyfy7ke4xwvO80qqZESdq7dgjujqd8Lch87juQR1Er6mRhAr3AYRPNe5J217o3xuRvNDsJSJ1M5hQnd03VVlx90oz60/olb2AaHo9d3/ezM4l9JZ2I3yEOpXwD2V9QjX2F5at/nQwsy2i71cknJR0FKE/94tofARhBo3HzOwCwkfLfQkfqx+b1u97KeFj7+fN7Mrosc4hJLyDAcxsT8JCPU9E8bUk/DOfy9LkLNWHPcDMngGWxPhHt0ra80j3fdRb/BrwM3CzmV0cPe6FhKRtpdTOZjY8LZYZhGN3KGHxjl+5+7fRTA59gH/7b2eRqE2HLLF+5XWYBcLMjiO0ZjxN+Jh+FUJV9L+EN2YQEsCXgNFmdgfhI/dVCIsrVbj7uZn3uxzmE+bHvopolgjCMb+uhttcB/yFMBvHdYQErCUhEf+Tu9f0pmhW1JY0CnjXzG5k6eI4PQmtI48QqqmZt51jZm8QXmPfEV4HR5LRClPbMY5+164nfBLyGSGR7wcsJlS8683d3cxOJMxY04Tw5u8HwqcHWxHeqFy7HPc9kDDzyvGEGXsgVL67AC9YmGM7tTjOfoTjc4e7/zPtfj41s8MI53e8YWbDWLo4zp8ILViDCTPUVBfHYjPbl9D69Z6ZXc/STzc2Jvyt+Bh4Kor5IaC/mX1CeK3sQfibVVd3A38lvEZfcfepGdsL+Xsjkh9eBGdz6qJLKVwIs3wsBgZn2X4toerTNWN8a8I/528Jvbc/EyrllwCrZ+ybOXvGL4Sk5XygRca+qxOqQT9Ej/s+cEg1cW1OSHL+F93f80QzHUTbOxMSlKmEj4tnEhKazdP2qSBMSTeD8DGv13KsvqzmuaQuN6XttwNhCrD5hJaWU4hmSknb53DCx+wzouc5lZAYLjN7BeGfthOmcIz7c61p9pIzM/a7LOO2a5E2ewOhZWYkIRlcSEgM/kXG7BOETxAeTHtO0wiJau+0fUYA07LEmxlHv2h8vYz9Lo9eO9Oin+3LLDt7xFjSZi+JxtpEx3gq4TU7I7rtaTGP6e8Js86kToj8H+E1f27q55Z57NLGniG8yZoR3ccepM2EUdsxJvRd30WYCWQeoY1qHLBr2uP0Sr/PaCzW7CVpMTxJ6K1fQHi9PwhsmXFcX6nh9+PeLNtejZ5T87SxFtHP8QPC78pcwkI6y/y+p92ma/Qa+jr6Gc6JfoYnAE1j/AxXIUzlOTk6jvMJf2MuB1ZN2681S/8OzQKGZf7MajseaX9jvotud0yWfWr9vdFFl2K+mHtNLWciIqXDzO4jvMlZx9XjKSIiRUTtJSJS8qLWkE0IbRFnKOEWEZFiU9ATKc3sTgvL8n6YZbuZ2Q1m9pmFJa03LWR8IlKyXidM43gXYdpDERGRolLo2UtGECa9z2Z3wgIInQgna9xSgJhEpMS5u7n7iu7e3xOYJlBERKQ2BU26Payslrm4RLp9gLs9eANobWaZK6yJiIiIiJSUYpunuwNLV+CCcGZyTSuniYiIiIgUvWI7kdKqGat2ehUzO4bQgkLLli0322CDDfIZl4iIiIhkcA+XqqrfXjLH4uwT93aFZlTRgf+yGtOZZSsz1X/8wd2XWTyqNsWWdE8D1ky7vgZZlsp29+HAcIDu3bv7+PFakEpEREQaJneorIQFC2D+/KWXzOu5HluypPbYcs0MmjdfemnW7LfXqxuLs091Yyu+M5YWpx5Foy+mw/HHwxVXYCut9FV94i62pHsUcJKZPUhY0GOO12E1OBEREZGkucOiRfGS1lwmwElUgRs1KlwCnBpr0iQk3nn3wANw8MGw7rrw4ovQq9dy3V1Bk24ze4CwEtgqZjaNsFx2YwB3H0ZYBa83YeneecARhYxPREREyos7LFxY/0S2vrdLYu3BiorcJLd1uV3jxgVKgAvpl1+gZUvo3RsGDoRzzoEWLZb7bstiRUq1l4iIiBQ/95Cc5rK6W9s+CxYkkwCvsEIyCbAsh9mzYcAAGD8+XJo0qXY3M3vH3bvX9e6Lrb1ERERECqCqKpkEOAmNG+e2vSHOPisowyotI0eGnu0ZM+Dss/PyTk0vCRERkYRVVRXmpLf06wsXJvNcmzQpfAJcUZHMc5US8PPPcOyx8OCD0K0bPPkkbJqfBdGVdIuIiKRZsqQwJ72ljy1alMxzbdo0fwlwdWNNmyoBliLTvDl88QUMHhx6t7O0lOSCkm4RESlaixcXPgGurEzmueZ6hoc4CXCjYlsiT6QQvvsOLroIrr4aWreG114ryLtBJd0iIhJLZWVhZn1IH1u8OJnnmpmwLu8JbnES4LKbAUKk2LjD3XfDaaeFPzL77w+77Vawj1+UdIuIlJjUIhj5Puktc6wYFsEoRAJcsDmARaRwvv469G4/+yxssw3ccQesv35BQ1DSLSKyHFKLYOT7pLfMsWJYBCMXJ7jVNlaWcwCLSOGdeSa8/DLceCOccEIivVVKukWkbKQWwSh0ApzUHMCFmPc3MwEWESkZn38e/nB17AjXXQdXXglrr51YOEq6RSQvUotg5Pukt/TrSS2C0bhxYaY9S7+uOYBFRLJYsgRuugnOPx923RUeeww6dEg6KiXdIg1BahGMfJ/0ln5Jcg7gfM/6kH5di2CIiBSRjz+G/v3DjCS9e8MNNyQd0a/0r0KkwJYsqV/CuzwJcJJzABc6AdYcwCIiDdTo0bDPPtCiBdxzD/TtW1QnhSjplgYtfRGMQiXASc4BXOgEWHMAi4hI3i1eHD5y3GIL6NcPBg2C9u2TjmoZSrqlaKQvgpHPk97SL0nPAVyoxTC0CIaIiJSdRYtgyBAYNQpefx1WWgmGDUs6qqyUdMsy3HObAMdNipOeAzifsz5kJsBF9GmXiIhI6Rk/Ho48Ej74ILSRLFiQ1yXcc0FJd5HLXAQjXye9ZY4lPQdwoRJgLYIhIiJSQhYuhIsvhquuCi0ko0bBXnslHVUsSrrrIHMRjEIkwAsWJJMAV1QUPgHWIhgiIiJSo0aN4D//gSOOgKuvhtatk44oNiXdMVVWQo8eMHFi4R97hRVye4Jb3ARYREREJHG//BJ6twcMgDZt4JVXwgwlJUZJd0zffLM04W7VqrAJsOYAFhERkQbphRfgqKNg6lTYcMPQv12CCTco6Y7tf/8LXzfaKPTsi4iIiEiezJkDZ58Nw4fDeuvBuHGw7bZJR7VcNIlYTHPnhq//93/JxiEiIiJS9k4/HW6/Hc48M7QalHjCDap0x5aqdK+4YrJxiIiIiJSlWbPCLBIdOsDgwXDssbD55klHlTOqdMeUqnQr6RYRERHJsccfhy5dQv82wBprlFXCDUq6Y0tVutVeIiIiIpIjM2bAX/4C++4Lq68Of/tb0hHljdpLYlKlW0RERCSH3nwT9tgjJFmXXRZOnCzjOYuVdMekSreIiIhIDriH1fA23BC22y70b3ftmnRUeaf2kphU6RYRERFZDu5w551hJpKFC8PCJ48+2iASblDSHZsq3SIiIiL19NVXsOuu0L9/qHLPnp10RAWnpDsmVbpFRERE6qiqCoYODasLvvYa3HQTjB0L7dsnHVnBqac7JlW6RUREROpoyZKwyM2WW4bVJddaK+mIEqOkOyZVukVERERiWLIEhg2Dgw+GNm3gueegbdvQVtKAqb0kJlW6RURERGrx0UewzTZw0klw991hbOWVG3zCDUq6Y1OlW0RERCSLysqwsM0mm8Cnn8L998MppyQdVVFRe0lMqaRblW4RERGRDOecA9ddBwccEE6WXHXVpCMqOkq6Y0q1l6jSLSIiIkKYa3vOnJBgn3FGaCvZd9+koypaSrpjUqVbREREJPLWW3DkkbDaajBmDKyxRrhIVurpjmHxYliwIJwD0KJF0tGIiIiIJGT+fDj77DAF4Jw5MGCATpKMSZXuGNJnLtHrSkRERBqkjz+GvfcOJ0oecwz8/e+w0kpJR1UylHTHoH5uERERafA6dAiXW26BHXdMOpqSo/aSGNTPLSIiIg3SmDGwxx7hpMkVV4QXX1TCXU9KumNQpVtEREQalDlz4OijYeed4bPPYNq0pCMqeUq6Y1ClW0RERBqMp56Crl3hzjvDSZPvvQfrrpt0VCVPPd0xqNItIiIiDUJVFQwcCK1bw+OPQ48eSUdUNpR0x6BKt4iIiJS1xx+H7baDtm1h5Eho1w6aNk06qrKi9pIYVOkWERGRsjR9eli6fd994frrw9gaayjhzgNVumNIVbqVdIuIiEhZcIf77oNTTw3VxSFD4Mwzk46qrKnSHUP64jgiIiIiJW/IEDj0UFh//XCi5LnnwgqqxeaTjm4MqnSLiIhIyXOHn38Oq0gefnioJp54IlRUJB1Zg6BKdwyqdIuIiEhJ+/JL2GUX6NMnJN8dOsAppyjhLiAl3TGo0i0iIiIlqaoKbroJNtoI3nwTDjwwJN1ScGoviUGVbhERESk5334Lf/0rvPwy7LorDB8OHTsmHVWDpaQ7BlW6RUREpOS0ahV6uEeMgMMOA7OkI2rQ1F4SgyrdIiIiUhImTQqzkixcGKqF774bTppUwp04Jd0xqNItIiIiRa2yEi69FP74R3j2WfjoozDeSKlesdBPIgZVukVERKRoTZgAPXrAwIFhZcnJk2GTTZKOSjKopzsGVbpFRESkKLnDCSeE5dwfeyxMCShFSUl3LdxV6RYREZEi88YbYTXJtm3h3nuhTZvwvRQttZfUYv78MMVls2ZaHVVEREQSNm8eDBgAW20FgweHsXXXVcJdApRG1iLVWqIqt4iIiCRq3Djo3x8+/xyOO25p0i0lQZXuWqRaS9TPLSIiIom57Tbo1Sv0vb7wAtxyS5iHW0qGku5aqNItIiIiiVm4MHzt3RvOPhvefx+23z7ZmKRelHTXQpVuERERKbiffgqtJL17h5PLOnSAK6+Eli2TjkzqSUl3LVTpFhERkYIaNQq6dIG77oKePWHJkqQjkhxQ0l0LVbpFRESkIGbPhr59YZ99oF07ePNNGDIEGjdOOjLJASXdtVClW0RERApihRXg7bfhkkvC1802SzoiySFNGVgLVbpFREQkb77/Hq64IlxWXBE++ACaNk06KskDVbproSXgRUREJOfc4e67Q+/2sGHw1lthXAl32VLSXQstAS8iIiI59c03sMcecPjhIemeOBG23TbpqCTPlHTXQpVuERERyal+/cLqkjfcAC+9BJ07Jx2RFIB6umuhSreIiIgsty++gJVWgpVXhqFDw4wk66yTdFRSQKp010KVbhEREam3qqpQ0f7DH+Dcc8NY585KuBsgVbproUq3iIiI1MuUKWFVyVdfhd13h4EDk45IEqSkuxaqdIuIiEidPfEEHHQQtGgRZik55BAwSzoqSZDaS2qhSreIiIjEVlUVvvbsCQceCJMnw6GHKuEWJd21UaVbREREarVoEQweHNpIqqrgd78LFe727ZOOTIqEku5aqNItIiIiNXrnHejRAy6+OMxOMn9+0hFJEVLSXQtVukVERKRaCxbA+efD5pvDzJkwciTcfz+0bJl0ZFKElHTXoLISFi6ERo2gWbOkoxEREZGisngxPPBAWFly8mTYe++kI5IiptlLapBqLVlxRZ3/ICIiIsAvv8A//gEDBoTe0/feC4veiNSi4JVuM9vNzKaY2Wdmdm412zua2YtmNsHM3jez3oWOMSXVWqJ+bhEREeHFF6FbN7jwQhg9Oowp4ZaYCpp0m1kFcDOwO9AF+KuZdcnY7ULgYXf/I3AQMLSQMaZLr3SLiIhIA/Xzz3D88bDDDqHndOxY2GefpKOSElPoSndP4DN3/8LdFwEPApmvWgdaRd+vBPy3gPH9hirdIiIiwuGHw/DhoaVk4kTYbrukI5ISVOie7g7AN2nXpwGbZ+wzCPiPmZ0MtAR2Kkxoy1KlW0REpIGaPRvcoW1buPxyOOcc2GKLpKOSElboSnd1pyN6xvW/AiPcfQ2gN3CPmS0Tp5kdY2bjzWz8zJkz8xCqKt0iIiIN0hNPQJcucNpp4XqXLkq4ZbkVOumeBqyZdn0Nlm0f6Q88DODurwPNgFUy78jdh7t7d3fv3q5du7wEq0q3iIhIAzJzJhx0EPTpE1aSPP30pCOSMlLopPttoJOZrW1mTQgnSo7K2OdrYEcAM9uQkHTnp5RdC1W6RUREGoiXXgoV7ccfh8sug7fegj/+MemopIwUtKfb3Reb2UnAaKACuNPdJ5nZYGC8u48CBgC3mdnphNaTfu6e2YJSEKp0i4iINBCdOsFmm8E110DXrklHI2Wo4IvjuPvTwNMZYwPTvp8MbF3ouKqjJeBFRETKlDvcdVfo337sMVh9dXj22aSjkjKmZeBrkKp0q71ERESkjHz9Ney+OxxxBMyaBT/9lHRE0gAo6a6BKt0iIiJlpKoKhg0L7SOvvAI33RQWumnbNunIpAEoeHtJKVGlW0REpIzMnw9XXhmm/7vtNlhrraQjkgZEle4aqNItIiJS4pYsgdtvhwULoGXLUOH+z3+UcEv8WD7UAAAgAElEQVTBKemugSrdIiIiJeyjj2CbbeDoo+GBB8JYhw5g1a3VJ5JfSrproEq3iIhICVq8GIYMgU02gU8+gXvvhX79ko5KGjj1dNdAlW4REZESdNxxcMcdsP/+4WTJ1VZLOiIRJd01UaVbRESkRCxaFPq2W7UKy7fvtltIukWKhNpLaqBKt4iISAl4++2wmuTxx4frXbsq4Zaio6Q7C3cl3SIiIkVt/nw4++wwBeDs2XDwwUlHJJKV2kuymDcvJN7Nm0NFRdLRiIiIyG+8/36oZn/6aZid5KqrYKWVko5KJCsl3Vmon1tERKSItWsX/kk/9xzstFPS0YjUSu0lWai1REREpMg8/zwcdlhYzn311WH8eCXcUjKUdGehSreIiEiRmDMHjjkmJNhvvAHffRfGtciNlBAl3Vmo0i0iIlIEnnoqzEZyxx3hpMmJE8OqkiIlRj3dWajSLSIikrBFi+Dkk6F1a3j8cejRI+mIROpNSXcWqaRblW4REZECe/JJ2HHHMIXY6NHQsSM0bZp0VCLLRe0lWaTaS1TpFhERKZDp0+GAA2CvvWDYsDDWqZMSbikLSrqzUKVbRESkQNzh/vtD7/aoUfC3v8FJJyUdlUhOKenOQpVuERGRArngAujbN1S133sPzjsPGjdOOiqRnFJPdxY6kVJERCSP3GHBgtC33bcvrLIKnHqqloGWsqWkOwtNGSgiIpInX34Z5t1eZZWlbSVduyYdlUheqb0kC1W6RUREcqyqCm6+GTbaCF5/Hf70p1DxFmkAVOnOQpVuERGRHPrqKzj0UHj5ZdhlFxg+HH7/+6SjEikYJd1ZqNItIiKSQ02awLRpcOed0K+flnCXBkftJVmo0i0iIrKcJk0KK0pWVcHqq8Mnn8ARRyjhlgZJSXcWqnSLiIjUU2UlXHYZbLopPPAAfPZZGF9BH7BLw6WkOwtVukVEROphwgTo2RMuugj69IHJk2H99ZOOSiRxesuZhSrdIiIidbRkCRx0EPz8Mzz2WEi6RQRQ0p2VKt0iIiIxjR8f5tlu3hz+9S9YYw1o2zbpqESKitpLqrFoUbissAI0bZp0NCIiIkVq3jw480zYfHO4+uow1q2bEm6RaqjSXY30KrdOsBYREanGSy9B//7hJMnjjgtLuItIVqp0V0P93CIiIjW44QbYbrswFeALL8Att0CrVklHJVLUlHRXQ/3cIiIi1ViyJHzdaSc4/XR4/33YfvtkYxIpEUq6q6FKt4iISJqffoKjjgrLuAN06QLXXgstWyYbl0gJUdJdDVW6RUREIk8+GWYm+ec/oWPH0FIiInWmpLsaqnSLiEiDN2sWHHII7LUXrLwyvPkmXHEFNFLqIFIf+s2phirdIiLS4C1aBGPGwKBBYR7u7t2TjkikpGnKwGqo0i0iIg3S99/D0KEh0W7fHj7/XH3bIjmiSnc1Ukm3Kt0iItIguMM994QTJP/+d5gwIYwr4RbJGSXd1Ui1l6jSLSIiZW/aNNhzTzjsMNhwQ3jvPdhss6SjEik7ai+phirdIiLSILjD3nvDlClw/fVw4olQUZF0VCJlSUl3NVTpFhGRsjZ1aujZbt4chg+HNm1g3XWTjkqkrKm9pBo6kVJERMpSVRXceCNstBFcemkY695dCbdIAajSXQ1NGSgiImVnyhTo3x9efRV23x2OPz7piEQaFFW6q6FKt4iIlJUHHoCNN4ZJk+Cuu+Cpp2DNNZOOSqRBUdJdDVW6RUSkLLiHr5tsAvvsA5Mnh1lKzJKNS6QBUtJdDVW6RUSkpC1aBIMHw+GHh+sbbggPPQSrr55sXCINmJLuaqjSLSIiJevdd6FHD7j4YliyJCTgIpI4Jd3VUKVbRERKzoIFcMEF0LMnzJwJI0fCffdBkyZJRyYiKOleRlUV/PJL+F6r34qISMmYMweGDQs925MmhUVvRKRoKOnOkJ5wN9LRERGRYjZvXlhJsqoKVlsNPvoI7rwzLHYjIkVFaWUG9XOLiEhJGDsWunWD006DcePC2KqrJhqSiGSnpDuD+rlFRKSozZ0LJ5wA228fro8du/R7ESladVqR0sw6A38CVgZGuPt0M1sT+NHd5+UjwEJTpVtERIran/8ML74IZ5wRlnJv0SLpiEQkhlhJt5k1Bu4EDgYMcOA5YDpwEzAJOD9PMRaUKt0iIlJ0Zs+GZs2geXO47LKwuM0WWyQdlYjUQdz2kkuBvYGjgd8TEu+Up4FdcxxXYlTpFhGRojJyJHTpAgMHhutbbqmEW6QExU26+wIXufudwH8ztn0BrJ3TqBKkSreIiBSFmTPhr38N7SSrrhq+F5GSFTfpbgd8WMP2ZjmIpSio0i0iIol77rlQ3X700bCc+9tvw6abJh2ViCyHuEn3V0CPLNu6A5/mJpzkqdItIiKJW3NN2HDDsKT7RRdpVUmRMhA36b4XuMDM9gMqojE3sy2BM4AReYgtEap0i4hIwbnDiBFw7LHh+gYbwEsvwUYbJRqWiORO3KR7CPA88C/gh2jsReAVYBzwj9yHlgxVukVEpKC+/hp694YjjoDJk5cujSwiZSXWlIHuvhjoY2Y7E2YqWRX4EXjW3UfnMb6CSyXdqnSLiEheVVXBbbfBWWeF72+8MSx600jr1omUo7jzdK9KWADnOcL83OnbGgGruPuMPMRXcKn2ElW6RUQkr2bNgvPPhx494PbbYe2ymQhMRKoR9+30d8BmWbb9MdpeFtReIiIiebNkCdx/f/i6yirw5pswZowSbpEGIG7SbTVsWwGoykEsRUEnUoqISF58/DFsuy307QujRoWx9dYLq0uKSNnL2l5iZv8HtEobWsXMfpexW3PC0vDT8xBbIlTpFhGRnFq8GK65Bi6+GFq0gHvuCQveiEiDUlNP9wAgWnMWB/6dZT8DLs9lUElSpVtERHKqb194+GHYbz+46SZo3z7piEQkATUl3U8C3xOS6qHA34GpGfssBCa7+1v5Ca/wVOkWEZHltmhRmJGkWTM4+WQ44ADYf/+koxKRBGVNut39HeAdADNz4FF3/yHb/uVClW4REVku48fDkUfCLrvA1VfDNtskHZGIFIFYJ1K6+60NIeF2V6VbRETqaf58OPdc2Hxz+PFH6NUr6YhEpIjEmqcbwMzWB44AOgPNMja7u++Ry8CSsGhRON+lcWNo0iTpaEREpGS8+y4cfDBMmQJHHQVXXQWtWycdlYgUkbiL42wGvEyYpaQjMAVoS1iZ8r/A1/kKsJBU5RYRkXpp0SJM/ffcc7DTTklHIyJFKO483VcATwGdCCdWHuLu7YE9o/s4Jz/hFZb6uUVEJLYXXoABA8L3G2wAkyYp4RaRrOIm3RsDI1i6CE4FgLs/DfyNMLNJyVOlW0REajVnDhx7LOy4Y1jkZtasMN4o7r9UEWmI4v6FaArMdfcqYBawWtq2yUC3XAeWBFW6RUSkRk8/DRttBLffDmeeCRMnQtu2SUclIiUgbtL9BZBajXIS0C9t2yHAjBzGlBhVukVEJKu5c+Gww2ClleD118PJki1aJB2ViJSIuEn3M8DO0fdDgH3MbJaZzQAOB27IR3CFpkq3iIgsY8wYWLIkVGSefx7eeQd69kw6KhEpMXHn6T7f3ftH3z8L/Am4E3gE6OPu18V9QDPbzcymmNlnZnZuln0ONLPJZjbJzO6Pe9/LS5VuERH51YwZ8Je/wM47wz33hLGNN4amTZONS0RKUux5utO5+xvAG3W9nZlVADcTqubTgLfNbJS7T07bpxNwHrC1u882s1XrE2N9qNItIiK4w4MPhuXb586Fyy+Hvn2TjkpEStxyn2ptZl3M7IGYu/cEPnP3L9x9EfAgsE/GPkcDN7v7bAB3L1i/uCrdIiLCaaeFhW7WWw8mTIDzzw+rpomILIcaK91mZsAfCAvifO7uH6Vt+wMwEOgDzI/5eB2Ab9KuTwM2z9hn/ej+XyVMTTgoamnJO1W6RUQaKPelSxLvtx907BiS74qKpCMTkTKRtdJtZu2BV4EJwEjgQzO7y8xWMLObovE9gaHAejEfz6oZ84zrKxAW4ekF/BW43cyWWUvXzI4xs/FmNn7mzJkxH75mqnSLiDRAX30Fu+0G50anGW27bVj0Rgm3iORQTe0lVwCbAJcD+wFnArsA44ATgH8Bndz9FHefHvPxpgFrpl1fg7CMfOY+I9290t2nEpac75R5R+4+3N27u3v3du3axXz4mqnSLSLSgFRVwS23hHm3X301tJOIiORJTe0lOwOD3f2K1ICZfQiMBoa5+wn1eLy3gU5mtjbwLXAQcHDGPk8QKtwjzGwVQrvJF/V4rDpTpVtEpIGYOhWOOALGjQuzkwwfDmutlXRUIlLGaqp0r0poL0mXuh73xMnfcPfFwEmExP0j4GF3n2Rmg81s72i30cCPZjYZeBE4y91/rM/j1ZWSbhGRBmLRIpgyBe68E0aPVsItInlXU6W7AliYMZa6/kt9H9DdnwaezhgbmPa9A2dEl4JSe4mISBmbPBkefhgGDYLOnUO1u1mzpKMSkQaitnm6dzGz9Ca3RoQTH3czsw3Sd3T3gi1iky+qdIuIlKHKyrBk+yWXhD/wRx8NHToo4RaRgqot6R6cZfyyjOsOlHzSrUq3iEiZee89OPLIMN/2gQfCjTfCqgVbc01E5Fc1Jd0bFiyKIqFKt4hIGVm4EHr3DrOUPPYY9OmTdEQi0oBlTbrdfUohAykGqnSLiJSBiRPDNIBNm8Ijj8AGG0DbtklHJSIN3HIvA18uliyBefPADFq0SDoaERGps/nz4ayzYNNN4dZbw9hWWynhFpGiUFtPd4PxSzQfS8uW0EhvRURESsvLL0P//vDpp3DMMdC3b9IRiYj8htLLiPq5RURK1BVXhKXbKythzJhQ5V5ppaSjEhH5DSXdEfVzi4iUGPfwdeut4eST4YMPYMcdk41JRCQLtZdEVOkWESkRc+bAmWeGP9jXXgt/+lO4iIgUsTpXus1sPTPb3MzK6nRDVbpFRErAk09C165h+famTZdWu0VEilzspNvM+pvZNGAK8BqwQTT+iJkdl6f4CkaVbhGRIvbjj3DoobDXXtCmDbzxBgwZEqacEhEpAbGSbjPrBwwHXgAOB9L/yr0J/CXnkRWYKt0iIkXshx9g5Ei4+GJ45x3o0SPpiERE6iRupfss4Hp3Pwx4IGPbR0RV71KmSreISJGZPh2uuy5837kzfPUVDBoETZokGpaISH3ETbrXBZ7Ksm0u0CY34SRHlW4RkSLhDvfdB126wHnnwSefhPE2Jf+vRkQasLhJ9yxgzSzb1ge+y004yVGlW0SkCHz7Ley9NxxySKhuT5gA66+fdFQiIsstbtL9FHChmaUn3m5mrYHTgJE5j6zAVOkWEUnYkiXQqxc8/3xoK3n5Zdhww6SjEhHJibjzdF8AvAFMBl4BHLga2BD4H3BJXqIrIFW6RUQS8s038LvfQUUFDBsGa60F666bdFQiIjkVq9Lt7jOATYEbgHbAt0Bb4C5gc3efnbcIC0SVbhGRAquqgptuCtXsG28MYzvuqIRbRMpS7BUp3f0nQsX7gvyFkxxVukVECuiTT6B/f3jlFdhtN9h336QjEhHJq7jzdP/NzEp+WsCapCrdSrpFRPLsrrtg443hww9hxAh4+mno2DHpqERE8iruiZQnA5PMbLyZnWxm7fIZVBJSlW61l4iI5Nm668Luu8PkyXD44VpVUkQahLhJ96rAYcBM4FrgWzN70swOMLOmeYuugNReIiKSJ5WVcOmlcPbZ4fo228Bjj8Hqqycbl4hIAcU9kXK+u9/n7rsDawDnAqsDDwHTzey2PMZYEDqRUkQkDyZMCEu2DxwY5uCuqko6IhGRRMStdP/K3ae7+7XuvhmwI2FFyiNzHlmBqdItIpJDCxfChReGhHv6dHj88bDKZKM6/9sRESkLsWcvSYnaSf4MHALsAhjZl4gvCe6qdIuI5NQ338A118Chh8K112oJdxFp8GKXHMysl5ndAUwHHgBWA84Efufue+cpvoJYsCAshNa0KTRunHQ0IiIlat48+Oc/QyVjvfVgypRwXQm3iEi8SreZfQ10AL4Bbgbudvcp+QyskFTlFhFZTuPGhXm3P/8cunWDzTbTNIAiImniVrqfA3Zw97Xc/YJySrhB/dwiIvU2dy6ceCL06hUq3C+8EBJuERH5jViVbnfvn+9AkqRKt4hIPbjDDjvAO+/A6aeHaQFbtkw6KhGRopQ16TaznsCH7j4v+r5G7v5WTiMrIFW6RUTq4Kefwh/Migq45JLQs73llklHJSJS1GqqdL8BbAG8FX3vWfazaFtFbkMrHFW6RURiGjUKjjsOBgwIl969k45IRKQk1JR07w58FH3fm+xJd8lTpVtEpBY//ACnngr33x9OlOzVK+mIRERKStak291Hp33/bGHCSYYq3SIiNXjmGTj88NBWcsklcO650KRJ0lGJiJSUWLOXmNlkM/tDlm1dzGxybsMqLFW6RURq0KoVrLMOvPtuWM5dCbeISJ3FXZFyA6B5lm0tgM65CScZqnSLiKRxh3vugc8+g8GDYeut4fXXwSzpyERESlbsFSnJ3tPdDZiTg1gSo0q3iEjkm29gjz1CO8m4cVBZGcaVcIuILJeapgw8GTg5uurAI2a2MGO35sDvgEfyE15hqNItIg1eVRXcdhucdVb4/sYb4YQToFFdajMiIpJNTe0l/wXeib5fD5gC/Jixz0JgMnBL7kMrHFW6RaTBmzYNTjsNttoKbr8d1l476YhERMpKTbOXPAo8CmDhY8UL3P2LAsVVUKp0i0iDtGQJPPkk7L03dOwIb70FG22kVhIRkTyI9bmhu/+1XBNuUKVbRBqgjz+GbbeFP/8ZXnwxjP3hD0q4RUTypKae7rOBu939++j7mri7X5Xb0ApHlW4RaTAWL4ZrroGLL4YWLeDuu2H77ZOOSkSk7NXU030FMBb4Pvq+Jg6UbNKtSreINBj77ANPPw19+sDQodC+fdIRiYg0CDUl3c3dPTVbSbY5ustCqtKtpFtEytKiRVBRES7HHgv9+sH++6uVRESkgLL2dKcl3Lj7wtouhQk3P1KVbrWXiEjZeecd6N4drrsuXN97bzjgACXcIiIFFncZ+HXMbJO0603N7GIz+5eZHZW/8ApDlW4RKTsLFsB558Hmm8MPP8AGGyQdkYhIgxZ3GfihhPm434uuXwqcDnwC9DGzCne/NQ/x5d3ixTB/flj/oXlZN9GISIPx9ttw6KEwZQr07w9XXw2tWycdlYhIgxZ3qbFNgJcALEza3Q843927Ek6yPC4v0RVA+swl+rRVRMrCokXhMnp0WOhGCbeISOLiJt2tgR+i7zcBVgYejq4/B6yb47gKRtMFikhZePFFGDIkfL/11qHKvcsuycYkIiK/ipt0zwDWib7fGZjq7l9F11sCS3IdWKFoukARKWk//wzHHw877AAjRsC8eWG8ceNEwxIRkd+Km3Q/CVxuZpcBZwKPpG3rCkzNdWCFokq3iJSsZ54Jy7YPHw5nngkTJoQFb0REpOjEPZHyXGBF4C/AGOCytG0HAi/kOK6CUaVbRErSjBmw336w9trw2mthlhIRESlasZJud/8ZODTLth45jajAVOkWkZLy2muw5Zaw6qrw3HNhDu6mTZOOSkREahG3vQQAM1vRzHY0swPMbAczK/n6sCrdIlISZs6Egw4KJ0k++WQY23prJdwiIiUibnsJZnYhoc2kOZCaXG+emQ1x98vzEVwhqNItIkXNHR56CE4+OZw0edllsNtuSUclIiJ1FCvpNrMTgcHAfcC9wPdAe+AQYLCZzXL3W/IWZR6p0i0iRe3YY+G226BnT7jzTujaNemIRESkHuJWuk8Chrr7SWljE4HRZjYHOBkoyaRblW4RKTru4dKoUahqd+4Mp50GFRVJRyYiIvUUt6d7HWBklm0jWTqHd8lRpVtEisrXX8Puu8M114Tr++4LAwYo4RYRKXFxk+5ZQOcs2zpH20uSKt0iUhSqqmDYsNA+8sorsNJKSUckIiI5FDfpfoKwOM4BZpY6iRIz6wNcGm0vSap0i0jiPv8cdtwxrCy5xRbw4YdwzDFJRyUiIjlUl8VxNgUeAhaa2QygHdAUeDvaXpJU6RaRxE2fDhMnwu23w5FHwtLahoiIlIm4i+PMMbOtgD7An4C2hJaSccBId1+SvxDzS5VuEUnERx/BmDFhKsCttgq93Hr3LyJStmLP0x0l1o9El7KhSreIFFRlJVx9NQwaBK1awSGHQJs2+iMkIlLmauzpNrODzOwNM/vBzD4zs8vNLHaiXgpU6RaRgpk4MfRsn38+7LNP6N1u0ybpqEREpACyJtBmdgBwP/A18CqwNqF3u4IS7uHOlKp0K+kWkbz6+WfYbruwbPsjj8B++yUdkYiIFFBNle4zgKeATu6+j7t3A64ETjazuLOeFL1UpVuf7IpIXkyZEha6adUKHnwQJk9Wwi0i0gDVlDx3Bm5x98q0sRuA5sDv8xpVgbirp1tE8mT+fDj7bOjSJVS2IawuufLKycYlIiKJqKk/uzXwQ8bYzOhrG2BqXiIqoPnzw3oUzZrBCmXVqS4iiXrllTD136efwtFHwy67JB2RiIgkrLY2Ea/jeElRP7eI5NygQbDttmGWkjFjYPhwrS4pIiK1Thn4qlW/SMObGePu7k1zFlWBqJ9bRHLGPSxq84c/hLm3L79cf1xERORXNSXdVxYsioRoukARWW5z5sBZZ8F664Ue7v3204mSIiKyjKxJt7ufV8hAkqCTKEVkuTz1FBx7LHz3HVxwQdLRiIhIESubqf/qQ5VuEamXWbPgsMNgzz2hdWt44w0YPDjpqEREpIg16KRblW4RqZdPPoGHH4aBA+Gdd6BHj6QjEhGRItegJ8pTpVtEYps+HZ55Bvr1C0u5f/kltG+fdFQiIlIiVOlGlW4RqYE73H8/dO0Kxx8P//1vGFfCLSIiddCgk25VukWkRt9+C/vsA337QqdO8O678LvfJR2ViIiUoAbdXqJKt4hktWAB9OwJs2fDtdfCKadARUXSUYmISImKnXSb2WrAqcC2QFtgf3efbGYnAG+5+/g8xZg3qnSLyDK+/x5WWw2aNYMbb4Ru3cIc3CIiIsshVnuJmW0AfAAcD8wDOgPNos2dgdPiPqCZ7WZmU8zsMzM7t4b99jczN7Puce+7rlTpFpFfVVXBzTeHBPuBB8LYvvsq4RYRkZyI29N9NTAVWBvoDaSvAf8qsGWcOzGzCuBmYHegC/BXM+tSzX4rAqcAb8aMr15U6RYRAD79FHr1gpNOgm22ga23TjoiEREpM3GT7u2Av7n7T4BnbPseWD3m/fQEPnP3L9x9EfAgsE81+10K/B1YEPN+60WVbhHhtttCC8kHH8A//xmmBfz975OOSkREykxdZi9ZkmV8ZWB+zPvoAHyTdn1aNPYrM/sjsKa7P1mH2OpFlW4RYeWVYZddYNKkMAe3Wa03ERERqau4Sfd44NAs2/YD3oh5P9X9N/u1cm5mjYDrgAG13pHZMWY23szGz5w5M+bD/5Yq3SINUGUlXHZZmJEEQt/2E09oKkAREcmruEn35cB+ZvZv4ABCorytmd0KHAj8Leb9TAPWTLu+BvDftOsrAhsBY83sS2ALYFR1J1O6+3B37+7u3du1axfz4X9LlW6RBmbChDAN4EUXwfvvh4VvQNVtERHJu1hJt7uPISTXGwP3EyrW1wJ7AAe6+6sxH+9toJOZrW1mTYCDgFFpjzPH3Vdx97XcfS1CBX3vfE1HmKp0K+kWKXMLF8KFF0KPHmFKwMcegxEjlGyLiEjBxJ6n290fM7PHga7AqsCPwAfuXlWH+1hsZicBo4EK4E53n2Rmg4Hx7j6q5nvIrVSlW+0lImXugw9gyBA49NDQVtK2bdIRiYhIA2PumZORlJ7u3bv7+PF1K4ZXVkKTJmGBucpKFbxEys68efDss6FnG2DKFOjcOdmYRESk5JnZO+5e53VkYlW6zezA2vZx94fr+uBJSj+JUgm3SJl56SXo3x8+/xw++SQscKOEW0REEhS3veTBLOPpZfKSTLrVzy1SRubOhfPOCytLrrMOPP+8VpQUEZGiEDfp3rCasZWBPYH9gcNzFlGBqJ9bpMwsWQJbbAEffQSnnRamBWzZMumoREREgJhJt7tPybLpNTNbAhwPvJ6zqApAlW6RMvG//4XkuqICzj8f1l4bttoq6ahERER+oy4rUmbzIrB3Du6noFTpFikD//536NW+//5wvW9fJdwiIlKUcpF0dwfm5eB+CkoL44iUsB9+CAn23nuHZdw32CDpiERERGoUd/aSs6sZbkJYPbIPcFsugyoELQEvUqL+/e8wM8ns2TBoUDhxskmTpKMSERGpUdwTKa+oZmwJ8C1wHXBJziIqEFW6RUrU4sXQsSOMGQPduiUdjYiISCxxk+7m1YxV1mU1ymKjSrdIiXCHe++FOXPgpJOgT5/QVlJRkXRkIiIisdXa021mTYBBwEbuvjDtUrIJN6jSLVISvvkG9twTDjsMHn8cqqI/O0q4RUSkxNSadLv7IuBUoKwmvFWlW6SIucPw4dC1K4wdC9dfD//5DzTKxbnfIiIihRf3P9hEoEs+Ayk0VbpFitikSXD88dC9O3zwAZxyiqrbIiJS0uIm3WcD55jZTvkMppBU6RYpMlVV8OKL4fuNNoJXXw3LuK+zTrJxiYiI5EDcpPtOoDUw2szmmtmnZvZJ2iXbipVFS5VukSIyZQpsuy3ssANMmBDGttgCzJKNS0REJEfizl7yDuD5DKTQVOkWKQKLF8O118LAgdCiBdx9N2yySdJRiYiI5FyspNvdD8p3IIWmSrdIwtxh553DiZJ9+sDQodC+fdJRiYiI5EXW9hIz+8LMNi5kMIWkSrdIQiorQ8JtBoceCg89BI8+qoRbRETKWk093WsBTQsUR8Gp0i2SgHffhU3wh1EAAB9uSURBVB494P77w/Ujj4QDD1TvtoiIlL0GO+mtKt0iBbRgAZx/PvTsCTNmQJs2SUckIiJSULX1dJfVyZMp7kq6RQrmzTehXz/4+ONQ2b7mGmjdOumoRERECqq2pPsSM/shxv24ux+ei4AKYd68kHi3aKH1NkTy7rvvwi/d6NGwyy5JRyMiIpKI2pLuTYCFMe6npCriqX5uVblF8mTsWPj0Uzj6aPjzn2HXXaF586SjEhERSUxtSfef3f2tgkRSQKnWEp1EKZJjP/8M55wDw4ZBly6hraRxYyXcIiLS4DXIEylV6RbJg2efDcu333ornHEGvP12SLhFREQk9oqUZUWVbpEcmzoV9tgDOneG114LS7iLiIjIr1TpFpH6mzgxfF17bXjqqTAPtxJuERGRZWRNut29UTn2c4Mq3SLLbeZMOOgg2GQTePXVMLbbbtCsWbJxiYiIFKkG2V6iSrdIPbmHZdtPPhnmzIFLLw0L3oiIiEiNGnTSrUq3SB0ddhjce29Yyv3/27vzcLvGs/Hj3ztJiZripUoRqkn1l2iUClJzBTE0qaEahKoYesVQQ5GKqYa+VbQ6GKN+VVpTi+ZCiKZqCFFDDJEXjdTPTBOEkITI8/vj2ee1syUnJyfn7HXOXt/Pde1r77322mvdZ5/nOuc+97nX81x5Zb5wUpIkLVYpk25Xo5SWQKpMwx8BW28NG20ExxwD3Ur540OSpFYp9YWUVrqlxXjxRdhll1zdBjjsMPjRj0y4JUlaQqVMuq10S4sxf35e4KZvX7j/fvjoo6IjkiSpUytlucpKt9SM55+HQw7JS7kPHAijR8N66xUdlSRJnVopk24r3VIzJk/O822PHg3Dh+debkmStFRKmXRb6ZZqPPMMPPIIDBsGQ4bAtGmw6qpFRyVJUsOwp1sqs3nz4Gc/y4vcnHgizJ6dt5twS5LUpkqZdFvploAnn8xLtv/4x/Ctb8GkSbDcckVHJUlSQyple4mVbpXeG2/A5pvDSivBjTfC3nsXHZEkSQ2tlEm3lW6V1osvQs+e8PnPw1VXwQ472EoiSVIdlLK9xEq3Smf2bBg5Er70Jbj77rxtn31MuCVJqpPSVbo//DDfunWDZZctOhqpDiZMgIMPhueey/Nvb7xx0RFJklQ6pat0N1W5V1zR6YdVAiefDFtvDXPnwrhxee7tHj2KjkqSpNIpXdLd1M9ta4lKYe214Ygj8oI3O+5YdDSSJJVW6dpLqivdUsOZOTPPt73llnDggTBiRNERSZIkSph0W+lWw7r9djj8cHj11VzhliRJHUbp2kusdKvhvPUWfO97sNtusPLK8OCDcOqpRUclSZKqlC7pttKthvPAA/CnP+VE+9FHYbPNio5IkiTVKF17iZVuNYQ33sjJ9h57wO67w7/+BeutV3RUkiRpEax0S51JSrmq3bdvbil555283YRbkqQOrXRJt5VudVqvvAJDhsD++0OvXjBxonNuS5LUSZSuvcRKtzqlmTNho43g/ffhggvghz+Erl2LjkqSJLVQaZNuK93qFN5+G1ZZJc9Kcu65sM020Lt30VFJkqQlVNr2Eivd6tDmz4eLL4Z114Xx4/O24cNNuCVJ6qRKl3Rb6VaHN3UqbL99Xr59wIDcvy1Jkjq10iXdVrrVoV18MfTrB088AVdeCXfckavdkiSpU7OnW+pIUoKBA+HSS+ELXyg6GkmS1EasdEtF+ugj+OlP4Zpr8vMRI+CvfzXhliSpwZQu6bbSrQ7j8cfzku2jRsF99+VtEfkmSZIaSumSbivdKtzcuXDqqdC/P7z2GvzlL3DZZUVHJUmS2lHpkm4r3SrcvffC2WfDfvvBlCmw555FRyRJktpZqS6knD8/L+gHsPzyxcaikvngA3jggXyR5I47wqRJ8LWvFR2VJEmqk1JVuqsT7i6l+spVqPvuy0u477ZbbicBE25JkkqmVKlnUz+3rSWqi1mz4Kij8tLtH38MY8fCmmsWHZUkSSpAqdpLmvq5vYhS7W7OHNh4Y3j+eTj6aDjnHAeeJEklVqqk20q32t2cOdC9e74ddRRssglstVXRUUmSpIKVqr3ESrfa1a23Qu/eMH58fn700SbckiQJKFnSbaVb7WLGDBg2DL71LejRA1ZZpeiIJElSB1OqpNtKt9rcLbdAnz5w/fVw+unw6KO5pUSSJKmKPd3S0nj1VVh7bbjrLujXr+hoJElSB2WlW1oSKcE118B11+XnP/gBPPSQCbckSWpWqZJuK91aKi+/nPu2DzgArr46b+vSBbqV6h9GkiSpFUqVdFvpVqukBFdcAX37wt//DhdeCGPGFB2VJEnqREpVorPSrVZ54AE49FDYfnsYPRq+9KWiI5IkSZ2MlW5pYebPh4cfzo+33DJfKPm3v5lwS5KkVilV0m2lWy3y3HOw7bY52X7++bxt4MDcvy1JktQKpcoirHSrWfPmwXnnwUYbweTJuZVk/fWLjkqSJDWAUvV0NyXdVrr1KfPmwTbbwIMPwpAhcMklsOaaRUclSZIaRKkq3U3tJVa69b/mz8/33brlZPvaa+Hmm024JUlSm6p70h0RgyLi2YiYGhEjF/L6cRExJSKejIjxEbFuW53bSrcW8Nhjecn2u+7Kz086CYYOhYhi45IkSQ2nrkl3RHQFLgJ2AfoA+0ZEn5rdJgGbppT6AX8Gft5W57fSLQDmzIFRo2CzzeCNNz6pdkuSJLWTele6NwOmppSmpZQ+BK4DhlTvkFK6O6X0QeXpRGDttjhxSla6BUycmKvbP/1pXllyyhTYeeeio5IkSQ2u3hdSrgW8VPX8ZWDzZvYfDoxtixN/+GG+Vu4zn4FllmmLI6pTmjQp/8vjjjtMtiVJUt3UO+leWLNsWuiOEcOATYFtF/H6YcBhAD179lzsia1yl9g998CMGbDnnnD44TBsmANBkiTVVb3bS14G1ql6vjbwau1OETEQGAUMTinNXdiBUkqXp5Q2TSlt+rnPfW6xJ3ZhnBJ67z0YMQK22y63k6SUF7hxEEiSpDqrd9L9MNA7Ir4YEcsAQ4Ex1TtExMbAZeSE+822OrEL45TMnXfChhvCpZfCscfmarezkkiSpILUtb0kpTQvIo4E7gS6AlemlJ6OiDOBR1JKY4DzgBWAGyMnSS+mlAYv7bmtdJfIE0/AoEHwla/AhAkwYEDREUmSpJKr+4qUKaXbgdtrtp1W9Xhge5zXSncJ/Otf0Lt3Xsb9+uth8GDo3r3oqCRJksqzIqWV7gY2fTrstx/07ZunAATYZx8TbkmS1GHUvdJdFCvdDSgluPFGOPJIeOcdOPVU6NWr6KgkSZI+pTRJt5XuBpMSfPe7Oenu3x+uvDJfOClJktQBlSbpttLdYCLgq1/NCfexx0K30gxlSZLUCdnTrc7jpZdgt91g3Lj8/NRT4YQTTLglSVKHV5qk20p3J5YSXH55vlDyH/+A118vOiJJkqQlUpqk20p3JzVtGgwcmJdv798fnnoKDjyw6KgkSZKWSGn+L2+lu5O66y54+OFc6T7kEFeVlCRJnVJpkm4r3Z3Is8/C1Km5f/vQQ/MiN2uuWXRUkiRJrVaa9hIr3Z3AvHlw7rl5RcmjjsrPu3Qx4ZYkSZ1eaZJuK90d3FNPwRZbwMiRsOuu8MADzkoiSZIaRmmyGivdHdi0afD1r0OPHnDDDbD33vZuS5KkhlK6pNtKdwfy5puw+uqw/vrwm9/AXnvBaqsVHZUkSVKbK117iZXuDmDOnNxGsu668OSTedvhh5twS5KkhlWKSvfHH8MHH+SOhc9+tuhoSm7CBBg+PM9QMnw49OxZdESSJEntrhSV7vffz/fLL58nw1BBTjgBtt46V7rHjYMrrsh93JIkSQ2uFCmo/dwdRPfuMGJEnqlkxx2LjkaSJKluStFeYj93Qd59F048EfbYA3beGc4801lJJElSKVnpVvsYOxb69oXRo+GJJ/I2E25JklRSpUi6XRinjt56Cw46KC9ws9JKeZGbE08sOipJkqRClSLpdmGcOrrlFvjjH+GUU+Cxx2DzzYuOSJIkqXCl6um20t1O/vOffHHkN78J3/8+bLklbLBB0VFJkiR1GFa61XopwXXXQZ8+MHQozJ6d+7ZNuCVJkhZQiqTbSnc7ePXVPCvJvvvmZdzvvhuWW67oqCRJkjqkUrSXWOluY6+/nmcmmTMHzj8fjjkGunYtOipJkqQOqxRJt5XuNvL++3lZzzXWgJNPhm9/G3r3LjoqSZKkDq8U7SVWupfS/PlwySXQs+cnc26fcIIJtyRJUguVIum20r0Upk7Ns5KMGAGbbAI9ehQdkSRJUqdTiqTbSncr/eY30K8fTJoEV1wB48bBuusWHZUkSVKnY0+3Fu3NN2GHHeDSS2GttYqORpIkqdMqRdJtpbuFPvoIzjsPNt0UdtoJzjgDunTJc29LkiSp1UrRXmKluwUefzwv2T5qFNx+e97WtasJtyRJUhsoRdJtpbsZc+fCaadB//55wZs//xkuvLDoqCRJkhpKKZJuK93NuOkmOOss2G8/mDIF9tqr6IgkSZIaTsP3dKdkpftTZs+GJ5/M7SRDh+b5t7fcsuioJEmSGlbDV7rnzIGPP4Zll4XPfKboaDqA+++HjTaCnXeGmTNzz7YJtyRJUrtq+KS7qbWk9FXuWbPg6KNhm23yLCV/+QusvHLRUUmSJJVCw7eXNLWWlLqfe+ZM2HhjeOEFOOooOOcc/wqRJEmqo4ZPuktd6Z43D7p1yxXtYcPy3NtbbVV0VJIkSaXT8O0lpa1033Yb9O6d598GOPNME25JkqSCNHzSXbrpAmfMgAMOgN13h+WXz9O3SJIkqVANn3SXarrAm2+Gvn3huuvygjePPpp7uSVJklSo0vR0l6LSPWkSrLUW3HlnnhZQkiRJHYKV7s4sJfjjH+Guu/LzU06BiRNNuCVJkjqYhk+6G7bS/corMHhwnpVk9Oi8bZllXAFIkiSpA2r4pLvhKt0pwRVXQJ8+MH48/PKXcO21RUclSZKkZtjT3dnceisceihst12ucPfqVXREkiRJWgwr3Z3B/Pnw9NP58e67w0035Sq3CbckSVKn0PBJd6evdD/3HGy7LQwYAG+8ARGwxx7QpeG/dZIkSQ2j4TO3Tlvp/vhjOP/8PBPJ5Mnw61/D6qsXHZUkSZJawZ7ujmj27Nyz/c9/wpAhcMklsOaaRUclSZKkVrLS3ZE0Ldm+3HKw9dZ5ZcmbbzbhliRJ6uQaPunuNJXuSZNgs83yPeTWku9+N/dwS5IkqVNr+KS7w1e6587NK0n27w8vvwxvvVV0RJIkSWpj9nQX6aGH4OCDYcoUOOgg+MUvYJVVio5KkiRJbayhk+558/I1iV265DbpDuf223MpfuxYGDSo6GgkSZLUThq6veT99/P9Cit0oNboe++Fu+/Oj0eNytMBmnBLkiQ1tIZOujtUP/d778GRR+aFbn7yk7xtmWVgpZWKjUuSJEntrhRJd+H93HfdBV/9Klx8MRxzDNx2W8EBSZIkqZ4auqe76SLKQivd994LO+0EG2wA998P3/hGgcFIkiSpCFa628vLL+f7rbeGyy+Hxx834ZYkSSqphk66C5kucPp02H9/6NMHXnopX8F56KHQvXsdg5AkSVJH0tBJd10vpEwJbrwxJ9s33gjHHw+f/3wdTixJkqSOrhQ93e1e6Z43Ly/ZftNNsOmmMH58vnBSkiRJwkp32+jWDdZYA849Fx580IRbkiRJC2jopLtdK90vvQSDB8OkSfn5RRfBiSfmBFySJEmq0tBJd7tUulPKs5H07ZvbSJ59tg0PLkmSpEbU0El3m1e6p02DgQPh8MNz7/ZTT8HQoW10cEmSJDWqhk6627zSfc018PDDcNllucq9/vptdGBJkiQ1soZOutuk0v3ss3DfffnxyJHw9NNw2GF5/m1JkiSpBRo66V6qSve8efDzn8NGG8ERR+Re7mWWgXXWadMYJUmS1PgaOuludaX7qadgwAA46STYdVcYN87KtiRJklqtoee3a1Wl+4knoH9/6NEDrr8evvMdE25JkiQtFSvdTWbOzPf9+sFZZ8GUKbDPPibckiRJWmoNnXS3qNI9Zw6cfDJ88Yvw4os5yT7pJFhttbrEKEmSpMbXsO0lKX1S6V5k0v3gg3DwwfDMM/l+pZXqFp8kSZLKo2Er3bNnw/z50L37QlZmTwmOOw623BI++ADuvBN+97vcxy1JkiS1sYZNupvt547IvScjRsDkybDTTnWNTZIkSeVS96Q7IgZFxLMRMTUiRi7k9WUj4vrK6w9FxHqtOc+n+rnffTcn2Y89lp9fdhn89rdtuEa8JEmStHB1TbojoitwEbAL0AfYNyL61Ow2HHg7pdQL+CVwbmvOtUCl+447YMMNc6J9//35hS4NW+SXJElSB1PvzHMzYGpKaVpK6UPgOmBIzT5DgKsqj/8M7BCx5PP2vfce9OBtfvra92GXXXLJe8IEOPropfoCJEmSpCVV76R7LeClqucvV7YtdJ+U0jxgJrDqkp5o1iw4lNEMmn41jBoFkybBFlu0MmxJkiSp9eo9ZeDCKtapFfsQEYcBh1WezoqIZxd2wvMSq3HOOdM555wlClQNazVgetFBqENxTKia40G1HBOqtUFr3lTvpPtlYJ2q52sDry5in5cjohuwMvBW7YFSSpcDly/uhBHxSEpp01ZHrIbieFAtx4SqOR5UyzGhWhHxSGveV+/2koeB3hHxxYhYBhgKjKnZZwzwvcrjvYG/p5Q+VemWJEmSOou6VrpTSvMi4kjgTqArcGVK6emIOBN4JKU0BvgdcHVETCVXuIfWM0ZJkiSprdV9GfiU0u3A7TXbTqt6PAf4ThuecrEtKCoVx4NqOSZUzfGgWo4J1WrVmAg7NyRJkqT25QoxkiRJUjtriKS7XkvLq/NowZg4LiKmRMSTETE+ItYtIk7Vz+LGRNV+e0dEighnK2hgLRkPEbFP5efE0xHxp3rHqPpqwe+NnhFxd0RMqvzu2LWIOFUfEXFlRLwZEZMX8XpExK8r4+XJiNhkccfs9El3PZeWV+fQwjExCdg0pdSPvPLpz+sbpeqphWOCiFgROBp4qL4Rqp5aMh4iojfwY2DLlFJf4Ji6B6q6aeHPiFOAG1JKG5Mnebi4vlGqzn4PDGrm9V2A3pXbYcAliztgp0+6qePS8uo0FjsmUkp3p5Q+qDydSJ4zXo2rJT8nAM4i/wE2p57Bqe5aMh4OBS5KKb0NkFJ6s84xqr5aMiYSsFLl8cp8ep0RNZCU0r0sZJ2YKkOAP6RsItAjItZs7piNkHTXbWl5dRotGRPVhgNj2zUiFW2xYyIiNgbWSSndWs/AVIiW/Iz4MvDliJgQERMjormKlzq/loyJM4BhEfEyeRa2o+oTmjqoJc016j9lYDtos6Xl1TBa/P2OiGHApsC27RqRitbsmIiILuTWs4PqFZAK1ZKfEd3I/zbejvyfsPsiYsOU0jvtHJuK0ZIxsS/w+5TSBRExgLymyIYppfntH546oCXOLRuh0r0kS8vT3NLyahgtGRNExEBgFDA4pTS3TrGpGIsbEysCGwL/iIgXgC2AMV5M2bBa+nvjrymlj1JK/waeJSfhakwtGRPDgRsAUkoPAt2B1eoSnTqiFuUa1Roh6XZpedVa7JiotBJcRk647dVsfM2OiZTSzJTSaiml9VJK65H7/AenlB4pJly1s5b83rgF2B4gIlYjt5tMq2uUqqeWjIkXgR0AIuL/kJPu/9Q1SnUkY4ADK7OYbAHMTCm91twbOn17iUvLq1YLx8R5wArAjZVral9MKQ0uLGi1qxaOCZVEC8fDncBOETEF+Bg4IaU0o7io1Z5aOCaOB0ZHxLHkNoKDLOA1roi4ltxetlqlj/904DMAKaVLyX39uwJTgQ+A7y/2mI4XSZIkqX01QnuJJEmS1KGZdEuSJEntzKRbkiRJamcm3ZIkSVI7M+mWJEmS2plJt6SGEhEHRURaxG3gEh7rkMr71m6veGvOd3ZNvG9HxEMR0ebTnEZEt8o5TqnatmdEHLOQfQdW9t2qreNoJr5eNZ/FxxHxWkRcHRHNLrXczDE3iYgzIqJHW8crSYvT6efplqRF+A55xbBqU4oIpBUGVO5XBQ4Hro2IZVJKf2irE1TmJR4AvFS1eU9gK+DCmt3/WYnp6bY6/xI4G7gNWLYSw2nAVyJiQEpp3hIeaxPyXLu/B1zOXVJdmXRLalSPp5SmFh1Ea6SUJjY9johx5CXIjwHaLOmuPc9i9nuXvEpnEZ6vivOeiFgWOAP4GuCKoZI6DdtLJJVORCwXEb+KiKcj4v1K28KYiNigBe89ICIer7xvZkQ8GRGH1OyzfUT8PSJmVW5jI6JPa2JNKX0EPA70qjr+yhFxcSXuDyPi2Yj4YU0MK0XEbyPipYiYGxFvRMRdEfHlyusLtJdExDXA/sC6VS0dUyuvLdBeEhGXR8SrEdG15pzdK5/J+VXbVo+Iyyr7fxgR/xMRw1vzWVQ8VrnvWXPusyNiUkS8GxHTI2J8RGxW9fohwOjK039XfY1rV30eoyqf5dyIeCUizqsk+ZK01Kx0S2pUXSOi+mdcSil9XHm8XOV2JvA6uY3jCODBiPhKSunNhR0wIrYFriK3XxxPXi66D7BK1T5DgL8AY4D9yMWNkcB9EdEvpfRKK76WL1Jph6gkumOBfsCp5JaPwcCFEbFqSum0ynt+BQwCRpGXKV6N3Dqy8iLOcXpln42APSrb5ixi3z8AhwI7AOOqtg8BVgKursTaA5hAXjr5NOAF8rLJoyvtMpe06Ktf0HqV++drtn8BuIDcUrQC8D3yZ75JSulp4K/A+sCPyW00r1Xe1/S9vhbYBfgZuarflzw+egLfbUWckrQAk25JjeqZmucTyEknKaW3gMOaXqgksncC/yEnWL9ZxDEHANNTSsdVbfvfpDMigpzsjk8p7Vm1/R/ANOBY4EeLC7zqj4VVgSPJrRQXVLZ9qxLHASmla5piiIgVgBMj4sLK1zcAuDqldGXVoW9a1DlTSs9HxHRgbgvaTiYA/wYOYMGk+wDgqZTSE5XnxwJrAxumlJqS5L9FxCrAGRFxedUfQovSpfJ5LAtsQU6ar686R1P8Bzc9rvp+PgMcDByfUvpPREyr7DIppfRC1f7bA3sD+6eU/lQV5zvA7yPi7JTSU4uJU5KaZXuJpEa1B9C/6rZAS0NEDI2If0bETGAeMItc/W6uxeRh4HMR8YeI2C0iaqvGXwHWBf5YaVfoVkkYZwEPAdu0MPaPKrfXgROAX5Ar1lSOMQ+4ruY915AT082rYh0eESMj4usR0WY/71NKqXK+PSJieYCI+BywMwv2nQ8CHgD+X83ncSewOs1/1k1+R/4sZgF/I1eyv1e7U0TsFBH/iIgZ5M/nQ3JluyXnGESu6t9cE2fTHxRbt+AYktQsk25JjWpySumRqtuzTS9ExB7kdoLJwL7kRLU/8BbQfVEHTCmNJ1fC1wNuAaZHxLiI2LCyy+qV+6v4JHFuug0iV65boukPhV7Aiiml41NKcyuv/Re52l47c8frVa8DjCD3MB9KvuDwzYi4ICKWa2EMi/MHYHlyqwbkz7EL8KeqfVYHvsmnP4trK6+35PP4Cfmz2A64pPJ4gf9ERER/8gwnM8mV7S0q+02mme9nTZzdgQ9q4nx1CeKUpGbZXiKpjIYCz9S0JHQHFjt/c0rpBuCGSjvHN4FzgbER0ROYUdntRODuhbx97kK2Lewczc3K8RawWkR0q0m816jcz6gc4z1yL/nIiFiPPIXif5MruqNYSimlqRExERhG7uEeRm6rebVqtxnkKQmPW8ghIM/KsjgvVH0e90TESsAhEXFpSqnposq9yV/XXtWfSUT8F/BGC84xg5xwb7uI119dxHZJajGTbkll9FlyC0K1A1mC//6llGYBYyKiF7nfehXyPOAvAX1SSue1Uay17iH3Su8FXF+1fX9y4vnQQmJ9ATgvIg4ANqx9vcpccotNS10N/LrSE92f3NNd7Q7yPOMvpJSmL8Fxm3MS+Ws/nXzhJnzy/UxNO0XETuSLK/+n6r1Nf/TUfo13kC+MXT6ldE8bxSlJCzDpllRGdwC/rUxtN5acMB4BvNvcmyLiHHKrwd3k2S96ki90fKRy8SIRcSRwU6VyfiO5iroG8A1gWkrpV0sZ+63Ag+QZQNYgJ5W7AwcBZ6WU3q7E8RD5wsnJwPvA9uQZOS5r5thTgIMj4jBgEjA7pTS5mf2vA35JTr7fB26uef18coX9voj4JfAcsCK59/0bKaU9WEIppVci4lLgmIj4WkrpcfL380jg/0bEVZXjn8KnK9RNiyMdWZki8SPgiZTS3yLiRnJP9y/IiwFBbiPalXwhZu1sKZK0REy6JZXRpcBa5ER1BLk6vDu5L7g5D5GTuyHk3uk3yQnfqU07pJTGVKYWPJl8EeBy5AR9Ip/0MrdaSunjiNiF3CoykvxHwL+BY2oS+vvIbTTrk6c2nAb8MKV0UTOHvxzYjNwy04M8LV+vRe2cUnorIm4Hvk2eKeX9mtffibzq5enkz+ML5KkPnyH/QdJa/03uVT+V3FJyW0QcS15A6DvAU+TpGs+qiefRiDgLOAT4Afk/G+uQL87cFzga+D45YZ9DnuKwaVYbSVoqkS9ClyRJktRenL1EkiRJamcm3ZIkSVI7M+mWJEmS2plJtyRJktTOTLolSZKkdmbSLUmSJLUzk25JkiSpnZl0S5IkSe3MpFuSJElqZ/8fgDTQK923cvoAAAAASUVORK5CYII\u003d\n",
            "text/plain": [
              "\u003cFigure size 864x576 with 1 Axes\u003e"
            ]
          },
          "metadata": {
            "needs_background": "light",
            "tags": []
          },
          "output_type": "display_data"
        }
      ],
      "source": [
        "xgb_fpr, xgb_tpr, xgb_threshold \u003d roc_curve(y_resampled[10], preds)\n",
        "roc_curve_(xgb_fpr, xgb_tpr, \"XGBoost Easy Ensemble Classifier\")"
      ]
    },
    {
      "cell_type": "markdown",
      "metadata": {
        "pycharm": {}
      },
      "source": [
        "### Validate on stratified shuffled sets we kept before resampling"
      ]
    },
    {
      "cell_type": "code",
      "execution_count": 98,
      "metadata": {
        "pycharm": {}
      },
      "outputs": [
        {
          "name": "stdout",
          "output_type": "stream",
          "text": [
            "Accuracy Score \u003d  0.967\n",
            "Accuracy Std \u003d  0.001\n",
            "Balanced Accuracy Score \u003d  0.524\n",
            "Balanced Accuracy Std \u003d  0.003\n",
            "Average Precision Recall Score \u003d  0.08\n",
            "Average Precision Recall Std \u003d  0.004\n",
            "Roc Auc Score \u003d  0.524\n",
            "Roc Auc Std \u003d  0.003\n",
            "G Mean Score \u003d  0.22\n",
            "G Mean Std \u003d  0.013\n"
          ]
        }
      ],
      "source": [
        "res \u003d validate_easy_ensemble(eclf,X_vals,y_vals)\n",
        "for key , values in zip(res.keys(),res.values()):\n",
        "    print(key,values)"
      ]
    },
    {
      "cell_type": "markdown",
      "metadata": {
        "colab_type": "text",
        "id": "BzDttCFKMlBt",
        "pycharm": {}
      },
      "source": [
        "### Finally lets predict our original Test set"
      ]
    },
    {
      "cell_type": "code",
      "execution_count": 0,
      "metadata": {
        "colab": {},
        "colab_type": "code",
        "id": "znF1hF8DMlBv",
        "outputId": "2568cef9-ebbf-4cd5-f090-06f77f74940e",
        "pycharm": {}
      },
      "outputs": [
        {
          "name": "stdout",
          "output_type": "stream",
          "text": [
            "                         pre       rec       spe        f1       geo       iba       sup\n",
            "\n",
            "Valid Transaction       0.96      1.00      0.04      0.98      0.21      0.05     54866\n",
            "Fraud Transaction       0.92      0.04      1.00      0.08      0.21      0.04      2096\n",
            "\n",
            "      avg / total       0.96      0.96      0.08      0.95      0.21      0.05     56962\n",
            "\n"
          ]
        }
      ],
      "source": [
        "preds \u003d eclf.predict(X_test)\n",
        "print(classification_report_imbalanced(preds,y_test,target_names \u003d target_names))"
      ]
    },
    {
      "cell_type": "code",
      "execution_count": 0,
      "metadata": {
        "colab": {},
        "colab_type": "code",
        "id": "44h5_hZWMlBy",
        "outputId": "eef0e191-e2af-4ddd-f14c-90bb5fa578fb",
        "pycharm": {}
      },
      "outputs": [
        {
          "data": {
            "image/png": "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\u003d\u003d\n",
            "text/plain": [
              "\u003cFigure size 360x360 with 2 Axes\u003e"
            ]
          },
          "metadata": {
            "needs_background": "light",
            "tags": []
          },
          "output_type": "display_data"
        }
      ],
      "source": [
        "plot_confusion_matrix(y_test,preds)"
      ]
    },
    {
      "cell_type": "code",
      "execution_count": 0,
      "metadata": {
        "colab": {},
        "colab_type": "code",
        "id": "oPuWRyVzMlB2",
        "outputId": "e2415e09-d3d4-43d0-cb2b-87f815433b93",
        "pycharm": {}
      },
      "outputs": [
        {
          "name": "stdout",
          "output_type": "stream",
          "text": [
            "Average precision-recall score on test data: 0.04\n"
          ]
        }
      ],
      "source": [
        "avg_precision_recall \u003d average_precision_score(y_test,preds)\n",
        "print(\u0027Average precision-recall score on test data: {0:0.2f}\u0027.format(\n",
        "      avg_precision_recall))"
      ]
    },
    {
      "cell_type": "code",
      "execution_count": 0,
      "metadata": {
        "colab": {},
        "colab_type": "code",
        "id": "IlMbQ6dlMlB7",
        "outputId": "d5743860-6cc0-4533-e7e7-daab834cb38e",
        "pycharm": {}
      },
      "outputs": [
        {
          "data": {
            "image/png": "[encoded data removed]",
            "text/plain": [
              "\u003cFigure size 432x288 with 1 Axes\u003e"
            ]
          },
          "metadata": {
            "needs_background": "light",
            "tags": []
          },
          "output_type": "display_data"
        }
      ],
      "source": [
        "precision, recall, _ \u003d precision_recall_curve(y_test, preds)\n",
        "\n",
        "prec_rec_curve(precision,recall,avg_precision_recall)"
      ]
    },
    {
      "cell_type": "markdown",
      "metadata": {
        "colab_type": "text",
        "id": "545pwRY8MlB-",
        "pycharm": {}
      },
      "source": "# Conclusions\nThe results of all the methods applied are presented in the following table:  \n![Results](./images/PartC_Results.png)  \nAs we can see, SMOTE performs better than both EasyEnsemble and RandomUndersampling in this case. \nOur original set is highly unbalanced and even a very good method like EasyEnsemble can\u0027t have the outcomes we seek. \nTherefore it is recommended for this case to use SMOTE in order to have the best results."
    }
  ],
  "metadata": {
    "colab": {
      "collapsed_sections": [
        "mJ4vFRexMziL",
        "YTDCovHhM2a4",
        "0HNronQeMk7d",
        "aFAwl_hnM_Cz",
        "Pk-V32SVNDyp",
        "t_JUQdOlMk9p",
        "EYaG02k5Mk-W",
        "X5AYTjrGMk-d",
        "04FUblHSMk-0",
        "QXYIKUTZMk_C",
        "eyyTzaOzMk_e",
        "VVIeBiEpMk_k",
        "ksiA4nvlMk_8",
        "-kecmvBoMlAF",
        "wiJv6FBgMlAe",
        "pYooROAuMlAq",
        "WAB37d76MlBC",
        "fsCz--QlMlBI",
        "BzDttCFKMlBt"
      ],
      "name": "part_c.ipynb",
      "provenance": [],
      "version": "0.3.2"
    },
    "kernelspec": {
      "display_name": "Python 3",
      "language": "python",
      "name": "python3"
    },
    "language_info": {
      "codemirror_mode": {
        "name": "ipython",
        "version": 3
      },
      "file_extension": ".py",
      "mimetype": "text/x-python",
      "name": "python",
      "nbconvert_exporter": "python",
      "pygments_lexer": "ipython3",
      "version": "3.7.0"
    },
    "stem_cell": {
      "cell_type": "raw",
      "metadata": {
        "pycharm": {
          "metadata": false
        }
      },
      "source": ""
    },
    "varInspector": {
      "cols": {
        "lenName": 16,
        "lenType": 16,
        "lenVar": 40
      },
      "kernels_config": {
        "python": {
          "delete_cmd_postfix": "",
          "delete_cmd_prefix": "del ",
          "library": "var_list.py",
          "varRefreshCmd": "print(var_dic_list())"
        },
        "r": {
          "delete_cmd_postfix": ") ",
          "delete_cmd_prefix": "rm(",
          "library": "var_list.r",
          "varRefreshCmd": "cat(var_dic_list()) "
        }
      },
      "types_to_exclude": [
        "module",
        "function",
        "builtin_function_or_method",
        "instance",
        "_Feature"
      ],
      "window_display": false
    }
  },
  "nbformat": 4,
  "nbformat_minor": 1
}