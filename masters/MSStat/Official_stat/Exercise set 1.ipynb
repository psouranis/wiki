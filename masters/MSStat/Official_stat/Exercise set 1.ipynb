{
 "cells": [
  {
   "cell_type": "code",
   "execution_count": 98,
   "metadata": {},
   "outputs": [],
   "source": [
    "import matplotlib.pyplot as plt\n",
    "import modin.pandas as pd\n",
    "import seaborn as sns\n",
    "import numpy as np\n",
    "import warnings\n",
    "\n",
    "warnings.filterwarnings(\"ignore\")\n",
    "%matplotlib inline"
   ]
  },
  {
   "cell_type": "markdown",
   "metadata": {},
   "source": [
    "#### Load Dataset"
   ]
  },
  {
   "cell_type": "code",
   "execution_count": 2,
   "metadata": {},
   "outputs": [],
   "source": [
    "df = pd.read_csv(\"C:/Users/panos/Desktop/official statistics ex1/delayedflights/DelayedFlights.csv\").drop('Unnamed: 0',axis=1)"
   ]
  },
  {
   "cell_type": "code",
   "execution_count": 3,
   "metadata": {},
   "outputs": [
    {
     "data": {
      "text/plain": [
       "Index(['Year', 'Month', 'DayofMonth', 'DayOfWeek', 'DepTime', 'CRSDepTime',\n",
       "       'ArrTime', 'CRSArrTime', 'UniqueCarrier', 'FlightNum', 'TailNum',\n",
       "       'ActualElapsedTime', 'CRSElapsedTime', 'AirTime', 'ArrDelay',\n",
       "       'DepDelay', 'Origin', 'Dest', 'Distance', 'TaxiIn', 'TaxiOut',\n",
       "       'Cancelled', 'CancellationCode', 'Diverted', 'CarrierDelay',\n",
       "       'WeatherDelay', 'NASDelay', 'SecurityDelay', 'LateAircraftDelay'],\n",
       "      dtype='object')"
      ]
     },
     "execution_count": 3,
     "metadata": {},
     "output_type": "execute_result"
    }
   ],
   "source": [
    "df.columns"
   ]
  },
  {
   "cell_type": "markdown",
   "metadata": {},
   "source": [
    "#### Ερώτηση 1:να βρείτε (αν υπάρχουν) και να εμφανίσετε το πλήθος των κενών γραμμών σε κάθε στήλη του dataset"
   ]
  },
  {
   "cell_type": "code",
   "execution_count": 10,
   "metadata": {
    "scrolled": false
   },
   "outputs": [
    {
     "data": {
      "text/html": [
       "<div>\n",
       "<style scoped>\n",
       "    .dataframe tbody tr th:only-of-type {\n",
       "        vertical-align: middle;\n",
       "    }\n",
       "\n",
       "    .dataframe tbody tr th {\n",
       "        vertical-align: top;\n",
       "    }\n",
       "\n",
       "    .dataframe thead th {\n",
       "        text-align: right;\n",
       "    }\n",
       "</style>\n",
       "<table border=\"1\" class=\"dataframe\">\n",
       "  <thead>\n",
       "    <tr style=\"text-align: right;\">\n",
       "      <th></th>\n",
       "      <th>Year</th>\n",
       "      <th>Month</th>\n",
       "      <th>DayofMonth</th>\n",
       "      <th>DayOfWeek</th>\n",
       "      <th>DepTime</th>\n",
       "      <th>CRSDepTime</th>\n",
       "      <th>ArrTime</th>\n",
       "      <th>CRSArrTime</th>\n",
       "      <th>UniqueCarrier</th>\n",
       "      <th>FlightNum</th>\n",
       "      <th>...</th>\n",
       "      <th>TaxiIn</th>\n",
       "      <th>TaxiOut</th>\n",
       "      <th>Cancelled</th>\n",
       "      <th>CancellationCode</th>\n",
       "      <th>Diverted</th>\n",
       "      <th>CarrierDelay</th>\n",
       "      <th>WeatherDelay</th>\n",
       "      <th>NASDelay</th>\n",
       "      <th>SecurityDelay</th>\n",
       "      <th>LateAircraftDelay</th>\n",
       "    </tr>\n",
       "  </thead>\n",
       "  <tbody>\n",
       "    <tr>\n",
       "      <th>0</th>\n",
       "      <td>2008</td>\n",
       "      <td>1</td>\n",
       "      <td>3</td>\n",
       "      <td>4</td>\n",
       "      <td>2003.0</td>\n",
       "      <td>1955</td>\n",
       "      <td>2211.0</td>\n",
       "      <td>2225</td>\n",
       "      <td>WN</td>\n",
       "      <td>335</td>\n",
       "      <td>...</td>\n",
       "      <td>4.0</td>\n",
       "      <td>8.0</td>\n",
       "      <td>0</td>\n",
       "      <td>N</td>\n",
       "      <td>0</td>\n",
       "      <td>NaN</td>\n",
       "      <td>NaN</td>\n",
       "      <td>NaN</td>\n",
       "      <td>NaN</td>\n",
       "      <td>NaN</td>\n",
       "    </tr>\n",
       "    <tr>\n",
       "      <th>1</th>\n",
       "      <td>2008</td>\n",
       "      <td>1</td>\n",
       "      <td>3</td>\n",
       "      <td>4</td>\n",
       "      <td>754.0</td>\n",
       "      <td>735</td>\n",
       "      <td>1002.0</td>\n",
       "      <td>1000</td>\n",
       "      <td>WN</td>\n",
       "      <td>3231</td>\n",
       "      <td>...</td>\n",
       "      <td>5.0</td>\n",
       "      <td>10.0</td>\n",
       "      <td>0</td>\n",
       "      <td>N</td>\n",
       "      <td>0</td>\n",
       "      <td>NaN</td>\n",
       "      <td>NaN</td>\n",
       "      <td>NaN</td>\n",
       "      <td>NaN</td>\n",
       "      <td>NaN</td>\n",
       "    </tr>\n",
       "    <tr>\n",
       "      <th>2</th>\n",
       "      <td>2008</td>\n",
       "      <td>1</td>\n",
       "      <td>3</td>\n",
       "      <td>4</td>\n",
       "      <td>628.0</td>\n",
       "      <td>620</td>\n",
       "      <td>804.0</td>\n",
       "      <td>750</td>\n",
       "      <td>WN</td>\n",
       "      <td>448</td>\n",
       "      <td>...</td>\n",
       "      <td>3.0</td>\n",
       "      <td>17.0</td>\n",
       "      <td>0</td>\n",
       "      <td>N</td>\n",
       "      <td>0</td>\n",
       "      <td>NaN</td>\n",
       "      <td>NaN</td>\n",
       "      <td>NaN</td>\n",
       "      <td>NaN</td>\n",
       "      <td>NaN</td>\n",
       "    </tr>\n",
       "    <tr>\n",
       "      <th>4</th>\n",
       "      <td>2008</td>\n",
       "      <td>1</td>\n",
       "      <td>3</td>\n",
       "      <td>4</td>\n",
       "      <td>1940.0</td>\n",
       "      <td>1915</td>\n",
       "      <td>2121.0</td>\n",
       "      <td>2110</td>\n",
       "      <td>WN</td>\n",
       "      <td>378</td>\n",
       "      <td>...</td>\n",
       "      <td>4.0</td>\n",
       "      <td>10.0</td>\n",
       "      <td>0</td>\n",
       "      <td>N</td>\n",
       "      <td>0</td>\n",
       "      <td>NaN</td>\n",
       "      <td>NaN</td>\n",
       "      <td>NaN</td>\n",
       "      <td>NaN</td>\n",
       "      <td>NaN</td>\n",
       "    </tr>\n",
       "    <tr>\n",
       "      <th>6</th>\n",
       "      <td>2008</td>\n",
       "      <td>1</td>\n",
       "      <td>3</td>\n",
       "      <td>4</td>\n",
       "      <td>706.0</td>\n",
       "      <td>700</td>\n",
       "      <td>916.0</td>\n",
       "      <td>915</td>\n",
       "      <td>WN</td>\n",
       "      <td>100</td>\n",
       "      <td>...</td>\n",
       "      <td>5.0</td>\n",
       "      <td>19.0</td>\n",
       "      <td>0</td>\n",
       "      <td>N</td>\n",
       "      <td>0</td>\n",
       "      <td>NaN</td>\n",
       "      <td>NaN</td>\n",
       "      <td>NaN</td>\n",
       "      <td>NaN</td>\n",
       "      <td>NaN</td>\n",
       "    </tr>\n",
       "    <tr>\n",
       "      <th>...</th>\n",
       "      <td>...</td>\n",
       "      <td>...</td>\n",
       "      <td>...</td>\n",
       "      <td>...</td>\n",
       "      <td>...</td>\n",
       "      <td>...</td>\n",
       "      <td>...</td>\n",
       "      <td>...</td>\n",
       "      <td>...</td>\n",
       "      <td>...</td>\n",
       "      <td>...</td>\n",
       "      <td>...</td>\n",
       "      <td>...</td>\n",
       "      <td>...</td>\n",
       "      <td>...</td>\n",
       "      <td>...</td>\n",
       "      <td>...</td>\n",
       "      <td>...</td>\n",
       "      <td>...</td>\n",
       "      <td>...</td>\n",
       "      <td>...</td>\n",
       "    </tr>\n",
       "    <tr>\n",
       "      <th>1936739</th>\n",
       "      <td>2008</td>\n",
       "      <td>12</td>\n",
       "      <td>13</td>\n",
       "      <td>6</td>\n",
       "      <td>1100.0</td>\n",
       "      <td>1045</td>\n",
       "      <td>1350.0</td>\n",
       "      <td>1347</td>\n",
       "      <td>DL</td>\n",
       "      <td>1530</td>\n",
       "      <td>...</td>\n",
       "      <td>7.0</td>\n",
       "      <td>12.0</td>\n",
       "      <td>0</td>\n",
       "      <td>N</td>\n",
       "      <td>0</td>\n",
       "      <td>NaN</td>\n",
       "      <td>NaN</td>\n",
       "      <td>NaN</td>\n",
       "      <td>NaN</td>\n",
       "      <td>NaN</td>\n",
       "    </tr>\n",
       "    <tr>\n",
       "      <th>1936740</th>\n",
       "      <td>2008</td>\n",
       "      <td>12</td>\n",
       "      <td>13</td>\n",
       "      <td>6</td>\n",
       "      <td>1200.0</td>\n",
       "      <td>1150</td>\n",
       "      <td>1924.0</td>\n",
       "      <td>1921</td>\n",
       "      <td>DL</td>\n",
       "      <td>1538</td>\n",
       "      <td>...</td>\n",
       "      <td>11.0</td>\n",
       "      <td>15.0</td>\n",
       "      <td>0</td>\n",
       "      <td>N</td>\n",
       "      <td>0</td>\n",
       "      <td>NaN</td>\n",
       "      <td>NaN</td>\n",
       "      <td>NaN</td>\n",
       "      <td>NaN</td>\n",
       "      <td>NaN</td>\n",
       "    </tr>\n",
       "    <tr>\n",
       "      <th>1936750</th>\n",
       "      <td>2008</td>\n",
       "      <td>12</td>\n",
       "      <td>13</td>\n",
       "      <td>6</td>\n",
       "      <td>1531.0</td>\n",
       "      <td>1522</td>\n",
       "      <td>1822.0</td>\n",
       "      <td>1823</td>\n",
       "      <td>DL</td>\n",
       "      <td>1612</td>\n",
       "      <td>...</td>\n",
       "      <td>9.0</td>\n",
       "      <td>14.0</td>\n",
       "      <td>0</td>\n",
       "      <td>N</td>\n",
       "      <td>0</td>\n",
       "      <td>NaN</td>\n",
       "      <td>NaN</td>\n",
       "      <td>NaN</td>\n",
       "      <td>NaN</td>\n",
       "      <td>NaN</td>\n",
       "    </tr>\n",
       "    <tr>\n",
       "      <th>1936756</th>\n",
       "      <td>2008</td>\n",
       "      <td>12</td>\n",
       "      <td>13</td>\n",
       "      <td>6</td>\n",
       "      <td>1251.0</td>\n",
       "      <td>1240</td>\n",
       "      <td>1446.0</td>\n",
       "      <td>1437</td>\n",
       "      <td>DL</td>\n",
       "      <td>1639</td>\n",
       "      <td>...</td>\n",
       "      <td>13.0</td>\n",
       "      <td>13.0</td>\n",
       "      <td>0</td>\n",
       "      <td>N</td>\n",
       "      <td>0</td>\n",
       "      <td>NaN</td>\n",
       "      <td>NaN</td>\n",
       "      <td>NaN</td>\n",
       "      <td>NaN</td>\n",
       "      <td>NaN</td>\n",
       "    </tr>\n",
       "    <tr>\n",
       "      <th>1936757</th>\n",
       "      <td>2008</td>\n",
       "      <td>12</td>\n",
       "      <td>13</td>\n",
       "      <td>6</td>\n",
       "      <td>1110.0</td>\n",
       "      <td>1103</td>\n",
       "      <td>1413.0</td>\n",
       "      <td>1418</td>\n",
       "      <td>DL</td>\n",
       "      <td>1641</td>\n",
       "      <td>...</td>\n",
       "      <td>8.0</td>\n",
       "      <td>11.0</td>\n",
       "      <td>0</td>\n",
       "      <td>N</td>\n",
       "      <td>0</td>\n",
       "      <td>NaN</td>\n",
       "      <td>NaN</td>\n",
       "      <td>NaN</td>\n",
       "      <td>NaN</td>\n",
       "      <td>NaN</td>\n",
       "    </tr>\n",
       "  </tbody>\n",
       "</table>\n",
       "<p>689272 rows x 29 columns</p>\n",
       "</div>"
      ],
      "text/plain": [
       "         Year  Month  DayofMonth  DayOfWeek  DepTime  CRSDepTime  ArrTime  \\\n",
       "0        2008      1           3          4   2003.0        1955   2211.0   \n",
       "1        2008      1           3          4    754.0         735   1002.0   \n",
       "2        2008      1           3          4    628.0         620    804.0   \n",
       "4        2008      1           3          4   1940.0        1915   2121.0   \n",
       "6        2008      1           3          4    706.0         700    916.0   \n",
       "...       ...    ...         ...        ...      ...         ...      ...   \n",
       "1936739  2008     12          13          6   1100.0        1045   1350.0   \n",
       "1936740  2008     12          13          6   1200.0        1150   1924.0   \n",
       "1936750  2008     12          13          6   1531.0        1522   1822.0   \n",
       "1936756  2008     12          13          6   1251.0        1240   1446.0   \n",
       "1936757  2008     12          13          6   1110.0        1103   1413.0   \n",
       "\n",
       "         CRSArrTime UniqueCarrier  FlightNum  ... TaxiIn  TaxiOut  Cancelled  \\\n",
       "0              2225            WN        335  ...    4.0      8.0          0   \n",
       "1              1000            WN       3231  ...    5.0     10.0          0   \n",
       "2               750            WN        448  ...    3.0     17.0          0   \n",
       "4              2110            WN        378  ...    4.0     10.0          0   \n",
       "6               915            WN        100  ...    5.0     19.0          0   \n",
       "...             ...           ...        ...  ...    ...      ...        ...   \n",
       "1936739        1347            DL       1530  ...    7.0     12.0          0   \n",
       "1936740        1921            DL       1538  ...   11.0     15.0          0   \n",
       "1936750        1823            DL       1612  ...    9.0     14.0          0   \n",
       "1936756        1437            DL       1639  ...   13.0     13.0          0   \n",
       "1936757        1418            DL       1641  ...    8.0     11.0          0   \n",
       "\n",
       "         CancellationCode  Diverted CarrierDelay  WeatherDelay  NASDelay  \\\n",
       "0                       N         0          NaN           NaN       NaN   \n",
       "1                       N         0          NaN           NaN       NaN   \n",
       "2                       N         0          NaN           NaN       NaN   \n",
       "4                       N         0          NaN           NaN       NaN   \n",
       "6                       N         0          NaN           NaN       NaN   \n",
       "...                   ...       ...          ...           ...       ...   \n",
       "1936739                 N         0          NaN           NaN       NaN   \n",
       "1936740                 N         0          NaN           NaN       NaN   \n",
       "1936750                 N         0          NaN           NaN       NaN   \n",
       "1936756                 N         0          NaN           NaN       NaN   \n",
       "1936757                 N         0          NaN           NaN       NaN   \n",
       "\n",
       "         SecurityDelay  LateAircraftDelay  \n",
       "0                  NaN                NaN  \n",
       "1                  NaN                NaN  \n",
       "2                  NaN                NaN  \n",
       "4                  NaN                NaN  \n",
       "6                  NaN                NaN  \n",
       "...                ...                ...  \n",
       "1936739            NaN                NaN  \n",
       "1936740            NaN                NaN  \n",
       "1936750            NaN                NaN  \n",
       "1936756            NaN                NaN  \n",
       "1936757            NaN                NaN  \n",
       "\n",
       "[689272 rows x 29 columns]"
      ]
     },
     "execution_count": 10,
     "metadata": {},
     "output_type": "execute_result"
    }
   ],
   "source": [
    "df[df.isnull().any(axis=1)]"
   ]
  },
  {
   "cell_type": "markdown",
   "metadata": {},
   "source": [
    "#### Ερώτηση 2:να υπολογίσετε και να εμφανίσετε ποια ημέρα σε ποιον μήνα σημειώθηκαν οι περισσότερες καθυστερήσεις πτήσεων"
   ]
  },
  {
   "cell_type": "code",
   "execution_count": 4,
   "metadata": {},
   "outputs": [
    {
     "data": {
      "text/html": [
       "<div>\n",
       "<style scoped>\n",
       "    .dataframe tbody tr th:only-of-type {\n",
       "        vertical-align: middle;\n",
       "    }\n",
       "\n",
       "    .dataframe tbody tr th {\n",
       "        vertical-align: top;\n",
       "    }\n",
       "\n",
       "    .dataframe thead th {\n",
       "        text-align: right;\n",
       "    }\n",
       "</style>\n",
       "<table border=\"1\" class=\"dataframe\">\n",
       "  <thead>\n",
       "    <tr style=\"text-align: right;\">\n",
       "      <th></th>\n",
       "      <th>Month</th>\n",
       "      <th>DayofMonth</th>\n",
       "      <th>DepDelay</th>\n",
       "    </tr>\n",
       "  </thead>\n",
       "  <tbody>\n",
       "    <tr>\n",
       "      <th>60916</th>\n",
       "      <td>1</td>\n",
       "      <td>21</td>\n",
       "      <td>6.0</td>\n",
       "    </tr>\n",
       "    <tr>\n",
       "      <th>904818</th>\n",
       "      <td>6</td>\n",
       "      <td>19</td>\n",
       "      <td>6.0</td>\n",
       "    </tr>\n",
       "    <tr>\n",
       "      <th>1431915</th>\n",
       "      <td>9</td>\n",
       "      <td>9</td>\n",
       "      <td>6.0</td>\n",
       "    </tr>\n",
       "    <tr>\n",
       "      <th>147855</th>\n",
       "      <td>1</td>\n",
       "      <td>18</td>\n",
       "      <td>6.0</td>\n",
       "    </tr>\n",
       "    <tr>\n",
       "      <th>555175</th>\n",
       "      <td>3</td>\n",
       "      <td>25</td>\n",
       "      <td>6.0</td>\n",
       "    </tr>\n",
       "  </tbody>\n",
       "</table>\n",
       "</div>"
      ],
      "text/plain": [
       "         Month  DayofMonth  DepDelay\n",
       "60916        1          21       6.0\n",
       "904818       6          19       6.0\n",
       "1431915      9           9       6.0\n",
       "147855       1          18       6.0\n",
       "555175       3          25       6.0"
      ]
     },
     "execution_count": 4,
     "metadata": {},
     "output_type": "execute_result"
    }
   ],
   "source": [
    "df.sort_values(by=[\"DepDelay\"]).loc[[\"Month\",\"DayofMonth\",\"DepDelay\"]].dropna().head()"
   ]
  },
  {
   "cell_type": "markdown",
   "metadata": {},
   "source": [
    "#### Ερώτηση 3: να υπολογίσετε και να εμφανίσετε τον ημερήσιο μέσο όρο καθυστερήσεων για καθέναν από τους θερινούς μήνες του 2008"
   ]
  },
  {
   "cell_type": "code",
   "execution_count": 5,
   "metadata": {},
   "outputs": [
    {
     "name": "stdout",
     "output_type": "stream",
     "text": [
      "Departure Delay for day 1  of month 5: 33.7128\n",
      "Departure Delay for day 2  of month 5: 60.2859\n",
      "Departure Delay for day 3  of month 5: 37.4444\n",
      "Departure Delay for day 4  of month 5: 35.8835\n",
      "Departure Delay for day 5  of month 5: 35.6033\n",
      "Departure Delay for day 6  of month 5: 34.1905\n",
      "Departure Delay for day 7  of month 5: 37.0527\n",
      "Departure Delay for day 8  of month 5: 32.1438\n",
      "Departure Delay for day 9  of month 5: 41.4769\n",
      "Departure Delay for day 10  of month 5: 29.5868\n",
      "Departure Delay for day 11  of month 5: 39.9138\n",
      "Departure Delay for day 12  of month 5: 42.7885\n",
      "Departure Delay for day 13  of month 5: 31.5885\n",
      "Departure Delay for day 14  of month 5: 36.2448\n",
      "Departure Delay for day 15  of month 5: 30.6674\n",
      "Departure Delay for day 16  of month 5: 43.3566\n",
      "Departure Delay for day 17  of month 5: 31.6660\n",
      "Departure Delay for day 18  of month 5: 37.7413\n",
      "Departure Delay for day 19  of month 5: 34.3894\n",
      "Departure Delay for day 20  of month 5: 44.3270\n",
      "Departure Delay for day 21  of month 5: 31.6972\n",
      "Departure Delay for day 22  of month 5: 39.8920\n",
      "Departure Delay for day 23  of month 5: 34.6066\n",
      "Departure Delay for day 24  of month 5: 31.7312\n",
      "Departure Delay for day 25  of month 5: 33.6195\n",
      "Departure Delay for day 26  of month 5: 33.8258\n",
      "Departure Delay for day 27  of month 5: 61.1948\n",
      "Departure Delay for day 28  of month 5: 31.8095\n",
      "Departure Delay for day 29  of month 5: 31.5414\n",
      "Departure Delay for day 30  of month 5: 44.1754\n",
      "Departure Delay for day 31  of month 5: 50.5209\n",
      "Departure Delay for day 1  of month 6: 36.0546\n",
      "Departure Delay for day 2  of month 6: 32.6019\n",
      "Departure Delay for day 3  of month 6: 46.4595\n",
      "Departure Delay for day 4  of month 6: 53.9205\n",
      "Departure Delay for day 5  of month 6: 44.1945\n",
      "Departure Delay for day 6  of month 6: 48.6142\n",
      "Departure Delay for day 7  of month 6: 41.4813\n",
      "Departure Delay for day 8  of month 6: 59.1451\n",
      "Departure Delay for day 9  of month 6: 46.3187\n",
      "Departure Delay for day 10  of month 6: 48.7587\n",
      "Departure Delay for day 11  of month 6: 37.3871\n",
      "Departure Delay for day 12  of month 6: 35.8044\n",
      "Departure Delay for day 13  of month 6: 45.4393\n",
      "Departure Delay for day 14  of month 6: 45.9119\n",
      "Departure Delay for day 15  of month 6: 48.8636\n",
      "Departure Delay for day 16  of month 6: 55.3491\n",
      "Departure Delay for day 17  of month 6: 40.4150\n",
      "Departure Delay for day 18  of month 6: 42.5522\n",
      "Departure Delay for day 19  of month 6: 47.2818\n",
      "Departure Delay for day 20  of month 6: 37.5443\n",
      "Departure Delay for day 21  of month 6: 39.9847\n",
      "Departure Delay for day 22  of month 6: 55.9837\n",
      "Departure Delay for day 23  of month 6: 48.4560\n",
      "Departure Delay for day 24  of month 6: 39.4242\n",
      "Departure Delay for day 25  of month 6: 40.4389\n",
      "Departure Delay for day 26  of month 6: 53.7702\n",
      "Departure Delay for day 27  of month 6: 45.1308\n",
      "Departure Delay for day 28  of month 6: 43.5060\n",
      "Departure Delay for day 29  of month 6: 56.4884\n",
      "Departure Delay for day 30  of month 6: 36.2656\n",
      "Departure Delay for day 1  of month 7: 33.1905\n",
      "Departure Delay for day 2  of month 7: 47.4921\n",
      "Departure Delay for day 3  of month 7: 35.5450\n",
      "Departure Delay for day 4  of month 7: 36.3193\n",
      "Departure Delay for day 5  of month 7: 38.2315\n",
      "Departure Delay for day 6  of month 7: 60.5389\n",
      "Departure Delay for day 7  of month 7: 45.2556\n",
      "Departure Delay for day 8  of month 7: 51.2866\n",
      "Departure Delay for day 9  of month 7: 46.2563\n",
      "Departure Delay for day 10  of month 7: 64.1151\n",
      "Departure Delay for day 11  of month 7: 36.9308\n",
      "Departure Delay for day 12  of month 7: 37.7914\n",
      "Departure Delay for day 13  of month 7: 76.2622\n",
      "Departure Delay for day 14  of month 7: 39.0578\n",
      "Departure Delay for day 15  of month 7: 38.9155\n",
      "Departure Delay for day 16  of month 7: 35.0024\n",
      "Departure Delay for day 17  of month 7: 36.3503\n",
      "Departure Delay for day 18  of month 7: 40.4235\n",
      "Departure Delay for day 19  of month 7: 36.8802\n",
      "Departure Delay for day 20  of month 7: 48.3388\n",
      "Departure Delay for day 21  of month 7: 39.0829\n",
      "Departure Delay for day 22  of month 7: 46.5371\n",
      "Departure Delay for day 23  of month 7: 61.5213\n",
      "Departure Delay for day 24  of month 7: 51.0459\n",
      "Departure Delay for day 25  of month 7: 38.2571\n",
      "Departure Delay for day 26  of month 7: 37.0522\n",
      "Departure Delay for day 27  of month 7: 68.2565\n",
      "Departure Delay for day 28  of month 7: 40.8364\n",
      "Departure Delay for day 29  of month 7: 43.0597\n",
      "Departure Delay for day 30  of month 7: 38.8682\n",
      "Departure Delay for day 31  of month 7: 58.4556\n",
      "Departure Delay for day 1  of month 8: 39.3560\n",
      "Departure Delay for day 2  of month 8: 53.6355\n",
      "Departure Delay for day 3  of month 8: 38.8992\n",
      "Departure Delay for day 4  of month 8: 56.9261\n",
      "Departure Delay for day 5  of month 8: 43.4832\n",
      "Departure Delay for day 6  of month 8: 38.7824\n",
      "Departure Delay for day 7  of month 8: 49.7374\n",
      "Departure Delay for day 8  of month 8: 45.4270\n",
      "Departure Delay for day 9  of month 8: 35.3736\n",
      "Departure Delay for day 10  of month 8: 60.7885\n",
      "Departure Delay for day 11  of month 8: 59.6301\n",
      "Departure Delay for day 12  of month 8: 36.9522\n",
      "Departure Delay for day 13  of month 8: 36.9120\n",
      "Departure Delay for day 14  of month 8: 54.7737\n",
      "Departure Delay for day 15  of month 8: 54.3164\n",
      "Departure Delay for day 16  of month 8: 42.1825\n",
      "Departure Delay for day 17  of month 8: 35.7932\n",
      "Departure Delay for day 18  of month 8: 37.0366\n",
      "Departure Delay for day 19  of month 8: 34.3023\n",
      "Departure Delay for day 20  of month 8: 40.5891\n",
      "Departure Delay for day 21  of month 8: 43.9135\n",
      "Departure Delay for day 22  of month 8: 38.4066\n",
      "Departure Delay for day 23  of month 8: 35.1159\n",
      "Departure Delay for day 24  of month 8: 32.9331\n",
      "Departure Delay for day 25  of month 8: 48.2588\n",
      "Departure Delay for day 26  of month 8: 47.7831\n",
      "Departure Delay for day 27  of month 8: 32.6840\n",
      "Departure Delay for day 28  of month 8: 33.6312\n",
      "Departure Delay for day 29  of month 8: 36.9272\n",
      "Departure Delay for day 30  of month 8: 32.0336\n",
      "Departure Delay for day 31  of month 8: 32.1714\n"
     ]
    }
   ],
   "source": [
    "summer_months = [5,6,7,8]\n",
    "for m in summer_months:\n",
    "    days_of_month = np.unique(df.loc[df[\"Month\"]==m].loc[\"DayofMonth\"])\n",
    "    for d in days_of_month:\n",
    "        print(\"Departure Delay for day %.f  of month %.f: %.4f\"%(d,m,df.loc[(df[\"Month\"]==m) & (df[\"DayofMonth\"]==d)].loc[[\"DepDelay\"]].mean()))"
   ]
  },
  {
   "cell_type": "markdown",
   "metadata": {},
   "source": [
    "#### Ερώτηση 4: να υπολογίσετε και να εμφανίσετε το όνομα της αεροπορικής εταιρίας που είχε το μεγαλύτερο πλήθος κωδικών ακύρωσης τύπου Β"
   ]
  },
  {
   "cell_type": "code",
   "execution_count": 37,
   "metadata": {},
   "outputs": [
    {
     "data": {
      "text/plain": [
       "CancellationCode    MQ\n",
       "dtype: object"
      ]
     },
     "execution_count": 37,
     "metadata": {},
     "output_type": "execute_result"
    }
   ],
   "source": [
    "df[df.loc[\"CancellationCode\"] == \"B\"].loc[[\"UniqueCarrier\",\"CancellationCode\"]].groupby(\"UniqueCarrier\").count().idxmax()"
   ]
  },
  {
   "cell_type": "markdown",
   "metadata": {},
   "source": [
    "#### Ερώτηση 5: να βρείτε τους κωδικούς των πτήσεων με τον μεγαλύτερο αριθμό καθυστερήσεων"
   ]
  },
  {
   "cell_type": "code",
   "execution_count": 6,
   "metadata": {},
   "outputs": [
    {
     "data": {
      "text/plain": [
       "686014     1699\n",
       "322516      808\n",
       "839306     1107\n",
       "1009553    3538\n",
       "1881639     357\n",
       "           ... \n",
       "1276068    2250\n",
       "1276056    2657\n",
       "596596     3515\n",
       "1276055    1253\n",
       "1364282     417\n",
       "Name: FlightNum, Length: 1936758, dtype: int64"
      ]
     },
     "execution_count": 6,
     "metadata": {},
     "output_type": "execute_result"
    }
   ],
   "source": [
    "df.sort_values(by=[\"DepDelay\"],ascending=False).loc[\"FlightNum\"]"
   ]
  },
  {
   "cell_type": "markdown",
   "metadata": {},
   "source": [
    "#### Ερώτηση 6: να βρείτε και να υπολογίσετε το όνομα του μεγαλύτερου σε απόσταση προορισμού με τις περισσότερες καθυστερήσεις"
   ]
  },
  {
   "cell_type": "code",
   "execution_count": 54,
   "metadata": {},
   "outputs": [
    {
     "data": {
      "text/plain": [
       "ArrDelay     662.0\n",
       "Distance    4962.0\n",
       "Name: 178838, dtype: float64"
      ]
     },
     "execution_count": 54,
     "metadata": {},
     "output_type": "execute_result"
    }
   ],
   "source": [
    "df.sort_values(by=[\"Distance\",\"ArrDelay\"],ascending=[False,False]).loc[[\"ArrDelay\",\"Distance\"]].iloc[0]"
   ]
  },
  {
   "cell_type": "markdown",
   "metadata": {},
   "source": [
    "#### Ερώτηση 7: να βρείτε και να εμφανίσετε τους προορισμούς που είχαν την μεγαλύτερη καθυστέρηση (πτήσεις που εκτελέστηκαν)"
   ]
  },
  {
   "cell_type": "code",
   "execution_count": 7,
   "metadata": {},
   "outputs": [
    {
     "data": {
      "text/plain": [
       "686014     CLT\n",
       "322516     HNL\n",
       "839306     RSW\n",
       "1009553    LIT\n",
       "1881639    BOS\n",
       "Name: Origin, dtype: object"
      ]
     },
     "execution_count": 7,
     "metadata": {},
     "output_type": "execute_result"
    }
   ],
   "source": [
    "df[df.loc[\"Cancelled\"]==0].sort_values(by=[\"DepDelay\"],ascending=False).loc[\"Origin\"].head()"
   ]
  },
  {
   "cell_type": "markdown",
   "metadata": {},
   "source": [
    "#### Ερώτηση 8: να βρείτε και να εμφανίσετε το όνομα της αεροπορικής εταιρείας που είχε τις μεγαλύτερες καθυστερήσεις που οφείλονται σε καθυστερημένη άφιξη αεροσκαφών"
   ]
  },
  {
   "cell_type": "code",
   "execution_count": 15,
   "metadata": {},
   "outputs": [
    {
     "name": "stdout",
     "output_type": "stream",
     "text": [
      "Carrier with most delays due to aircraft delay : AA \n"
     ]
    }
   ],
   "source": [
    "print(\"Carrier with most delays due to aircraft delay : %s \" %df.sort_values(by = [\"LateAircraftDelay\"],ascending=False).loc[\"UniqueCarrier\"].values[0])"
   ]
  },
  {
   "cell_type": "markdown",
   "metadata": {},
   "source": [
    "#### Ερώτηση 9: να υπολογίσετε πόσες ακυρώσεις πτήσεων τύπου Α σημειώθηκαν την 13η ημέρα κάθε μήνα"
   ]
  },
  {
   "cell_type": "code",
   "execution_count": 48,
   "metadata": {},
   "outputs": [
    {
     "name": "stderr",
     "output_type": "stream",
     "text": [
      "UserWarning: Distributing <class 'NoneType'> object. This may take some time.\n"
     ]
    },
    {
     "name": "stdout",
     "output_type": "stream",
     "text": [
      "In month 1 0 type A flights were cancelled on Day 13\n",
      "In month 2 0 type A flights were cancelled on Day 13\n",
      "In month 3 0 type A flights were cancelled on Day 13\n",
      "In month 4 0 type A flights were cancelled on Day 13\n",
      "In month 5 0 type A flights were cancelled on Day 13\n",
      "In month 6 0 type A flights were cancelled on Day 13\n",
      "In month 7 0 type A flights were cancelled on Day 13\n",
      "In month 8 0 type A flights were cancelled on Day 13\n",
      "In month 9 0 type A flights were cancelled on Day 13\n",
      "In month 10 0 type A flights were cancelled on Day 13\n",
      "In month 11 2 type A flights were cancelled on Day 13\n",
      "In month 12 3 type A flights were cancelled on Day 13\n"
     ]
    }
   ],
   "source": [
    "for m in np.unique(df[\"Month\"].values):\n",
    "    count = df.loc[(df[\"Cancelled\"]==1) & (df[\"DayofMonth\"]==13) & (df[\"CancellationCode\"] == \"A\") & (df[\"Month\"]==m)]\n",
    "    print(\"In month %.f %.f type A flights were cancelled on Day %.f\" %(m,count.shape[0],13))\n"
   ]
  },
  {
   "cell_type": "markdown",
   "metadata": {},
   "source": [
    "#### Ερώτηση 10: υπολογίσετε και να εμφανίσετε την μέση καθυστέρηση πτήσεων που εκτελέστηκαν από την 10η μέχρι την 23 Απριλίου 2008"
   ]
  },
  {
   "cell_type": "code",
   "execution_count": 54,
   "metadata": {},
   "outputs": [
    {
     "name": "stdout",
     "output_type": "stream",
     "text": [
      "Average delay between April 10 and April 23 35.4506 minutes\n"
     ]
    }
   ],
   "source": [
    "print(\"Average delay between April 10 and April 23 %.4f minutes\" %df.loc[(df[\"Month\"]==4) & (df[\"DayofMonth\"]>9) & (df[\"DayofMonth\"]<24)].loc[[\"ArrDelay\"]].mean())\n",
    "    "
   ]
  },
  {
   "cell_type": "markdown",
   "metadata": {},
   "source": [
    "#### Ερώτηση 11: να υπολογίσετε και να εμφανίσετε τον μήνα που σημειώθηκε η μεγαλύτερη καθυστέρηση που οφειλόταν σε έλεγχους ασφαλείας κατά τις ώρες 06.00-14.00"
   ]
  },
  {
   "cell_type": "code",
   "execution_count": 138,
   "metadata": {},
   "outputs": [
    {
     "name": "stdout",
     "output_type": "stream",
     "text": [
      "Month with biggest delay due to security check : 7 \n"
     ]
    }
   ],
   "source": [
    "s = df.loc[df.loc[(df[\"ArrTime\"] > 600) & (df[\"ArrTime\"]<1400)].loc[\"SecurityDelay\"].dropna().idxmax()][\"Month\"]\n",
    "print(\"Month with biggest delay due to security check : %.f \" %s)"
   ]
  },
  {
   "cell_type": "markdown",
   "metadata": {},
   "source": [
    "#### Ερώτηση 12: να υπολογίσετε και να εμφανίσετε ποιος κωδικός πτήσης(αριθμός πτήσης) είχε το πρώτο δεκαήμερο του Νοεμβρίου του 2008 την μεγαλύτερη προ του αναμενόμενου χρόνου άφιξη στον προορισμό της"
   ]
  },
  {
   "cell_type": "code",
   "execution_count": 51,
   "metadata": {},
   "outputs": [
    {
     "data": {
      "text/html": [
       "<div>\n",
       "<style scoped>\n",
       "    .dataframe tbody tr th:only-of-type {\n",
       "        vertical-align: middle;\n",
       "    }\n",
       "\n",
       "    .dataframe tbody tr th {\n",
       "        vertical-align: top;\n",
       "    }\n",
       "\n",
       "    .dataframe thead th {\n",
       "        text-align: right;\n",
       "    }\n",
       "</style>\n",
       "<table border=\"1\" class=\"dataframe\">\n",
       "  <thead>\n",
       "    <tr style=\"text-align: right;\">\n",
       "      <th></th>\n",
       "      <th>ArrDelay</th>\n",
       "    </tr>\n",
       "  </thead>\n",
       "  <tbody>\n",
       "    <tr>\n",
       "      <th>1731259</th>\n",
       "      <td>-56.0</td>\n",
       "    </tr>\n",
       "    <tr>\n",
       "      <th>1715798</th>\n",
       "      <td>-45.0</td>\n",
       "    </tr>\n",
       "    <tr>\n",
       "      <th>1721619</th>\n",
       "      <td>-44.0</td>\n",
       "    </tr>\n",
       "    <tr>\n",
       "      <th>1712499</th>\n",
       "      <td>-44.0</td>\n",
       "    </tr>\n",
       "    <tr>\n",
       "      <th>1628473</th>\n",
       "      <td>-43.0</td>\n",
       "    </tr>\n",
       "  </tbody>\n",
       "</table>\n",
       "</div>"
      ],
      "text/plain": [
       "         ArrDelay\n",
       "1731259     -56.0\n",
       "1715798     -45.0\n",
       "1721619     -44.0\n",
       "1712499     -44.0\n",
       "1628473     -43.0"
      ]
     },
     "execution_count": 51,
     "metadata": {},
     "output_type": "execute_result"
    }
   ],
   "source": [
    "df.loc[(df[\"DayofMonth\"] <11) & (df[\"Month\"]==11)].loc[[\"ArrDelay\"]].sort_values(by=[\"ArrDelay\"],ascending=True).head()"
   ]
  },
  {
   "cell_type": "code",
   "execution_count": 60,
   "metadata": {},
   "outputs": [
    {
     "name": "stdout",
     "output_type": "stream",
     "text": [
      "Number of flight with earlier departure : 95\n"
     ]
    }
   ],
   "source": [
    "idx = df.loc[(df[\"DayofMonth\"] <11) & (df[\"Month\"]==11)].loc[[\"ArrDelay\"]].sort_values(by=[\"ArrDelay\"],ascending=True).head().idxmin()\n",
    "numflight = df.loc[idx][\"FlightNum\"]\n",
    "print(\"Number of flight with earlier departure : %.f\" %numflight)"
   ]
  },
  {
   "cell_type": "markdown",
   "metadata": {},
   "source": [
    "#### Ερώτηση 13: να υπολογίσετε και να εμφανίσετε ποιο αεροδρόμιο (τοποθεσία αναχώρησης) είχε το δεύτερο δεκαήμερο του Αυγούστου 2018 τις περισσότερες πτήσεις με καθυστέρηση(αναχωρίσεων) μεγαλύτερη από μισή ώρα που οφείλονται στους αερομεταφορείς"
   ]
  },
  {
   "cell_type": "code",
   "execution_count": 79,
   "metadata": {},
   "outputs": [
    {
     "data": {
      "text/plain": [
       "LateAircraftDelay    WN\n",
       "dtype: object"
      ]
     },
     "execution_count": 79,
     "metadata": {},
     "output_type": "execute_result"
    }
   ],
   "source": [
    "df.loc[(df[\"DayofMonth\"]<20) & (df[\"DayofMonth\"]>10)& (df[\"Month\"]==8) & (df[\"LateAircraftDelay\"]>30)].loc[[\"UniqueCarrier\",\"LateAircraftDelay\"]].groupby(\"UniqueCarrier\").count().sort_values(by=\"LateAircraftDelay\",ascending=False).idxmax()\n"
   ]
  },
  {
   "cell_type": "markdown",
   "metadata": {},
   "source": [
    "#### Ερώτηση 14: να βρείτε και να εμφανίσετε τις πτήσεις που εκτράπηκαν από την πορεία τους αλλά ολοκληρώθηκαν καθώς και τον συνολικό χρόνο που απαιτήθηκε"
   ]
  },
  {
   "cell_type": "code",
   "execution_count": 102,
   "metadata": {},
   "outputs": [
    {
     "name": "stderr",
     "output_type": "stream",
     "text": [
      "distributed.scheduler - ERROR - Workers don't have promised key: ['tcp://127.0.0.1:50048'], apply_list_of_funcs-c5b95eb9710621316885f8b418d4579c\n",
      "NoneType: None\n",
      "distributed.client - WARNING - Couldn't gather 1 keys, rescheduling {'apply_list_of_funcs-c5b95eb9710621316885f8b418d4579c': ('tcp://127.0.0.1:50048',)}\n"
     ]
    },
    {
     "data": {
      "text/plain": [
       "1524962    -368.0\n",
       "1525257    -324.0\n",
       "1525408    -360.0\n",
       "1525811    -513.0\n",
       "1526316    -420.0\n",
       "            ...  \n",
       "1934369    1899.0\n",
       "1934921    1935.0\n",
       "1935596    -439.0\n",
       "1935716    1348.0\n",
       "1935978    -579.0\n",
       "Length: 1277, dtype: float64"
      ]
     },
     "execution_count": 102,
     "metadata": {},
     "output_type": "execute_result"
    }
   ],
   "source": [
    "(df.loc[df[\"Diverted\"]==1][\"DepTime\"] - df.loc[df[\"Diverted\"]==1][\"ArrTime\"]).dropna()"
   ]
  },
  {
   "cell_type": "markdown",
   "metadata": {},
   "source": [
    "#### Ερώτηση 15: ποιος μήνας είχε την μεγαλύτερη τυπική απόκλιση σε καθυστερήσεις (\"πιο απρόβλεπτος μήνας\"). Ως απόκλιση να θεωρηθεί η διαφορά ανάμεσα στον προγραμματισμένο και τον πραγματικό χρόνο εκτέλεσης της πτήσης"
   ]
  },
  {
   "cell_type": "code",
   "execution_count": 126,
   "metadata": {},
   "outputs": [
    {
     "name": "stdout",
     "output_type": "stream",
     "text": [
      "Maximum variance at month 7\n"
     ]
    }
   ],
   "source": [
    "vals = {}\n",
    "for i in np.unique(df[\"Month\"]):\n",
    "    s = np.ravel(pd.DataFrame(df.loc[df[\"Month\"]==i].loc[\"CRSArrTime\"] - df.loc[df[\"Month\"]==i].loc[\"ArrTime\"]).dropna().values)\n",
    "    vals[i] = s.var()\n",
    "## finding the maximum value   \n",
    "values = list(vals.values())\n",
    "max_val = max(values)\n",
    "for key in vals.keys():\n",
    "    if vals[key] == max_val:\n",
    "        print(\"Maximum variance at month %.f\" %key)"
   ]
  },
  {
   "cell_type": "code",
   "execution_count": null,
   "metadata": {},
   "outputs": [],
   "source": [
    "## End ##"
   ]
  }
 ],
 "metadata": {
  "kernelspec": {
   "display_name": "Python 3",
   "language": "python",
   "name": "python3"
  },
  "language_info": {
   "codemirror_mode": {
    "name": "ipython",
    "version": 3
   },
   "file_extension": ".py",
   "mimetype": "text/x-python",
   "name": "python",
   "nbconvert_exporter": "python",
   "pygments_lexer": "ipython3",
   "version": "3.6.9"
  },
  "varInspector": {
   "cols": {
    "lenName": 16,
    "lenType": 16,
    "lenVar": 40
   },
   "kernels_config": {
    "python": {
     "delete_cmd_postfix": "",
     "delete_cmd_prefix": "del ",
     "library": "var_list.py",
     "varRefreshCmd": "print(var_dic_list())"
    },
    "r": {
     "delete_cmd_postfix": ") ",
     "delete_cmd_prefix": "rm(",
     "library": "var_list.r",
     "varRefreshCmd": "cat(var_dic_list()) "
    }
   },
   "types_to_exclude": [
    "module",
    "function",
    "builtin_function_or_method",
    "instance",
    "_Feature"
   ],
   "window_display": false
  }
 },
 "nbformat": 4,
 "nbformat_minor": 2
}
